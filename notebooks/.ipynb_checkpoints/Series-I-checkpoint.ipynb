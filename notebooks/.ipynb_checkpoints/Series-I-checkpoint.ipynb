{
 "cells": [
  {
   "cell_type": "markdown",
   "id": "0488f775-5a33-4bec-b0e9-13ac672ec057",
   "metadata": {},
   "source": [
    "# Series"
   ]
  },
  {
   "cell_type": "markdown",
   "id": "9c7a7982-dcc6-4a8c-9e08-be5553879708",
   "metadata": {},
   "source": [
    "1D Series with associated labels"
   ]
  },
  {
   "cell_type": "code",
   "execution_count": 68,
   "id": "a899efd2-8f3b-442e-bc3b-4ef0543fbc80",
   "metadata": {},
   "outputs": [],
   "source": [
    "import pandas as pd"
   ]
  },
  {
   "cell_type": "code",
   "execution_count": 69,
   "id": "293b943d-89ec-4662-9dd4-ce29eb9787fa",
   "metadata": {},
   "outputs": [],
   "source": [
    "students = ['Gaurav', 'Saurav', 'Sangeeta', 'Sarita']"
   ]
  },
  {
   "cell_type": "code",
   "execution_count": 70,
   "id": "5be63933-1785-4ebb-a92b-3ed0261e683a",
   "metadata": {},
   "outputs": [
    {
     "data": {
      "text/plain": [
       "list"
      ]
     },
     "execution_count": 70,
     "metadata": {},
     "output_type": "execute_result"
    }
   ],
   "source": [
    "type(students)"
   ]
  },
  {
   "cell_type": "code",
   "execution_count": 71,
   "id": "25f6d65e-e822-4564-ad39-066c92be2df3",
   "metadata": {},
   "outputs": [
    {
     "data": {
      "text/plain": [
       "0      Gaurav\n",
       "1      Saurav\n",
       "2    Sangeeta\n",
       "3      Sarita\n",
       "dtype: object"
      ]
     },
     "execution_count": 71,
     "metadata": {},
     "output_type": "execute_result"
    }
   ],
   "source": [
    "pd.Series(students)"
   ]
  },
  {
   "cell_type": "code",
   "execution_count": 72,
   "id": "2682085b-f73c-46d4-89ec-00319fffe65e",
   "metadata": {},
   "outputs": [],
   "source": [
    "ages = [27, 29, 23, 32]"
   ]
  },
  {
   "cell_type": "code",
   "execution_count": 73,
   "id": "9682511d-d7eb-4178-8cd5-1f32a350d38c",
   "metadata": {},
   "outputs": [
    {
     "data": {
      "text/plain": [
       "0    27\n",
       "1    29\n",
       "2    23\n",
       "3    32\n",
       "dtype: int64"
      ]
     },
     "execution_count": 73,
     "metadata": {},
     "output_type": "execute_result"
    }
   ],
   "source": [
    "pd.Series(ages)"
   ]
  },
  {
   "cell_type": "code",
   "execution_count": 74,
   "id": "52ef7427-674e-44a8-9552-03457dbbd8f2",
   "metadata": {},
   "outputs": [],
   "source": [
    "heights = [170, 172, 150, 120]"
   ]
  },
  {
   "cell_type": "code",
   "execution_count": 75,
   "id": "5acbbb9a-f39d-46b8-b43e-829c6b0f8f4f",
   "metadata": {},
   "outputs": [
    {
     "data": {
      "text/plain": [
       "0    170\n",
       "1    172\n",
       "2    150\n",
       "3    120\n",
       "dtype: int64"
      ]
     },
     "execution_count": 75,
     "metadata": {},
     "output_type": "execute_result"
    }
   ],
   "source": [
    "pd.Series(heights)"
   ]
  },
  {
   "cell_type": "code",
   "execution_count": 76,
   "id": "531e945e-0f8e-4dba-86b3-46dd1115a2bc",
   "metadata": {},
   "outputs": [],
   "source": [
    "mixed = [True, \"say\", {'my_mood': 100}]"
   ]
  },
  {
   "cell_type": "code",
   "execution_count": 77,
   "id": "f548d762-e005-4773-a6b8-8ccb5ad1511b",
   "metadata": {},
   "outputs": [
    {
     "data": {
      "text/plain": [
       "0                True\n",
       "1                 say\n",
       "2    {'my_mood': 100}\n",
       "dtype: object"
      ]
     },
     "execution_count": 77,
     "metadata": {},
     "output_type": "execute_result"
    }
   ],
   "source": [
    "pd.Series(mixed)"
   ]
  },
  {
   "cell_type": "markdown",
   "id": "c2ffade6-6e00-4d54-b970-da530251216b",
   "metadata": {},
   "source": [
    "A Series is simply a one dimentional sequence of values with associated labels"
   ]
  },
  {
   "cell_type": "markdown",
   "id": "72dc3e61-876b-43b3-b876-29bcfb8526e0",
   "metadata": {},
   "source": [
    "## Parameters vs Arguments"
   ]
  },
  {
   "cell_type": "code",
   "execution_count": 78,
   "id": "6ac43e6c-1426-4784-acb3-6abdbe2e9030",
   "metadata": {},
   "outputs": [
    {
     "data": {
      "text/plain": [
       "0      Gaurav\n",
       "1      Saurav\n",
       "2    Sangeeta\n",
       "3      Sarita\n",
       "dtype: object"
      ]
     },
     "execution_count": 78,
     "metadata": {},
     "output_type": "execute_result"
    }
   ],
   "source": [
    "pd.Series(students)"
   ]
  },
  {
   "cell_type": "code",
   "execution_count": 79,
   "id": "1f821e17-d461-4d48-9ca5-b88682abf354",
   "metadata": {},
   "outputs": [
    {
     "data": {
      "text/plain": [
       "0      Gaurav\n",
       "1      Saurav\n",
       "2    Sangeeta\n",
       "3      Sarita\n",
       "dtype: object"
      ]
     },
     "execution_count": 79,
     "metadata": {},
     "output_type": "execute_result"
    }
   ],
   "source": [
    "pd.Series(data=students)"
   ]
  },
  {
   "cell_type": "markdown",
   "id": "b340ab84-555f-4579-811d-b01981b1c023",
   "metadata": {},
   "source": [
    "> Here the 'data' is parameter while 'students' is argument"
   ]
  },
  {
   "cell_type": "code",
   "execution_count": 80,
   "id": "27c2397b-48d2-4e30-b26d-6ce3fffd211e",
   "metadata": {},
   "outputs": [],
   "source": [
    "# python and general programming terminology"
   ]
  },
  {
   "cell_type": "code",
   "execution_count": 81,
   "id": "6cd21d05-ee4d-441e-a896-e8afbdb3ae81",
   "metadata": {},
   "outputs": [
    {
     "name": "stdout",
     "output_type": "stream",
     "text": [
      "argument\n"
     ]
    }
   ],
   "source": [
    "def greeting(parameter):\n",
    "    print(parameter)\n",
    "\n",
    "greeting(\"argument\")"
   ]
  },
  {
   "cell_type": "markdown",
   "id": "35674aa8-895d-4459-9440-9736f8120bec",
   "metadata": {},
   "source": [
    "## What's in the data"
   ]
  },
  {
   "cell_type": "code",
   "execution_count": 82,
   "id": "49b89330-f0a0-4ace-924a-ff7e70d1df7c",
   "metadata": {},
   "outputs": [],
   "source": [
    "books_list = ['Fooled by Randomness', 'Eat That Frog', 'Lenin on the Train']\n",
    "# list is a ordered data structure in python, with indexes"
   ]
  },
  {
   "cell_type": "code",
   "execution_count": 83,
   "id": "177b4da2-77ab-4759-9a0d-efc97be74b99",
   "metadata": {},
   "outputs": [
    {
     "data": {
      "text/plain": [
       "0    Fooled by Randomness\n",
       "1           Eat That Frog\n",
       "2      Lenin on the Train\n",
       "dtype: object"
      ]
     },
     "execution_count": 83,
     "metadata": {},
     "output_type": "execute_result"
    }
   ],
   "source": [
    "list_series = pd.Series(books_list)\n",
    "list_series"
   ]
  },
  {
   "cell_type": "code",
   "execution_count": 84,
   "id": "105f5d62-5c4e-4e63-a913-7cafea16061c",
   "metadata": {},
   "outputs": [],
   "source": [
    "books_dict = {0: 'Fooled by Randomness', 1:'Eat That Frog', 12:'Lenin on the Train'}"
   ]
  },
  {
   "cell_type": "code",
   "execution_count": 85,
   "id": "2a7596e0-6e9e-4172-9dbc-51ab38f9d163",
   "metadata": {},
   "outputs": [
    {
     "data": {
      "text/plain": [
       "0     Fooled by Randomness\n",
       "1            Eat That Frog\n",
       "12      Lenin on the Train\n",
       "dtype: object"
      ]
     },
     "execution_count": 85,
     "metadata": {},
     "output_type": "execute_result"
    }
   ],
   "source": [
    "dict_series = pd.Series(books_dict)\n",
    "dict_series"
   ]
  },
  {
   "cell_type": "code",
   "execution_count": 86,
   "id": "a63e6f69-bce0-42c0-ad76-b026577f15b7",
   "metadata": {},
   "outputs": [],
   "source": [
    "# sets_series = pd.Series({\"hello\", \"world\"})\n",
    "# sets_series"
   ]
  },
  {
   "cell_type": "code",
   "execution_count": 87,
   "id": "07e1e0f8-b57d-407e-bf46-a295c4cc02ec",
   "metadata": {},
   "outputs": [
    {
     "data": {
      "text/plain": [
       "False"
      ]
     },
     "execution_count": 87,
     "metadata": {},
     "output_type": "execute_result"
    }
   ],
   "source": [
    "list_series.equals(dict_series)"
   ]
  },
  {
   "cell_type": "code",
   "execution_count": 88,
   "id": "22e79115-449d-44f5-b113-79eedf22b8aa",
   "metadata": {},
   "outputs": [],
   "source": [
    "# Pandas automatically assign indexes to data if pass iterable data type, lict dict, list"
   ]
  },
  {
   "cell_type": "code",
   "execution_count": 89,
   "id": "6a685d5c-364d-4f31-a754-49ce0d48c75b",
   "metadata": {},
   "outputs": [
    {
     "data": {
      "text/plain": [
       "0     apple\n",
       "1       cat\n",
       "2    banana\n",
       "dtype: object"
      ]
     },
     "execution_count": 89,
     "metadata": {},
     "output_type": "execute_result"
    }
   ],
   "source": [
    "pd.Series(('apple', 'cat', 'banana'))"
   ]
  },
  {
   "cell_type": "code",
   "execution_count": 90,
   "id": "880c4161-c941-4eaa-9ff6-f52d2c1b2980",
   "metadata": {},
   "outputs": [
    {
     "data": {
      "text/plain": [
       "0    108\n",
       "dtype: int64"
      ]
     },
     "execution_count": 90,
     "metadata": {},
     "output_type": "execute_result"
    }
   ],
   "source": [
    "pd.Series(108)"
   ]
  },
  {
   "cell_type": "code",
   "execution_count": 91,
   "id": "1564037a-2a64-4b22-a639-af5e0ba30465",
   "metadata": {},
   "outputs": [],
   "source": [
    "# wrong 😑 pd.Series(109, 108, 109)"
   ]
  },
  {
   "cell_type": "code",
   "execution_count": 92,
   "id": "324628fd-d1b5-4c40-8fe1-73f0d506f4e7",
   "metadata": {},
   "outputs": [
    {
     "data": {
      "text/plain": [
       "0    Gaurav\n",
       "dtype: object"
      ]
     },
     "execution_count": 92,
     "metadata": {},
     "output_type": "execute_result"
    }
   ],
   "source": [
    "pd.Series('Gaurav')"
   ]
  },
  {
   "cell_type": "code",
   "execution_count": 93,
   "id": "a252b583-019d-478b-8321-4831262c7fbd",
   "metadata": {},
   "outputs": [
    {
     "name": "stdout",
     "output_type": "stream",
     "text": [
      "hello world\n"
     ]
    }
   ],
   "source": [
    "# pd.Series(*[\"hello\", \"world\"]) wont work\n",
    "print(*[\"hello\", \"world\"])"
   ]
  },
  {
   "cell_type": "code",
   "execution_count": 94,
   "id": "b9828c33-c3b7-4035-913f-343ead7b6fcf",
   "metadata": {},
   "outputs": [],
   "source": [
    "## If no label provided, it will label the data with integer"
   ]
  },
  {
   "cell_type": "code",
   "execution_count": 95,
   "id": "0c5c1866-edfc-4689-89e1-088b63e1e5d0",
   "metadata": {},
   "outputs": [
    {
     "data": {
      "text/plain": [
       "0    weather\n",
       "dtype: object"
      ]
     },
     "execution_count": 95,
     "metadata": {},
     "output_type": "execute_result"
    }
   ],
   "source": [
    "pd.Series(data=['this', 'is', 'gaurav'])\n",
    "pd.Series(data={0: 'this', 1: 'is', 2: 'gaurav'})\n",
    "pd.Series(data=0)\n",
    "pd.Series(data='weather')"
   ]
  },
  {
   "cell_type": "markdown",
   "id": "082dc6ec-debc-429d-a0ba-eed6ee38e4c0",
   "metadata": {},
   "source": [
    "## The .dtype Attribute"
   ]
  },
  {
   "cell_type": "code",
   "execution_count": 247,
   "id": "367be0e4-a804-4df9-8ddc-eb6f4baa06cf",
   "metadata": {},
   "outputs": [
    {
     "data": {
      "text/plain": [
       "[27, 29, 23, 32]"
      ]
     },
     "execution_count": 247,
     "metadata": {},
     "output_type": "execute_result"
    }
   ],
   "source": [
    "ages"
   ]
  },
  {
   "cell_type": "code",
   "execution_count": 97,
   "id": "4a718d67-57ad-4653-973c-b3c47926c7ba",
   "metadata": {},
   "outputs": [
    {
     "data": {
      "text/plain": [
       "0    27\n",
       "1    29\n",
       "2    23\n",
       "3    32\n",
       "dtype: int64"
      ]
     },
     "execution_count": 97,
     "metadata": {},
     "output_type": "execute_result"
    }
   ],
   "source": [
    "pd.Series(data=ages)"
   ]
  },
  {
   "cell_type": "code",
   "execution_count": 98,
   "id": "0e381d4b-583a-453d-9237-24d3db8cde6d",
   "metadata": {},
   "outputs": [
    {
     "data": {
      "text/plain": [
       "0    27.0\n",
       "1    29.0\n",
       "2    23.0\n",
       "3    32.0\n",
       "dtype: float64"
      ]
     },
     "execution_count": 98,
     "metadata": {},
     "output_type": "execute_result"
    }
   ],
   "source": [
    "pd.Series(data=ages, dtype='float')"
   ]
  },
  {
   "cell_type": "code",
   "execution_count": 99,
   "id": "877cb530-faab-4bcd-8b57-742322f435c9",
   "metadata": {},
   "outputs": [],
   "source": [
    "# You don't have to specify the 'dtype' manually because pandas type inference is good enough"
   ]
  },
  {
   "cell_type": "code",
   "execution_count": 249,
   "id": "da291966-68aa-4faf-9a44-834ccc18398b",
   "metadata": {},
   "outputs": [
    {
     "name": "stdout",
     "output_type": "stream",
     "text": [
      "Gaurav Saurav Sangeeta Sarita ['Gaurav', 'Saurav', 'Sangeeta', 'Sarita']\n"
     ]
    }
   ],
   "source": [
    "print(*students, students)"
   ]
  },
  {
   "cell_type": "code",
   "execution_count": 101,
   "id": "1e5548c5-165f-41ba-8592-68c29e21b900",
   "metadata": {},
   "outputs": [
    {
     "data": {
      "text/plain": [
       "0      Gaurav\n",
       "1      Saurav\n",
       "2    Sangeeta\n",
       "3      Sarita\n",
       "dtype: object"
      ]
     },
     "execution_count": 101,
     "metadata": {},
     "output_type": "execute_result"
    }
   ],
   "source": [
    "name_series = pd.Series(students)\n",
    "name_series"
   ]
  },
  {
   "cell_type": "code",
   "execution_count": 102,
   "id": "b3361a1b-8799-4450-b709-c3f160061e6e",
   "metadata": {},
   "outputs": [
    {
     "data": {
      "text/plain": [
       "dtype('O')"
      ]
     },
     "execution_count": 102,
     "metadata": {},
     "output_type": "execute_result"
    }
   ],
   "source": [
    "name_series.dtype"
   ]
  },
  {
   "cell_type": "code",
   "execution_count": 103,
   "id": "013c38c4-945a-48ab-9596-1e254f4886e1",
   "metadata": {},
   "outputs": [
    {
     "data": {
      "text/plain": [
       "pandas.core.series.Series"
      ]
     },
     "execution_count": 103,
     "metadata": {},
     "output_type": "execute_result"
    }
   ],
   "source": [
    "type(name_series)"
   ]
  },
  {
   "cell_type": "markdown",
   "id": "5e594ea4-ac87-46d8-b90b-9cfb61751baf",
   "metadata": {},
   "source": [
    "## BONUS - What is dtype, Really?"
   ]
  },
  {
   "cell_type": "code",
   "execution_count": 104,
   "id": "9048e161-fa73-4768-924c-8ee08cfd3931",
   "metadata": {},
   "outputs": [],
   "source": [
    "# pandas benifits from numpy"
   ]
  },
  {
   "cell_type": "code",
   "execution_count": 105,
   "id": "a74266a7-b63e-4717-8c25-22dfee9302d6",
   "metadata": {},
   "outputs": [],
   "source": [
    "# numpy expects homogenous (\"same type\") data:"
   ]
  },
  {
   "cell_type": "code",
   "execution_count": 106,
   "id": "7d6de986-de2e-4763-8a43-8899a1ce8b72",
   "metadata": {},
   "outputs": [
    {
     "data": {
      "text/plain": [
       "[170, 172, 150, 120]"
      ]
     },
     "execution_count": 106,
     "metadata": {},
     "output_type": "execute_result"
    }
   ],
   "source": [
    "heights"
   ]
  },
  {
   "cell_type": "code",
   "execution_count": 107,
   "id": "b1bbaa1e-4660-4b1a-a40a-5ead29420d8a",
   "metadata": {},
   "outputs": [
    {
     "data": {
      "text/plain": [
       "0    170.0\n",
       "1    172.0\n",
       "2    150.0\n",
       "3    120.0\n",
       "dtype: float64"
      ]
     },
     "execution_count": 107,
     "metadata": {},
     "output_type": "execute_result"
    }
   ],
   "source": [
    "pd.Series(heights, dtype='float64')"
   ]
  },
  {
   "cell_type": "code",
   "execution_count": 108,
   "id": "b5d7d82c-2e51-4978-9c4d-4dcad0a9f7fb",
   "metadata": {},
   "outputs": [],
   "source": [
    "height_2 = [170.3, 172.77, 150, '456']"
   ]
  },
  {
   "cell_type": "code",
   "execution_count": 109,
   "id": "8b7c1015-90bb-467e-a77c-2d5a15f3c20f",
   "metadata": {},
   "outputs": [
    {
     "data": {
      "text/plain": [
       "0     170.3\n",
       "1    172.77\n",
       "2       150\n",
       "3       456\n",
       "dtype: object"
      ]
     },
     "execution_count": 109,
     "metadata": {},
     "output_type": "execute_result"
    }
   ],
   "source": [
    "pd.Series(height_2)"
   ]
  },
  {
   "cell_type": "code",
   "execution_count": 110,
   "id": "252800e5-55db-4ff6-8d99-5b36f6a434c8",
   "metadata": {},
   "outputs": [],
   "source": [
    "# Moral: Pandas always relies on numpy"
   ]
  },
  {
   "cell_type": "markdown",
   "id": "b381fce5-3bc2-4a1d-9cab-9e39144503fa",
   "metadata": {},
   "source": [
    "## Index and RangeIndex"
   ]
  },
  {
   "cell_type": "code",
   "execution_count": 111,
   "id": "b363fba8-2d7f-43c8-9e7d-facc4c3fe6ff",
   "metadata": {},
   "outputs": [
    {
     "data": {
      "text/plain": [
       "['Fooled by Randomness', 'Eat That Frog', 'Lenin on the Train']"
      ]
     },
     "execution_count": 111,
     "metadata": {},
     "output_type": "execute_result"
    }
   ],
   "source": [
    "books_list"
   ]
  },
  {
   "cell_type": "code",
   "execution_count": 112,
   "id": "37224ade-4947-46d3-a6d9-55bb8ec66adf",
   "metadata": {},
   "outputs": [
    {
     "data": {
      "text/plain": [
       "0    Fooled by Randomness\n",
       "1           Eat That Frog\n",
       "2      Lenin on the Train\n",
       "dtype: object"
      ]
     },
     "execution_count": 112,
     "metadata": {},
     "output_type": "execute_result"
    }
   ],
   "source": [
    "list_series"
   ]
  },
  {
   "cell_type": "code",
   "execution_count": 113,
   "id": "7694f08d-cc94-4894-b90f-44654d991c15",
   "metadata": {},
   "outputs": [
    {
     "data": {
      "text/plain": [
       "funny                  Fooled by Randomness\n",
       "serious and amusing           Eat That Frog\n",
       "kinda intresting         Lenin on the Train\n",
       "dtype: object"
      ]
     },
     "execution_count": 113,
     "metadata": {},
     "output_type": "execute_result"
    }
   ],
   "source": [
    "pd.Series(books_list, index=['funny', 'serious and amusing', 'kinda intresting'])"
   ]
  },
  {
   "cell_type": "code",
   "execution_count": 114,
   "id": "d0239ef9-b21c-45f2-80cf-c945842d42c3",
   "metadata": {},
   "outputs": [
    {
     "data": {
      "text/plain": [
       "funny                  Fooled by Randomness\n",
       "serious and amusing           Eat That Frog\n",
       "kinda intresting         Lenin on the Train\n",
       "dtype: object"
      ]
     },
     "execution_count": 114,
     "metadata": {},
     "output_type": "execute_result"
    }
   ],
   "source": [
    "pd.Series(books_list, index=['funny', 'serious and amusing', 'kinda intresting'], dtype='object')"
   ]
  },
  {
   "cell_type": "code",
   "execution_count": 251,
   "id": "37f5579e-4f9d-4734-ab53-c3dd9a423c0d",
   "metadata": {},
   "outputs": [
    {
     "data": {
      "text/plain": [
       "funny                  Fooled by Randomness\n",
       "serious and amusing           Eat That Frog\n",
       "kinda intresting         Lenin on the Train\n",
       "dtype: object"
      ]
     },
     "execution_count": 251,
     "metadata": {},
     "output_type": "execute_result"
    }
   ],
   "source": [
    "pd.Series(books_list, ['funny', 'serious and amusing', 'kinda intresting'])"
   ]
  },
  {
   "cell_type": "code",
   "execution_count": 252,
   "id": "1efb6a0c-beab-4fb0-8c74-5a431866236f",
   "metadata": {},
   "outputs": [
    {
     "data": {
      "text/plain": [
       "'2.2.3'"
      ]
     },
     "execution_count": 252,
     "metadata": {},
     "output_type": "execute_result"
    }
   ],
   "source": [
    "pd.__version__"
   ]
  },
  {
   "cell_type": "code",
   "execution_count": 255,
   "id": "9d403246-2133-4dc7-b4ab-f168abbbdde9",
   "metadata": {},
   "outputs": [
    {
     "data": {
      "text/plain": [
       "(str, object)"
      ]
     },
     "execution_count": 255,
     "metadata": {},
     "output_type": "execute_result"
    }
   ],
   "source": [
    "str.__mro__"
   ]
  },
  {
   "cell_type": "code",
   "execution_count": 116,
   "id": "36d7f54b-6d6a-4535-8be7-e6c9f026e8c9",
   "metadata": {},
   "outputs": [
    {
     "data": {
      "text/plain": [
       "funny                  Fooled by Randomness\n",
       "serious and amusing           Eat That Frog\n",
       "kinda intresting         Lenin on the Train\n",
       "dtype: string"
      ]
     },
     "execution_count": 116,
     "metadata": {},
     "output_type": "execute_result"
    }
   ],
   "source": [
    "pd.Series(books_list, ['funny', 'serious and amusing', 'kinda intresting'], dtype='string')"
   ]
  },
  {
   "cell_type": "code",
   "execution_count": 246,
   "id": "626445b5-7a3f-4c72-8b91-c1dc10bf06cd",
   "metadata": {},
   "outputs": [
    {
     "ename": "SyntaxError",
     "evalue": "positional argument follows keyword argument (3113056596.py, line 1)",
     "output_type": "error",
     "traceback": [
      "\u001b[0;36m  Cell \u001b[0;32mIn[246], line 1\u001b[0;36m\u001b[0m\n\u001b[0;31m    pd.Series(dtype='string', books_list, ['funny', 'serious and amusing', 'kinda intresting'])\u001b[0m\n\u001b[0m                                                                                              ^\u001b[0m\n\u001b[0;31mSyntaxError\u001b[0m\u001b[0;31m:\u001b[0m positional argument follows keyword argument\n"
     ]
    }
   ],
   "source": [
    "pd.Series(dtype='string', books_list, ['funny', 'serious and amusing', 'kinda intresting'])"
   ]
  },
  {
   "cell_type": "code",
   "execution_count": 119,
   "id": "6531ec64-1934-4624-bfc1-931b5c3554c1",
   "metadata": {},
   "outputs": [
    {
     "data": {
      "text/plain": [
       "RangeIndex(start=0, stop=3, step=1)"
      ]
     },
     "execution_count": 119,
     "metadata": {},
     "output_type": "execute_result"
    }
   ],
   "source": [
    "list_series.index"
   ]
  },
  {
   "cell_type": "code",
   "execution_count": 120,
   "id": "d6b230f3-03a0-40d2-a0f7-c9a38ea48309",
   "metadata": {},
   "outputs": [
    {
     "data": {
      "text/plain": [
       "pandas.core.indexes.range.RangeIndex"
      ]
     },
     "execution_count": 120,
     "metadata": {},
     "output_type": "execute_result"
    }
   ],
   "source": [
    "type(list_series.index)"
   ]
  },
  {
   "cell_type": "code",
   "execution_count": 256,
   "id": "4a4df23c-3ca0-43bf-a9b8-195f0490cde0",
   "metadata": {},
   "outputs": [
    {
     "data": {
      "text/plain": [
       "RangeIndex(start=4, stop=7, step=1)"
      ]
     },
     "execution_count": 256,
     "metadata": {},
     "output_type": "execute_result"
    }
   ],
   "source": [
    "# RangeIndex constructor on pandas module\n",
    "pd.RangeIndex(start=4, stop=7, step=1)"
   ]
  },
  {
   "cell_type": "code",
   "execution_count": 270,
   "id": "ea6abe16-2ee4-41d0-b88b-1b5513aabe5b",
   "metadata": {},
   "outputs": [
    {
     "name": "stdout",
     "output_type": "stream",
     "text": [
      "[7, 28, 49, 70, 91]\n"
     ]
    }
   ],
   "source": [
    "print([ i for i in list(range(1, 100, 3)) if i % 7 == 0 ])"
   ]
  },
  {
   "cell_type": "code",
   "execution_count": 122,
   "id": "b7ce2f0e-b2c9-4a3c-a7ab-4284fbb7bcd1",
   "metadata": {},
   "outputs": [
    {
     "data": {
      "text/plain": [
       "[4, 5, 6]"
      ]
     },
     "execution_count": 122,
     "metadata": {},
     "output_type": "execute_result"
    }
   ],
   "source": [
    "list(pd.RangeIndex(start=4, stop=7, step=1))"
   ]
  },
  {
   "cell_type": "code",
   "execution_count": 272,
   "id": "60ff4b56-bbab-4975-9a7a-f23bdd2032cb",
   "metadata": {},
   "outputs": [
    {
     "data": {
      "text/plain": [
       "[10, 9, 8, 7, 6, 5, 4, 3, 2, 1, 0, -1, -2, -3, -4, -5, -6, -7, -8, -9, -10]"
      ]
     },
     "execution_count": 272,
     "metadata": {},
     "output_type": "execute_result"
    }
   ],
   "source": [
    "list(pd.RangeIndex(start=10, stop=-11, step=-1))"
   ]
  },
  {
   "cell_type": "code",
   "execution_count": 275,
   "id": "20f15c3b-a713-4bf7-9b84-4c4cbd0c3c08",
   "metadata": {},
   "outputs": [],
   "source": [
    "## Immutable object, the RangeIndex can't change, for perfrom issue\n",
    "## We can provide our custom index/lable to our series\n",
    "## If we don't provide index, pandas will create it's own immutable range index, for better performance"
   ]
  },
  {
   "cell_type": "code",
   "execution_count": 274,
   "id": "d26a2af7-8005-4e4d-912c-9f65defd8011",
   "metadata": {},
   "outputs": [
    {
     "data": {
      "text/plain": [
       "0    Fooled by Randomness\n",
       "1           Eat That Frog\n",
       "2      Lenin on the Train\n",
       "dtype: object"
      ]
     },
     "execution_count": 274,
     "metadata": {},
     "output_type": "execute_result"
    }
   ],
   "source": [
    "pd.Series(books_list)"
   ]
  },
  {
   "cell_type": "markdown",
   "id": "a3dfdd71-de9e-44b8-b1c0-1433da7f73b5",
   "metadata": {},
   "source": [
    "## Series And Index Names"
   ]
  },
  {
   "cell_type": "code",
   "execution_count": 125,
   "id": "ff7a10a6-d136-4d86-98f1-d9ef897c0f18",
   "metadata": {},
   "outputs": [
    {
     "data": {
      "text/plain": [
       "0    Fooled by Randomness\n",
       "1           Eat That Frog\n",
       "2      Lenin on the Train\n",
       "dtype: object"
      ]
     },
     "execution_count": 125,
     "metadata": {},
     "output_type": "execute_result"
    }
   ],
   "source": [
    "list_series"
   ]
  },
  {
   "cell_type": "code",
   "execution_count": 126,
   "id": "b4190825-6976-4ede-9415-20d5851e0f35",
   "metadata": {},
   "outputs": [],
   "source": [
    "# intelligble: capable of being understood"
   ]
  },
  {
   "cell_type": "code",
   "execution_count": 127,
   "id": "1e279241-1cc2-4d88-bd81-974b96f581cc",
   "metadata": {},
   "outputs": [
    {
     "data": {
      "text/plain": [
       "3"
      ]
     },
     "execution_count": 127,
     "metadata": {},
     "output_type": "execute_result"
    }
   ],
   "source": [
    "list_series.size # attributes"
   ]
  },
  {
   "cell_type": "code",
   "execution_count": 276,
   "id": "931be6cf-f77e-4d77-a5cd-7a8828831128",
   "metadata": {},
   "outputs": [
    {
     "data": {
      "text/plain": [
       "False"
      ]
     },
     "execution_count": 276,
     "metadata": {},
     "output_type": "execute_result"
    }
   ],
   "source": [
    "list_series.equals(dict_series) # method/function"
   ]
  },
  {
   "cell_type": "code",
   "execution_count": 277,
   "id": "d87b9e74-c814-4c33-b056-38bfabf9292e",
   "metadata": {},
   "outputs": [
    {
     "data": {
      "text/plain": [
       "dtype('O')"
      ]
     },
     "execution_count": 277,
     "metadata": {},
     "output_type": "execute_result"
    }
   ],
   "source": [
    "list_series.dtype"
   ]
  },
  {
   "cell_type": "code",
   "execution_count": 278,
   "id": "dc1a3f75-79c6-4452-bd3e-8778d14a82e0",
   "metadata": {},
   "outputs": [
    {
     "data": {
      "text/plain": [
       "'My Favorite Books'"
      ]
     },
     "execution_count": 278,
     "metadata": {},
     "output_type": "execute_result"
    }
   ],
   "source": [
    "list_series.name"
   ]
  },
  {
   "cell_type": "code",
   "execution_count": 279,
   "id": "53282a76-f848-4b4b-86e1-a9e7d9101afe",
   "metadata": {},
   "outputs": [
    {
     "data": {
      "text/plain": [
       "False"
      ]
     },
     "execution_count": 279,
     "metadata": {},
     "output_type": "execute_result"
    }
   ],
   "source": [
    "list_series.name == None"
   ]
  },
  {
   "cell_type": "code",
   "execution_count": 280,
   "id": "b2ba10cc-8f0a-4df9-8e58-17903e8eb4f9",
   "metadata": {},
   "outputs": [],
   "source": [
    "list_series.name = 'My Favorite Books'"
   ]
  },
  {
   "cell_type": "code",
   "execution_count": 132,
   "id": "60b9a29a-2827-4163-ac6d-6975ab76cf3a",
   "metadata": {},
   "outputs": [
    {
     "data": {
      "text/plain": [
       "0    Fooled by Randomness\n",
       "1           Eat That Frog\n",
       "2      Lenin on the Train\n",
       "Name: My Favorite Books, dtype: object"
      ]
     },
     "execution_count": 132,
     "metadata": {},
     "output_type": "execute_result"
    }
   ],
   "source": [
    "list_series"
   ]
  },
  {
   "cell_type": "code",
   "execution_count": 283,
   "id": "358e123b-c0c9-4b53-b1ed-feda2a1965ae",
   "metadata": {},
   "outputs": [
    {
     "data": {
      "text/plain": [
       "'My Books'"
      ]
     },
     "execution_count": 283,
     "metadata": {},
     "output_type": "execute_result"
    }
   ],
   "source": [
    "list_series.index.name"
   ]
  },
  {
   "cell_type": "code",
   "execution_count": 282,
   "id": "8f0ac770-594f-485c-b082-f09aab286a93",
   "metadata": {},
   "outputs": [
    {
     "data": {
      "text/plain": [
       "False"
      ]
     },
     "execution_count": 282,
     "metadata": {},
     "output_type": "execute_result"
    }
   ],
   "source": [
    "list_series.index.name == None"
   ]
  },
  {
   "cell_type": "code",
   "execution_count": 284,
   "id": "4172b0e3-31ec-4217-b12e-165c9686945a",
   "metadata": {},
   "outputs": [],
   "source": [
    "list_series.index.name = \"My Books\""
   ]
  },
  {
   "cell_type": "code",
   "execution_count": 136,
   "id": "8907e4e5-7093-40cf-b0a8-ddead9468776",
   "metadata": {},
   "outputs": [
    {
     "data": {
      "text/plain": [
       "My Books\n",
       "0    Fooled by Randomness\n",
       "1           Eat That Frog\n",
       "2      Lenin on the Train\n",
       "Name: My Favorite Books, dtype: object"
      ]
     },
     "execution_count": 136,
     "metadata": {},
     "output_type": "execute_result"
    }
   ],
   "source": [
    "list_series"
   ]
  },
  {
   "cell_type": "code",
   "execution_count": 137,
   "id": "9e30b67e-d78c-410b-9855-27710ff2e814",
   "metadata": {},
   "outputs": [
    {
     "data": {
      "text/plain": [
       "array(['Fooled by Randomness', 'Eat That Frog', 'Lenin on the Train'],\n",
       "      dtype=object)"
      ]
     },
     "execution_count": 137,
     "metadata": {},
     "output_type": "execute_result"
    }
   ],
   "source": [
    "list_series.values"
   ]
  },
  {
   "cell_type": "code",
   "execution_count": 138,
   "id": "8953f957-b6cc-4b27-8fd8-18f6b4bdd793",
   "metadata": {},
   "outputs": [
    {
     "data": {
      "text/plain": [
       "<bound method Series.keys of My Books\n",
       "0    Fooled by Randomness\n",
       "1           Eat That Frog\n",
       "2      Lenin on the Train\n",
       "Name: My Favorite Books, dtype: object>"
      ]
     },
     "execution_count": 138,
     "metadata": {},
     "output_type": "execute_result"
    }
   ],
   "source": [
    "list_series.keys"
   ]
  },
  {
   "cell_type": "markdown",
   "id": "93bfdfd4-2fea-4270-b5ff-7da77ae502f3",
   "metadata": {},
   "source": [
    "## Skill Challenge 😈"
   ]
  },
  {
   "cell_type": "markdown",
   "id": "f387a348-e0c7-4203-91bc-01b2b8639210",
   "metadata": {},
   "source": [
    "Create a python list of length 4, that contains some of your favorite actors. So this should be a list of strings. Call this list-assign it to a variable called-actor_names"
   ]
  },
  {
   "cell_type": "code",
   "execution_count": 139,
   "id": "6395dee5-9346-45f8-afdb-518d76cbb233",
   "metadata": {},
   "outputs": [],
   "source": [
    "actor_names = ['Gaurav', 'Sourav', 'Miraj', 'Sekhar']"
   ]
  },
  {
   "cell_type": "markdown",
   "id": "8a0c67c9-8831-4279-90ef-bb5663bf6c32",
   "metadata": {},
   "source": [
    "Next, create another python list of the same length that contains your guesses for how old each actor is, feel free to just use integers or float. call this list actor_ages"
   ]
  },
  {
   "cell_type": "code",
   "execution_count": 140,
   "id": "7d06a126-d406-488e-9b07-246d6064914f",
   "metadata": {},
   "outputs": [],
   "source": [
    "actor_ages = [26, 29, 32, 56.2]"
   ]
  },
  {
   "cell_type": "markdown",
   "id": "48bcad45-d1bc-449d-9613-68920e3d1440",
   "metadata": {},
   "source": [
    "Create a series that stores actor ages and labels the ages using the actor names. To clearify, use actor name in the index and actor age as values. Give this series a name of actors."
   ]
  },
  {
   "cell_type": "code",
   "execution_count": 141,
   "id": "b39f7d8c-eaf2-4730-940b-bb11c59ed005",
   "metadata": {},
   "outputs": [],
   "source": [
    "actors = pd.Series(actor_ages, index=actor_names, name=\"actors\")"
   ]
  },
  {
   "cell_type": "code",
   "execution_count": 142,
   "id": "a6eb6199-6711-461e-8f51-e61e6eea138e",
   "metadata": {},
   "outputs": [
    {
     "data": {
      "text/plain": [
       "Gaurav    26.0\n",
       "Sourav    29.0\n",
       "Miraj     32.0\n",
       "Sekhar    56.2\n",
       "Name: actors, dtype: float64"
      ]
     },
     "execution_count": 142,
     "metadata": {},
     "output_type": "execute_result"
    }
   ],
   "source": [
    "actors"
   ]
  },
  {
   "cell_type": "code",
   "execution_count": 143,
   "id": "c56dbc4b-fbea-48b9-9281-07fa8d75ded3",
   "metadata": {},
   "outputs": [],
   "source": [
    "actors_dicts = dict(zip(actor_names, actor_ages))"
   ]
  },
  {
   "cell_type": "code",
   "execution_count": 144,
   "id": "f5993063-17af-486f-b215-31329d80fd9a",
   "metadata": {},
   "outputs": [
    {
     "data": {
      "text/plain": [
       "{'Gaurav': 26, 'Sourav': 29, 'Miraj': 32, 'Sekhar': 56.2}"
      ]
     },
     "execution_count": 144,
     "metadata": {},
     "output_type": "execute_result"
    }
   ],
   "source": [
    "actors_dicts"
   ]
  },
  {
   "cell_type": "code",
   "execution_count": 145,
   "id": "29fdc4cb-762c-4da4-80d4-edf7ab568397",
   "metadata": {},
   "outputs": [
    {
     "data": {
      "text/plain": [
       "Gaurav    26.0\n",
       "Sourav    29.0\n",
       "Miraj     32.0\n",
       "Sekhar    56.2\n",
       "Name: actors, dtype: float64"
      ]
     },
     "execution_count": 145,
     "metadata": {},
     "output_type": "execute_result"
    }
   ],
   "source": [
    "pd.Series(data=actors_dicts, name='actors')"
   ]
  },
  {
   "cell_type": "markdown",
   "id": "49587c24-0d27-43c5-87aa-575fe82cb66e",
   "metadata": {},
   "source": [
    "## Another Solution 😈"
   ]
  },
  {
   "cell_type": "code",
   "execution_count": 146,
   "id": "fb6f29d6-8029-4daa-afb0-eed661178903",
   "metadata": {},
   "outputs": [
    {
     "data": {
      "text/plain": [
       "{'Gaurav': 26, 'Sourav': 29, 'Miraj': 32, 'Sekhar': 56.2}"
      ]
     },
     "execution_count": 146,
     "metadata": {},
     "output_type": "execute_result"
    }
   ],
   "source": [
    "{name:age for name, age in zip(actor_names, actor_ages)}"
   ]
  },
  {
   "cell_type": "code",
   "execution_count": 147,
   "id": "7447d883-bba2-4a99-9cd5-25bf8496743a",
   "metadata": {},
   "outputs": [
    {
     "data": {
      "text/plain": [
       "Gaurav    26.0\n",
       "Sourav    29.0\n",
       "Miraj     32.0\n",
       "Sekhar    56.2\n",
       "dtype: float64"
      ]
     },
     "execution_count": 147,
     "metadata": {},
     "output_type": "execute_result"
    }
   ],
   "source": [
    "pd.Series({name:age for name, age in zip(actor_names, actor_ages)})"
   ]
  },
  {
   "cell_type": "code",
   "execution_count": 148,
   "id": "644643ec-d084-41cd-a9d9-3992d9729911",
   "metadata": {},
   "outputs": [],
   "source": [
    "# list, dict comprehension"
   ]
  },
  {
   "cell_type": "code",
   "execution_count": 149,
   "id": "ed3786a6-5ae6-4a3b-b7e4-a7806d7c98b1",
   "metadata": {},
   "outputs": [
    {
     "data": {
      "text/plain": [
       "{0: True, 1: True, 2: True, 3: True, 4: True}"
      ]
     },
     "execution_count": 149,
     "metadata": {},
     "output_type": "execute_result"
    }
   ],
   "source": [
    "dict.fromkeys(range(5), True)"
   ]
  },
  {
   "cell_type": "code",
   "execution_count": 150,
   "id": "f9dae07b-86ea-4a48-95aa-c19bf5f610ee",
   "metadata": {},
   "outputs": [
    {
     "data": {
      "text/plain": [
       "{0: 0, 1: 1, 2: 4, 3: 9, 4: 16}"
      ]
     },
     "execution_count": 150,
     "metadata": {},
     "output_type": "execute_result"
    }
   ],
   "source": [
    "{n: n**2 for n in range(5)}"
   ]
  },
  {
   "cell_type": "markdown",
   "id": "8bb67139-38b7-43f0-8329-49059b45f354",
   "metadata": {},
   "source": [
    "## The head(), tail() methods"
   ]
  },
  {
   "cell_type": "code",
   "execution_count": 285,
   "id": "02a9a244-12ef-4ddf-9f3b-9586c6f55543",
   "metadata": {},
   "outputs": [],
   "source": [
    "int_series = pd.Series(range(60))"
   ]
  },
  {
   "cell_type": "code",
   "execution_count": 286,
   "id": "423c8dbb-29ec-49ce-8309-cada22ade392",
   "metadata": {},
   "outputs": [
    {
     "data": {
      "text/plain": [
       "60"
      ]
     },
     "execution_count": 286,
     "metadata": {},
     "output_type": "execute_result"
    }
   ],
   "source": [
    "int_series.size"
   ]
  },
  {
   "cell_type": "code",
   "execution_count": 153,
   "id": "8844c128-a6ea-426b-bc9d-0ca48e752177",
   "metadata": {},
   "outputs": [
    {
     "data": {
      "text/plain": [
       "60"
      ]
     },
     "execution_count": 153,
     "metadata": {},
     "output_type": "execute_result"
    }
   ],
   "source": [
    "len(int_series)"
   ]
  },
  {
   "cell_type": "code",
   "execution_count": 154,
   "id": "4db52157-1fac-4e24-a3d1-decc13a85ec5",
   "metadata": {},
   "outputs": [
    {
     "data": {
      "text/plain": [
       "0    0\n",
       "1    1\n",
       "2    2\n",
       "3    3\n",
       "4    4\n",
       "dtype: int64"
      ]
     },
     "execution_count": 154,
     "metadata": {},
     "output_type": "execute_result"
    }
   ],
   "source": [
    "int_series.head()"
   ]
  },
  {
   "cell_type": "code",
   "execution_count": 155,
   "id": "018897aa-d09a-42f6-8400-e6ddf149863f",
   "metadata": {},
   "outputs": [
    {
     "data": {
      "text/plain": [
       "55    55\n",
       "56    56\n",
       "57    57\n",
       "58    58\n",
       "59    59\n",
       "dtype: int64"
      ]
     },
     "execution_count": 155,
     "metadata": {},
     "output_type": "execute_result"
    }
   ],
   "source": [
    "int_series.tail()"
   ]
  },
  {
   "cell_type": "code",
   "execution_count": 156,
   "id": "c14c5c52-1e7a-46e5-9658-e7883388d6cc",
   "metadata": {},
   "outputs": [
    {
     "data": {
      "text/plain": [
       "0    0\n",
       "1    1\n",
       "2    2\n",
       "3    3\n",
       "4    4\n",
       "5    5\n",
       "6    6\n",
       "7    7\n",
       "8    8\n",
       "9    9\n",
       "dtype: int64"
      ]
     },
     "execution_count": 156,
     "metadata": {},
     "output_type": "execute_result"
    }
   ],
   "source": [
    "int_series.head(10)"
   ]
  },
  {
   "cell_type": "code",
   "execution_count": 157,
   "id": "baa68bf0-854f-4966-9c28-b547a405d202",
   "metadata": {},
   "outputs": [
    {
     "data": {
      "text/plain": [
       "50    50\n",
       "51    51\n",
       "52    52\n",
       "53    53\n",
       "54    54\n",
       "55    55\n",
       "56    56\n",
       "57    57\n",
       "58    58\n",
       "59    59\n",
       "dtype: int64"
      ]
     },
     "execution_count": 157,
     "metadata": {},
     "output_type": "execute_result"
    }
   ],
   "source": [
    "int_series.tail(n=10)"
   ]
  },
  {
   "cell_type": "code",
   "execution_count": 158,
   "id": "a80800c0-5a48-47c1-99ba-54e6fd09a1db",
   "metadata": {},
   "outputs": [
    {
     "data": {
      "text/plain": [
       "0            0\n",
       "1            1\n",
       "2            2\n",
       "3            3\n",
       "4            4\n",
       "         ...  \n",
       "99995    99995\n",
       "99996    99996\n",
       "99997    99997\n",
       "99998    99998\n",
       "99999    99999\n",
       "Length: 100000, dtype: int64"
      ]
     },
     "execution_count": 158,
     "metadata": {},
     "output_type": "execute_result"
    }
   ],
   "source": [
    "pd.Series(range(100000))"
   ]
  },
  {
   "cell_type": "code",
   "execution_count": 159,
   "id": "3695f189-fc3e-4c28-891f-93bc1e081039",
   "metadata": {},
   "outputs": [],
   "source": [
    "pd.options.display.min_rows = 15 # bad practice, for more control"
   ]
  },
  {
   "cell_type": "code",
   "execution_count": 160,
   "id": "81d8a592-cdcf-4e3d-9267-a95ec5fba51c",
   "metadata": {},
   "outputs": [
    {
     "data": {
      "text/plain": [
       "0            0\n",
       "1            1\n",
       "2            2\n",
       "3            3\n",
       "4            4\n",
       "5            5\n",
       "6            6\n",
       "         ...  \n",
       "99993    99993\n",
       "99994    99994\n",
       "99995    99995\n",
       "99996    99996\n",
       "99997    99997\n",
       "99998    99998\n",
       "99999    99999\n",
       "Length: 100000, dtype: int64"
      ]
     },
     "execution_count": 160,
     "metadata": {},
     "output_type": "execute_result"
    }
   ],
   "source": [
    "pd.Series(range(100000))"
   ]
  },
  {
   "cell_type": "markdown",
   "id": "2e068ddb-330c-44e8-8194-53629eeb3afa",
   "metadata": {},
   "source": [
    "## Extracting By Index Position"
   ]
  },
  {
   "cell_type": "code",
   "execution_count": 293,
   "id": "b8773351-2589-4512-9054-8f3121bb5c6f",
   "metadata": {},
   "outputs": [],
   "source": [
    "from string import ascii_lowercase, ascii_uppercase"
   ]
  },
  {
   "cell_type": "code",
   "execution_count": 294,
   "id": "e0c12e5e-5cba-4e20-bedf-11e5d74ac330",
   "metadata": {},
   "outputs": [
    {
     "data": {
      "text/plain": [
       "('abcdefghijklmnopqrstuvwxyz', 'ABCDEFGHIJKLMNOPQRSTUVWXYZ')"
      ]
     },
     "execution_count": 294,
     "metadata": {},
     "output_type": "execute_result"
    }
   ],
   "source": [
    "ascii_lowercase, ascii_uppercase"
   ]
  },
  {
   "cell_type": "code",
   "execution_count": 163,
   "id": "2513dabe-40d6-4357-845e-9a286b0ab857",
   "metadata": {},
   "outputs": [],
   "source": [
    "alphabet_series = pd.Series(list(ascii_lowercase))"
   ]
  },
  {
   "cell_type": "code",
   "execution_count": 164,
   "id": "6de7bfe3-882c-4a9c-8b58-60305beae8ab",
   "metadata": {},
   "outputs": [
    {
     "data": {
      "text/plain": [
       "0    a\n",
       "dtype: object"
      ]
     },
     "execution_count": 164,
     "metadata": {},
     "output_type": "execute_result"
    }
   ],
   "source": [
    "alphabet_series.head(5).head(1)"
   ]
  },
  {
   "cell_type": "code",
   "execution_count": 165,
   "id": "70e9be99-5013-4f3a-9b42-79d04874a8fe",
   "metadata": {},
   "outputs": [
    {
     "data": {
      "text/plain": [
       "25    z\n",
       "dtype: object"
      ]
     },
     "execution_count": 165,
     "metadata": {},
     "output_type": "execute_result"
    }
   ],
   "source": [
    "alphabet_series.tail(1)"
   ]
  },
  {
   "cell_type": "code",
   "execution_count": 166,
   "id": "e69ed5bf-186d-4931-8842-e478cc3dc1ee",
   "metadata": {},
   "outputs": [
    {
     "data": {
      "text/plain": [
       "0    a\n",
       "1    b\n",
       "2    c\n",
       "3    d\n",
       "4    e\n",
       "dtype: object"
      ]
     },
     "execution_count": 166,
     "metadata": {},
     "output_type": "execute_result"
    }
   ],
   "source": [
    "alphabet_series[0:5]"
   ]
  },
  {
   "cell_type": "code",
   "execution_count": 167,
   "id": "98fbca8d-e515-4462-96ae-6e8a97e881dd",
   "metadata": {},
   "outputs": [
    {
     "data": {
      "text/plain": [
       "'k'"
      ]
     },
     "execution_count": 167,
     "metadata": {},
     "output_type": "execute_result"
    }
   ],
   "source": [
    "alphabet_series[10] # 11th letter"
   ]
  },
  {
   "cell_type": "code",
   "execution_count": 168,
   "id": "fdeca869-96b7-4302-b7c8-de6a10d4cb83",
   "metadata": {},
   "outputs": [
    {
     "data": {
      "text/plain": [
       "0    a\n",
       "1    b\n",
       "2    c\n",
       "dtype: object"
      ]
     },
     "execution_count": 168,
     "metadata": {},
     "output_type": "execute_result"
    }
   ],
   "source": [
    "# alphabet_series[:3]\n",
    "alphabet_series[0:3] # first 3 letter"
   ]
  },
  {
   "cell_type": "code",
   "execution_count": 169,
   "id": "a379faef-ce97-4fd5-a463-b7efa254f974",
   "metadata": {},
   "outputs": [
    {
     "data": {
      "text/plain": [
       "5     f\n",
       "6     g\n",
       "7     h\n",
       "8     i\n",
       "9     j\n",
       "10    k\n",
       "dtype: object"
      ]
     },
     "execution_count": 169,
     "metadata": {},
     "output_type": "execute_result"
    }
   ],
   "source": [
    "alphabet_series[5:11] # sixth to 11th letters"
   ]
  },
  {
   "cell_type": "code",
   "execution_count": 170,
   "id": "37f181d9-3756-4d77-a606-08b88af2f63e",
   "metadata": {},
   "outputs": [
    {
     "data": {
      "text/plain": [
       "20    u\n",
       "21    v\n",
       "22    w\n",
       "23    x\n",
       "24    y\n",
       "25    z\n",
       "dtype: object"
      ]
     },
     "execution_count": 170,
     "metadata": {},
     "output_type": "execute_result"
    }
   ],
   "source": [
    "alphabet_series[-6:] # from end 6th to the end"
   ]
  },
  {
   "cell_type": "code",
   "execution_count": 171,
   "id": "93efa168-c0f9-460f-8536-4aca4fb6ec05",
   "metadata": {},
   "outputs": [
    {
     "data": {
      "text/plain": [
       "'a'"
      ]
     },
     "execution_count": 171,
     "metadata": {},
     "output_type": "execute_result"
    }
   ],
   "source": [
    "alphabet_series.iloc[0]"
   ]
  },
  {
   "cell_type": "markdown",
   "id": "7c23d6c0-64a6-4169-b186-014d751ff072",
   "metadata": {},
   "source": [
    "## Accessing Elements By Label"
   ]
  },
  {
   "cell_type": "code",
   "execution_count": 172,
   "id": "b575eb5c-f6f0-4c19-95b3-5c8b531108d2",
   "metadata": {},
   "outputs": [],
   "source": [
    "from string import ascii_uppercase"
   ]
  },
  {
   "cell_type": "code",
   "execution_count": 173,
   "id": "2b8ee176-ab94-432a-98ca-7d76b419b72b",
   "metadata": {},
   "outputs": [
    {
     "data": {
      "text/plain": [
       "'ABCDEFGHIJKLMNOPQRSTUVWXYZ'"
      ]
     },
     "execution_count": 173,
     "metadata": {},
     "output_type": "execute_result"
    }
   ],
   "source": [
    "ascii_uppercase"
   ]
  },
  {
   "cell_type": "code",
   "execution_count": 174,
   "id": "927b1c09-3ad8-436e-a32e-446c55c3a68a",
   "metadata": {},
   "outputs": [
    {
     "data": {
      "text/plain": [
       "'abcdefghijklmnopqrstuvwxyz'"
      ]
     },
     "execution_count": 174,
     "metadata": {},
     "output_type": "execute_result"
    }
   ],
   "source": [
    "ascii_lowercase"
   ]
  },
  {
   "cell_type": "code",
   "execution_count": 175,
   "id": "29db443c-ebf9-47bc-bd20-f43662aec9d7",
   "metadata": {},
   "outputs": [],
   "source": [
    "labeled_alphabet = pd.Series(data=list(ascii_lowercase), index=map(lambda x: 'label_' + x ,list(ascii_uppercase)))"
   ]
  },
  {
   "cell_type": "code",
   "execution_count": 176,
   "id": "9b95050f-ee5a-47a0-83cb-36c891166259",
   "metadata": {},
   "outputs": [
    {
     "data": {
      "text/plain": [
       "label_A    a\n",
       "label_B    b\n",
       "label_C    c\n",
       "label_D    d\n",
       "label_E    e\n",
       "dtype: object"
      ]
     },
     "execution_count": 176,
     "metadata": {},
     "output_type": "execute_result"
    }
   ],
   "source": [
    "labeled_alphabet.head()"
   ]
  },
  {
   "cell_type": "code",
   "execution_count": 177,
   "id": "e7eabb51-8f67-4d87-a212-179dc1b72c74",
   "metadata": {},
   "outputs": [
    {
     "data": {
      "text/plain": [
       "label_X    x\n",
       "label_Y    y\n",
       "label_Z    z\n",
       "dtype: object"
      ]
     },
     "execution_count": 177,
     "metadata": {},
     "output_type": "execute_result"
    }
   ],
   "source": [
    "labeled_alphabet.tail(3)"
   ]
  },
  {
   "cell_type": "code",
   "execution_count": 178,
   "id": "d5c0a9bf-658e-4e6c-9c47-3c15c25e2e97",
   "metadata": {},
   "outputs": [
    {
     "data": {
      "text/plain": [
       "'a'"
      ]
     },
     "execution_count": 178,
     "metadata": {},
     "output_type": "execute_result"
    }
   ],
   "source": [
    "labeled_alphabet['label_A']"
   ]
  },
  {
   "cell_type": "code",
   "execution_count": 179,
   "id": "dbfd74e3-7a20-4864-bb11-342621710310",
   "metadata": {},
   "outputs": [
    {
     "data": {
      "text/plain": [
       "'a'"
      ]
     },
     "execution_count": 179,
     "metadata": {},
     "output_type": "execute_result"
    }
   ],
   "source": [
    "labeled_alphabet.iloc[0]"
   ]
  },
  {
   "cell_type": "code",
   "execution_count": 180,
   "id": "31612b3b-9bd2-4a0d-ae71-5e31a4182ac5",
   "metadata": {},
   "outputs": [
    {
     "data": {
      "text/plain": [
       "'k'"
      ]
     },
     "execution_count": 180,
     "metadata": {},
     "output_type": "execute_result"
    }
   ],
   "source": [
    "labeled_alphabet.iloc[10]"
   ]
  },
  {
   "cell_type": "code",
   "execution_count": 181,
   "id": "1aacf8eb-42a9-411c-a1d3-2fa3df0fcbd2",
   "metadata": {},
   "outputs": [
    {
     "data": {
      "text/plain": [
       "'k'"
      ]
     },
     "execution_count": 181,
     "metadata": {},
     "output_type": "execute_result"
    }
   ],
   "source": [
    "labeled_alphabet['label_K']"
   ]
  },
  {
   "cell_type": "code",
   "execution_count": 182,
   "id": "8abaf3b7-2ad5-4c7a-b2e7-995f60f9a253",
   "metadata": {},
   "outputs": [
    {
     "data": {
      "text/plain": [
       "label_A    a\n",
       "label_B    b\n",
       "label_C    c\n",
       "dtype: object"
      ]
     },
     "execution_count": 182,
     "metadata": {},
     "output_type": "execute_result"
    }
   ],
   "source": [
    "labeled_alphabet.iloc[:3]"
   ]
  },
  {
   "cell_type": "code",
   "execution_count": 183,
   "id": "be349ff4-2a7c-4c69-bc34-f24e8ca1f5fd",
   "metadata": {},
   "outputs": [
    {
     "data": {
      "text/plain": [
       "label_A    a\n",
       "label_B    b\n",
       "label_C    c\n",
       "dtype: object"
      ]
     },
     "execution_count": 183,
     "metadata": {},
     "output_type": "execute_result"
    }
   ],
   "source": [
    "labeled_alphabet[:'label_C']"
   ]
  },
  {
   "cell_type": "code",
   "execution_count": 184,
   "id": "9bd18fdb-b5bf-434f-b9bb-9f99eafc12cb",
   "metadata": {},
   "outputs": [
    {
     "data": {
      "text/plain": [
       "<pandas.core.indexing._iLocIndexer at 0xffff813f3f40>"
      ]
     },
     "execution_count": 184,
     "metadata": {},
     "output_type": "execute_result"
    }
   ],
   "source": [
    "labeled_alphabet.iloc"
   ]
  },
  {
   "cell_type": "code",
   "execution_count": 185,
   "id": "81d44d25-64c4-4fc4-a011-b385ae390dbd",
   "metadata": {},
   "outputs": [
    {
     "data": {
      "text/plain": [
       "label_F    f\n",
       "label_G    g\n",
       "label_H    h\n",
       "label_I    i\n",
       "label_J    j\n",
       "dtype: object"
      ]
     },
     "execution_count": 185,
     "metadata": {},
     "output_type": "execute_result"
    }
   ],
   "source": [
    "labeled_alphabet.iloc[5:10]"
   ]
  },
  {
   "cell_type": "code",
   "execution_count": 186,
   "id": "7905c27c-2eac-4e2d-8637-fb39977ba072",
   "metadata": {},
   "outputs": [
    {
     "data": {
      "text/plain": [
       "label_F    f\n",
       "label_G    g\n",
       "label_H    h\n",
       "label_I    i\n",
       "label_J    j\n",
       "dtype: object"
      ]
     },
     "execution_count": 186,
     "metadata": {},
     "output_type": "execute_result"
    }
   ],
   "source": [
    "labeled_alphabet['label_F': 'label_J']"
   ]
  },
  {
   "cell_type": "code",
   "execution_count": 187,
   "id": "564b29c8-5a5d-4d9d-a332-661b9908a6cf",
   "metadata": {},
   "outputs": [
    {
     "data": {
      "text/plain": [
       "label_U    u\n",
       "label_V    v\n",
       "label_W    w\n",
       "label_X    x\n",
       "label_Y    y\n",
       "label_Z    z\n",
       "dtype: object"
      ]
     },
     "execution_count": 187,
     "metadata": {},
     "output_type": "execute_result"
    }
   ],
   "source": [
    "labeled_alphabet.iloc[-6:]"
   ]
  },
  {
   "cell_type": "code",
   "execution_count": 188,
   "id": "23ddf5b4-6d48-4a21-9e52-50e7ffa752c2",
   "metadata": {},
   "outputs": [
    {
     "data": {
      "text/plain": [
       "label_U    u\n",
       "label_V    v\n",
       "label_W    w\n",
       "label_X    x\n",
       "label_Y    y\n",
       "label_Z    z\n",
       "dtype: object"
      ]
     },
     "execution_count": 188,
     "metadata": {},
     "output_type": "execute_result"
    }
   ],
   "source": [
    "labeled_alphabet['label_U':]"
   ]
  },
  {
   "cell_type": "markdown",
   "id": "c83a7cf9-59e5-4c13-a23c-0fc730c36d71",
   "metadata": {},
   "source": [
    "**Assessing Postion by Label or Index is possible via same squre brackets**"
   ]
  },
  {
   "cell_type": "markdown",
   "id": "d1237906-a885-48cd-9345-724f3ed5449c",
   "metadata": {},
   "source": [
    "## The `add_prefix()` and `add_suffix()` methods"
   ]
  },
  {
   "cell_type": "code",
   "execution_count": 189,
   "id": "0f0b0539-5579-4cdf-866f-6b4182aa10c6",
   "metadata": {},
   "outputs": [
    {
     "data": {
      "text/plain": [
       "0    a\n",
       "1    b\n",
       "2    c\n",
       "3    d\n",
       "4    e\n",
       "dtype: object"
      ]
     },
     "execution_count": 189,
     "metadata": {},
     "output_type": "execute_result"
    }
   ],
   "source": [
    "alphabet_series.head()"
   ]
  },
  {
   "cell_type": "code",
   "execution_count": 190,
   "id": "ec1ba727-aefe-4671-b069-e7dd3a3fc991",
   "metadata": {},
   "outputs": [
    {
     "data": {
      "text/plain": [
       "label_0    a\n",
       "label_1    b\n",
       "label_2    c\n",
       "dtype: object"
      ]
     },
     "execution_count": 190,
     "metadata": {},
     "output_type": "execute_result"
    }
   ],
   "source": [
    "alphabet_series.add_prefix('label_').head(3)"
   ]
  },
  {
   "cell_type": "code",
   "execution_count": 295,
   "id": "c3206947-b47b-4c67-8077-84789086e496",
   "metadata": {},
   "outputs": [
    {
     "data": {
      "text/plain": [
       "0_x_some_cool_ending    a\n",
       "1_x_some_cool_ending    b\n",
       "2_x_some_cool_ending    c\n",
       "dtype: object"
      ]
     },
     "execution_count": 295,
     "metadata": {},
     "output_type": "execute_result"
    }
   ],
   "source": [
    "alphabet_series.add_suffix('_some_cool_ending').head(3)"
   ]
  },
  {
   "cell_type": "code",
   "execution_count": 298,
   "id": "68ae482a-09b6-4204-88ea-29db263c8876",
   "metadata": {},
   "outputs": [
    {
     "data": {
      "text/plain": [
       "0_x    a\n",
       "1_x    b\n",
       "2_x    c\n",
       "3_x    d\n",
       "dtype: object"
      ]
     },
     "execution_count": 298,
     "metadata": {},
     "output_type": "execute_result"
    }
   ],
   "source": [
    "alphabet_series.head(4)"
   ]
  },
  {
   "cell_type": "code",
   "execution_count": 192,
   "id": "8addc8fa-591e-4886-a7a4-5ce98c80ccd9",
   "metadata": {},
   "outputs": [],
   "source": [
    "## This doesn't modify the actual data in the series, just create a copy of variable"
   ]
  },
  {
   "cell_type": "code",
   "execution_count": 193,
   "id": "076764f4-22fb-4ae0-bc6b-a38cc1820a4e",
   "metadata": {},
   "outputs": [],
   "source": [
    "alphabet_series = alphabet_series.add_suffix('_x')"
   ]
  },
  {
   "cell_type": "code",
   "execution_count": 194,
   "id": "909c51c1-0e92-42cc-8756-3512384c96a4",
   "metadata": {},
   "outputs": [
    {
     "data": {
      "text/plain": [
       "0_x    a\n",
       "1_x    b\n",
       "2_x    c\n",
       "dtype: object"
      ]
     },
     "execution_count": 194,
     "metadata": {},
     "output_type": "execute_result"
    }
   ],
   "source": [
    "alphabet_series.head(3)"
   ]
  },
  {
   "cell_type": "markdown",
   "id": "e657cf9d-f04f-42f5-baa8-9918160c8d52",
   "metadata": {},
   "source": [
    "## Using Dot Notation"
   ]
  },
  {
   "cell_type": "code",
   "execution_count": 195,
   "id": "c6a3e7f5-bec0-43e3-b22e-9c1a650207a2",
   "metadata": {},
   "outputs": [
    {
     "data": {
      "text/plain": [
       "'v'"
      ]
     },
     "execution_count": 195,
     "metadata": {},
     "output_type": "execute_result"
    }
   ],
   "source": [
    "labeled_alphabet['label_V']"
   ]
  },
  {
   "cell_type": "code",
   "execution_count": 299,
   "id": "b190823f-533b-4d2a-a921-498484e605f8",
   "metadata": {},
   "outputs": [
    {
     "data": {
      "text/plain": [
       "'v'"
      ]
     },
     "execution_count": 299,
     "metadata": {},
     "output_type": "execute_result"
    }
   ],
   "source": [
    "labeled_alphabet.label_V # it has some set of it's own limitation"
   ]
  },
  {
   "cell_type": "code",
   "execution_count": 197,
   "id": "0e1f9f77-39e9-4991-8045-9b9f4f66c72d",
   "metadata": {},
   "outputs": [
    {
     "data": {
      "text/plain": [
       "label_U    u\n",
       "dtype: object"
      ]
     },
     "execution_count": 197,
     "metadata": {},
     "output_type": "execute_result"
    }
   ],
   "source": [
    "labeled_alphabet.iloc[-6:-5]"
   ]
  },
  {
   "cell_type": "code",
   "execution_count": 198,
   "id": "4cb6a521-8339-4d39-8807-addfea721202",
   "metadata": {},
   "outputs": [
    {
     "data": {
      "text/plain": [
       "Series([], dtype: object)"
      ]
     },
     "execution_count": 198,
     "metadata": {},
     "output_type": "execute_result"
    }
   ],
   "source": [
    "labeled_alphabet['label_v': 'label_x']"
   ]
  },
  {
   "cell_type": "code",
   "execution_count": 199,
   "id": "afcaa262-0853-48d8-8a2d-c40c319938dc",
   "metadata": {},
   "outputs": [],
   "source": [
    "# labeled_alphabet.label_V:label_X"
   ]
  },
  {
   "cell_type": "code",
   "execution_count": 200,
   "id": "e0ce602a-8588-43b9-94d3-7b74c67e5954",
   "metadata": {},
   "outputs": [],
   "source": [
    "# labeled_alphabet.label v more label"
   ]
  },
  {
   "cell_type": "markdown",
   "id": "88678b80-1ffe-4a45-9d8b-bda285b13bf3",
   "metadata": {},
   "source": [
    "## Boolean Masks And The `.loc` or `.iloc` Indexer"
   ]
  },
  {
   "cell_type": "code",
   "execution_count": 201,
   "id": "40bfd347-86f2-4a0d-8816-df92564b263e",
   "metadata": {},
   "outputs": [
    {
     "data": {
      "text/plain": [
       "label_F    f\n",
       "label_G    g\n",
       "label_H    h\n",
       "label_I    i\n",
       "label_J    j\n",
       "dtype: object"
      ]
     },
     "execution_count": 201,
     "metadata": {},
     "output_type": "execute_result"
    }
   ],
   "source": [
    "labeled_alphabet['label_F': 'label_J']"
   ]
  },
  {
   "cell_type": "code",
   "execution_count": 202,
   "id": "415a9c56-4610-49aa-9d1f-536a307a4842",
   "metadata": {},
   "outputs": [
    {
     "data": {
      "text/plain": [
       "label_F    f\n",
       "label_G    g\n",
       "label_H    h\n",
       "label_I    i\n",
       "label_J    j\n",
       "dtype: object"
      ]
     },
     "execution_count": 202,
     "metadata": {},
     "output_type": "execute_result"
    }
   ],
   "source": [
    "labeled_alphabet.loc['label_F': 'label_J']"
   ]
  },
  {
   "cell_type": "code",
   "execution_count": 203,
   "id": "3e9d54ce-f06d-43bc-a468-b8cdd8a31b64",
   "metadata": {},
   "outputs": [
    {
     "data": {
      "text/plain": [
       "My Books\n",
       "0    Fooled by Randomness\n",
       "1           Eat That Frog\n",
       "2      Lenin on the Train\n",
       "Name: My Favorite Books, dtype: object"
      ]
     },
     "execution_count": 203,
     "metadata": {},
     "output_type": "execute_result"
    }
   ],
   "source": [
    "list_series"
   ]
  },
  {
   "cell_type": "code",
   "execution_count": 204,
   "id": "08e18f5b-8147-45a4-b1e0-247598e7262b",
   "metadata": {},
   "outputs": [
    {
     "data": {
      "text/plain": [
       "My Books\n",
       "0    Fooled by Randomness\n",
       "1           Eat That Frog\n",
       "2      Lenin on the Train\n",
       "Name: My Favorite Books, dtype: object"
      ]
     },
     "execution_count": 204,
     "metadata": {},
     "output_type": "execute_result"
    }
   ],
   "source": [
    "list_series.loc[[True, True, True]]"
   ]
  },
  {
   "cell_type": "code",
   "execution_count": 205,
   "id": "3d1fe206-d2d5-4a1d-80c2-a26ff7257725",
   "metadata": {},
   "outputs": [
    {
     "data": {
      "text/plain": [
       "My Books\n",
       "0    Fooled by Randomness\n",
       "2      Lenin on the Train\n",
       "Name: My Favorite Books, dtype: object"
      ]
     },
     "execution_count": 205,
     "metadata": {},
     "output_type": "execute_result"
    }
   ],
   "source": [
    "list_series.loc[[True, False, True]]"
   ]
  },
  {
   "cell_type": "code",
   "execution_count": 206,
   "id": "037018bd-2fe0-4d88-b400-4b642412f3a4",
   "metadata": {},
   "outputs": [],
   "source": [
    "# The length of the mask should be the length of series"
   ]
  },
  {
   "cell_type": "code",
   "execution_count": 207,
   "id": "98904a21-e095-4395-b197-0dfbaed646a4",
   "metadata": {},
   "outputs": [],
   "source": [
    "# list_series.loc[[True, True]] - Get a index error"
   ]
  },
  {
   "cell_type": "code",
   "execution_count": 208,
   "id": "305035fb-ed61-4e22-9b41-6c25f7d1769c",
   "metadata": {},
   "outputs": [
    {
     "data": {
      "text/plain": [
       "label_A    a\n",
       "label_B    b\n",
       "label_C    c\n",
       "dtype: object"
      ]
     },
     "execution_count": 208,
     "metadata": {},
     "output_type": "execute_result"
    }
   ],
   "source": [
    "labeled_alphabet.head(3)"
   ]
  },
  {
   "cell_type": "code",
   "execution_count": 209,
   "id": "2c9c594b-5e33-4430-b68c-1ce7f63e84bb",
   "metadata": {},
   "outputs": [
    {
     "data": {
      "text/plain": [
       "26"
      ]
     },
     "execution_count": 209,
     "metadata": {},
     "output_type": "execute_result"
    }
   ],
   "source": [
    "labeled_alphabet.size"
   ]
  },
  {
   "cell_type": "code",
   "execution_count": 210,
   "id": "e526df04-fb8b-40b6-805c-07594b226b03",
   "metadata": {},
   "outputs": [],
   "source": [
    "# labeled_alphabet.loc[[True, False]]"
   ]
  },
  {
   "cell_type": "code",
   "execution_count": 211,
   "id": "d875e5e7-ef72-4dca-b727-efbaed72e336",
   "metadata": {},
   "outputs": [
    {
     "data": {
      "text/plain": [
       "label_A    a\n",
       "label_B    b\n",
       "label_C    c\n",
       "label_D    d\n",
       "label_E    e\n",
       "label_F    f\n",
       "label_G    g\n",
       "label_H    h\n",
       "label_I    i\n",
       "label_J    j\n",
       "label_K    k\n",
       "label_L    l\n",
       "label_M    m\n",
       "label_N    n\n",
       "label_O    o\n",
       "label_P    p\n",
       "label_Q    q\n",
       "label_R    r\n",
       "label_S    s\n",
       "label_T    t\n",
       "label_U    u\n",
       "label_V    v\n",
       "label_W    w\n",
       "label_X    x\n",
       "label_Y    y\n",
       "label_Z    z\n",
       "dtype: object"
      ]
     },
     "execution_count": 211,
     "metadata": {},
     "output_type": "execute_result"
    }
   ],
   "source": [
    "labeled_alphabet.loc[[True for i in range(labeled_alphabet.size)]]"
   ]
  },
  {
   "cell_type": "code",
   "execution_count": 212,
   "id": "c0de69e1-fa10-4331-967d-7d11ccaf08c7",
   "metadata": {},
   "outputs": [
    {
     "data": {
      "text/plain": [
       "label_A    a\n",
       "label_C    c\n",
       "label_E    e\n",
       "label_G    g\n",
       "label_I    i\n",
       "label_K    k\n",
       "label_M    m\n",
       "label_O    o\n",
       "label_Q    q\n",
       "label_S    s\n",
       "label_U    u\n",
       "label_W    w\n",
       "label_Y    y\n",
       "dtype: object"
      ]
     },
     "execution_count": 212,
     "metadata": {},
     "output_type": "execute_result"
    }
   ],
   "source": [
    "labeled_alphabet.loc[[(True if i % 2 == 0 else False) for i in range(labeled_alphabet.size)]]"
   ]
  },
  {
   "cell_type": "code",
   "execution_count": 213,
   "id": "e24c2883-05e6-4015-a321-81bff6e2695f",
   "metadata": {},
   "outputs": [
    {
     "data": {
      "text/plain": [
       "0    a\n",
       "2    c\n",
       "dtype: object"
      ]
     },
     "execution_count": 213,
     "metadata": {},
     "output_type": "execute_result"
    }
   ],
   "source": [
    "pd.Series(['a', 'b', 'c'])[[True, False, True]]"
   ]
  },
  {
   "cell_type": "markdown",
   "id": "f64ca28b-1eb1-4308-afb9-4b875999995e",
   "metadata": {},
   "source": [
    "#### Boolean Masks\n",
    "- used to index select items at scale\n",
    "- works with [] and .loc\n",
    "- need to be same length as series\n",
    "- iloc is `index` based extractor approach\n",
    "- loc is `label` based extractor approach"
   ]
  },
  {
   "cell_type": "markdown",
   "id": "06c8b7bb-5835-48da-9f12-a12167902c09",
   "metadata": {},
   "source": [
    "## Extracting By Position With `.iloc`"
   ]
  },
  {
   "cell_type": "code",
   "execution_count": 214,
   "id": "25e82f30-6e0f-44b3-877c-9e8138be464a",
   "metadata": {},
   "outputs": [],
   "source": [
    "# iloc -> integer loc -> indexing by position\n",
    "# loc -> location -> indexing by label"
   ]
  },
  {
   "cell_type": "code",
   "execution_count": 215,
   "id": "6eb0a38e-e66e-45c6-ae5f-18ee36360b7f",
   "metadata": {},
   "outputs": [
    {
     "data": {
      "text/plain": [
       "'a'"
      ]
     },
     "execution_count": 215,
     "metadata": {},
     "output_type": "execute_result"
    }
   ],
   "source": [
    "labeled_alphabet.iloc[0]"
   ]
  },
  {
   "cell_type": "code",
   "execution_count": 216,
   "id": "e687e3f3-ab87-4584-b4d8-80c7f6ba94d2",
   "metadata": {},
   "outputs": [
    {
     "data": {
      "text/plain": [
       "'b'"
      ]
     },
     "execution_count": 216,
     "metadata": {},
     "output_type": "execute_result"
    }
   ],
   "source": [
    "labeled_alphabet.iloc[1]"
   ]
  },
  {
   "cell_type": "code",
   "execution_count": 217,
   "id": "0273537e-7539-402c-93af-13eff3619595",
   "metadata": {},
   "outputs": [
    {
     "data": {
      "text/plain": [
       "label_B    b\n",
       "label_C    c\n",
       "dtype: object"
      ]
     },
     "execution_count": 217,
     "metadata": {},
     "output_type": "execute_result"
    }
   ],
   "source": [
    "labeled_alphabet.iloc[1:3]"
   ]
  },
  {
   "cell_type": "code",
   "execution_count": 218,
   "id": "09c430cf-3304-4ff1-ab0b-928b26ab3d68",
   "metadata": {},
   "outputs": [],
   "source": [
    "# akin: similar to"
   ]
  },
  {
   "cell_type": "code",
   "execution_count": 300,
   "id": "d8643aba-b1d3-4c36-95c2-9f270b387d7d",
   "metadata": {},
   "outputs": [
    {
     "data": {
      "text/plain": [
       "label_B    b\n",
       "label_E    e\n",
       "label_J    j\n",
       "dtype: object"
      ]
     },
     "execution_count": 300,
     "metadata": {},
     "output_type": "execute_result"
    }
   ],
   "source": [
    "labeled_alphabet.iloc[[1, 4, 9]] # index position that we want to extract"
   ]
  },
  {
   "cell_type": "markdown",
   "id": "10bff288-66fd-4793-9399-0d43e31221ea",
   "metadata": {},
   "source": [
    "## Using Callables With `.loc` And `.iloc`\n",
    "\n",
    "##### Indexing with Callables\n",
    "- uses for highly customizable indexing\n",
    "- work with [], .loc and .iloc\n",
    "- a single-argument function that returns indexing output, where output means\n",
    "    - a list of labels\n",
    "    - list of booleans\n",
    "    - a slice, etc"
   ]
  },
  {
   "cell_type": "code",
   "execution_count": 220,
   "id": "f30cd16a-6fe4-40f1-824c-4197ef7ecc4f",
   "metadata": {},
   "outputs": [
    {
     "data": {
      "text/plain": [
       "'v'"
      ]
     },
     "execution_count": 220,
     "metadata": {},
     "output_type": "execute_result"
    }
   ],
   "source": [
    "labeled_alphabet.loc['label_V']"
   ]
  },
  {
   "cell_type": "code",
   "execution_count": 301,
   "id": "256665dd-1e69-45da-b8cb-4f0e08b9d9ce",
   "metadata": {},
   "outputs": [
    {
     "data": {
      "text/plain": [
       "'v'"
      ]
     },
     "execution_count": 301,
     "metadata": {},
     "output_type": "execute_result"
    }
   ],
   "source": [
    "labeled_alphabet.loc[lambda x: 'label_V'] # this is just same as above one"
   ]
  },
  {
   "cell_type": "code",
   "execution_count": 222,
   "id": "1ae123ac-54ca-4c93-8e45-8b264f4a26db",
   "metadata": {},
   "outputs": [
    {
     "data": {
      "text/plain": [
       "label_V    v\n",
       "label_A    a\n",
       "dtype: object"
      ]
     },
     "execution_count": 222,
     "metadata": {},
     "output_type": "execute_result"
    }
   ],
   "source": [
    "labeled_alphabet.loc[lambda x: ['label_V', 'label_A']]"
   ]
  },
  {
   "cell_type": "code",
   "execution_count": 223,
   "id": "64439610-1297-4540-9f05-cacf9620ea70",
   "metadata": {},
   "outputs": [
    {
     "data": {
      "text/plain": [
       "Series([], dtype: object)"
      ]
     },
     "execution_count": 223,
     "metadata": {},
     "output_type": "execute_result"
    }
   ],
   "source": [
    "labeled_alphabet.loc[lambda x: []]"
   ]
  },
  {
   "cell_type": "code",
   "execution_count": 224,
   "id": "ab815be8-22c3-4f56-ada1-fc05b3ac60da",
   "metadata": {},
   "outputs": [
    {
     "data": {
      "text/plain": [
       "label_A    a\n",
       "label_B    b\n",
       "label_C    c\n",
       "label_D    d\n",
       "label_E    e\n",
       "dtype: object"
      ]
     },
     "execution_count": 224,
     "metadata": {},
     "output_type": "execute_result"
    }
   ],
   "source": [
    "labeled_alphabet.loc[lambda x: [True for i in range(x.size)]].head(5)"
   ]
  },
  {
   "cell_type": "code",
   "execution_count": 225,
   "id": "0a06f17f-ee6a-4a7d-8473-7e6751c23f68",
   "metadata": {},
   "outputs": [],
   "source": [
    "def every_fifth(x):\n",
    "    return [True if (i+1)%5==0 else False for i in range(x.size)]"
   ]
  },
  {
   "cell_type": "code",
   "execution_count": 226,
   "id": "c9720a0d-90ac-4b2c-ae3d-f2e48815c383",
   "metadata": {},
   "outputs": [
    {
     "data": {
      "text/plain": [
       "label_E    e\n",
       "label_J    j\n",
       "label_O    o\n",
       "label_T    t\n",
       "label_Y    y\n",
       "dtype: object"
      ]
     },
     "execution_count": 226,
     "metadata": {},
     "output_type": "execute_result"
    }
   ],
   "source": [
    "labeled_alphabet.iloc[every_fifth]"
   ]
  },
  {
   "cell_type": "markdown",
   "id": "25113b09-e7c9-4337-abfb-63ead5eeb0a8",
   "metadata": {},
   "source": [
    "## Selection With `.get()`"
   ]
  },
  {
   "cell_type": "code",
   "execution_count": 227,
   "id": "264d51b1-11b0-44fb-9bff-683fd9a42b92",
   "metadata": {},
   "outputs": [
    {
     "data": {
      "text/plain": [
       "'i'"
      ]
     },
     "execution_count": 227,
     "metadata": {},
     "output_type": "execute_result"
    }
   ],
   "source": [
    "labeled_alphabet.get('label_I')"
   ]
  },
  {
   "cell_type": "code",
   "execution_count": 228,
   "id": "cf9efb48-6e0c-443a-9124-6292cda911bb",
   "metadata": {},
   "outputs": [
    {
     "data": {
      "text/plain": [
       "'i'"
      ]
     },
     "execution_count": 228,
     "metadata": {},
     "output_type": "execute_result"
    }
   ],
   "source": [
    "labeled_alphabet.loc['label_I']"
   ]
  },
  {
   "cell_type": "code",
   "execution_count": 229,
   "id": "50447725-d177-4355-8a88-cfdb23c97ec5",
   "metadata": {},
   "outputs": [
    {
     "data": {
      "text/plain": [
       "'i'"
      ]
     },
     "execution_count": 229,
     "metadata": {},
     "output_type": "execute_result"
    }
   ],
   "source": [
    "labeled_alphabet['label_I']"
   ]
  },
  {
   "cell_type": "code",
   "execution_count": 230,
   "id": "8cda8659-2f46-41ad-bf24-ad57fae0e406",
   "metadata": {},
   "outputs": [],
   "source": [
    "labeled_alphabet.get('label_Inexist')"
   ]
  },
  {
   "cell_type": "code",
   "execution_count": 231,
   "id": "399bd62b-d187-4c60-b3f8-087e082df844",
   "metadata": {},
   "outputs": [
    {
     "data": {
      "text/plain": [
       "True"
      ]
     },
     "execution_count": 231,
     "metadata": {},
     "output_type": "execute_result"
    }
   ],
   "source": [
    "labeled_alphabet.get('Index_unknown') == None"
   ]
  },
  {
   "cell_type": "code",
   "execution_count": 232,
   "id": "b266bd83-8a01-4644-b751-f40a4fee0c77",
   "metadata": {},
   "outputs": [
    {
     "data": {
      "text/plain": [
       "'not found'"
      ]
     },
     "execution_count": 232,
     "metadata": {},
     "output_type": "execute_result"
    }
   ],
   "source": [
    "labeled_alphabet.get('Index_unknown', default='not found')"
   ]
  },
  {
   "cell_type": "code",
   "execution_count": 233,
   "id": "f3e4ab37-683a-46db-9ebb-a1c13ab31fd5",
   "metadata": {},
   "outputs": [
    {
     "data": {
      "text/plain": [
       "99.12"
      ]
     },
     "execution_count": 233,
     "metadata": {},
     "output_type": "execute_result"
    }
   ],
   "source": [
    "labeled_alphabet.get('Index_unknown', default=99.12)"
   ]
  },
  {
   "cell_type": "code",
   "execution_count": 234,
   "id": "f2afdaa0-edf6-4517-8e12-79fdb67a4ba2",
   "metadata": {},
   "outputs": [],
   "source": [
    "# labeled_alphabet.loc['label_unknown'] raises, error"
   ]
  },
  {
   "cell_type": "code",
   "execution_count": 235,
   "id": "dc68af2b-c765-40a8-8c7d-f000cacf17c0",
   "metadata": {},
   "outputs": [],
   "source": [
    "# chimera: greek mythology creature with the head of a lion and body of a goat and python tail"
   ]
  },
  {
   "cell_type": "markdown",
   "id": "3ebef274-2d00-4909-9e52-9777dcff913a",
   "metadata": {},
   "source": [
    "##### Selection By Label\n",
    "\n",
    "Approach | Example | Comment\n",
    "---|---|---\n",
    "[idx'ing] | series['label'] | slices, callables, boolean mask\n",
    ".loc[] | series.loc['label'] | slices, callables, boolean mask\n",
    "dot access | series.label | no slice or boolean, boolean mask\n",
    ".get() | series.get('label') | no slice, provides default, forgiving\n",
    "\n",
    "##### Selection By Position\n",
    "\n",
    "Approach | Example | Comment\n",
    "---|---|---\n",
    "[idx'ing] | series[0] | slices, callables, boolean mask\n",
    ".loc[] | series.iloc[0] | slices, callables, boolean mask\n",
    ".get() | series.get(0) | no slice, provides default, forgiving"
   ]
  },
  {
   "cell_type": "markdown",
   "id": "e8ab29fd-75c7-455d-ba8c-c61b40f03add",
   "metadata": {},
   "source": [
    "## Skill Challenge 😈"
   ]
  },
  {
   "cell_type": "markdown",
   "id": "c9b6b912-a847-4120-a9ec-8d1af1a905a1",
   "metadata": {},
   "source": [
    "Create a series of length 100 containing the squares of integers from 0 to 99. Assign it to the variable squares"
   ]
  },
  {
   "cell_type": "code",
   "execution_count": 236,
   "id": "c0fd9106-e414-4c9d-8b04-3e743a552d6b",
   "metadata": {},
   "outputs": [],
   "source": [
    "squares = pd.Series(data=map(lambda x: x**2, range(100)))"
   ]
  },
  {
   "cell_type": "code",
   "execution_count": 237,
   "id": "3d071789-26e5-4920-bddc-0452cf6a5872",
   "metadata": {},
   "outputs": [
    {
     "data": {
      "text/plain": [
       "100"
      ]
     },
     "execution_count": 237,
     "metadata": {},
     "output_type": "execute_result"
    }
   ],
   "source": [
    "squares.size"
   ]
  },
  {
   "cell_type": "code",
   "execution_count": 238,
   "id": "065f34df-c36b-45d4-a274-1999404c56eb",
   "metadata": {},
   "outputs": [
    {
     "data": {
      "text/plain": [
       "0     0\n",
       "1     1\n",
       "2     4\n",
       "3     9\n",
       "4    16\n",
       "dtype: int64"
      ]
     },
     "execution_count": 238,
     "metadata": {},
     "output_type": "execute_result"
    }
   ],
   "source": [
    "squares.head()"
   ]
  },
  {
   "cell_type": "markdown",
   "id": "be6c9461-4538-4a7a-b2dc-1cafa8d61bb7",
   "metadata": {},
   "source": [
    "Extract the last three items from the squares series using square bracket indexing"
   ]
  },
  {
   "cell_type": "code",
   "execution_count": 239,
   "id": "23f34ed6-aa3e-43de-8dda-364b0968452c",
   "metadata": {},
   "outputs": [
    {
     "data": {
      "text/plain": [
       "95    9025\n",
       "96    9216\n",
       "97    9409\n",
       "98    9604\n",
       "99    9801\n",
       "dtype: int64"
      ]
     },
     "execution_count": 239,
     "metadata": {},
     "output_type": "execute_result"
    }
   ],
   "source": [
    "squares.tail()"
   ]
  },
  {
   "cell_type": "code",
   "execution_count": 240,
   "id": "e9b0df47-f098-4f0c-91f3-44d11496e063",
   "metadata": {},
   "outputs": [
    {
     "data": {
      "text/plain": [
       "97    9409\n",
       "98    9604\n",
       "99    9801\n",
       "dtype: int64"
      ]
     },
     "execution_count": 240,
     "metadata": {},
     "output_type": "execute_result"
    }
   ],
   "source": [
    "squares.iloc[-3:]"
   ]
  },
  {
   "cell_type": "markdown",
   "id": "3f9f3e69-670e-4b12-b1fb-597c856ed12a",
   "metadata": {},
   "source": [
    "Repeat Step 2 but using the .tail() method instead."
   ]
  },
  {
   "cell_type": "code",
   "execution_count": 241,
   "id": "87fdf7d3-6971-49a0-8f75-166a2b3b898e",
   "metadata": {},
   "outputs": [
    {
     "data": {
      "text/plain": [
       "97    9409\n",
       "98    9604\n",
       "99    9801\n",
       "dtype: int64"
      ]
     },
     "execution_count": 241,
     "metadata": {},
     "output_type": "execute_result"
    }
   ],
   "source": [
    "squares.tail(3)"
   ]
  },
  {
   "cell_type": "code",
   "execution_count": 242,
   "id": "8aee92a9-b9bb-4068-8e27-b01aa418e857",
   "metadata": {},
   "outputs": [],
   "source": [
    "res1 = squares.iloc[-3:]\n",
    "res2 = squares.tail(3)"
   ]
  },
  {
   "cell_type": "code",
   "execution_count": 243,
   "id": "a7b7cca1-58dc-4ded-a092-2e67c738ebd0",
   "metadata": {},
   "outputs": [
    {
     "data": {
      "text/plain": [
       "True"
      ]
     },
     "execution_count": 243,
     "metadata": {},
     "output_type": "execute_result"
    }
   ],
   "source": [
    "res1.equals(res2)"
   ]
  },
  {
   "cell_type": "code",
   "execution_count": 244,
   "id": "61112b63-b2ce-43e1-baf7-363aaac2c78a",
   "metadata": {},
   "outputs": [
    {
     "data": {
      "text/plain": [
       "97    True\n",
       "98    True\n",
       "99    True\n",
       "dtype: bool"
      ]
     },
     "execution_count": 244,
     "metadata": {},
     "output_type": "execute_result"
    }
   ],
   "source": [
    "res1 == res2"
   ]
  },
  {
   "cell_type": "code",
   "execution_count": 245,
   "id": "a2d3559b-bfdc-4833-8282-13c91cd170a1",
   "metadata": {},
   "outputs": [
    {
     "data": {
      "text/plain": [
       "(97    9409\n",
       " 98    9604\n",
       " 99    9801\n",
       " dtype: int64,\n",
       " 97    9409\n",
       " 98    9604\n",
       " 99    9801\n",
       " dtype: int64)"
      ]
     },
     "execution_count": 245,
     "metadata": {},
     "output_type": "execute_result"
    }
   ],
   "source": [
    "res1, res2"
   ]
  },
  {
   "cell_type": "code",
   "execution_count": null,
   "id": "cd107539-0853-41aa-b839-451cfca4a249",
   "metadata": {},
   "outputs": [],
   "source": []
  }
 ],
 "metadata": {
  "kernelspec": {
   "display_name": "Python 3 (ipykernel)",
   "language": "python",
   "name": "python3"
  },
  "language_info": {
   "codemirror_mode": {
    "name": "ipython",
    "version": 3
   },
   "file_extension": ".py",
   "mimetype": "text/x-python",
   "name": "python",
   "nbconvert_exporter": "python",
   "pygments_lexer": "ipython3",
   "version": "3.9.21"
  }
 },
 "nbformat": 4,
 "nbformat_minor": 5
}
