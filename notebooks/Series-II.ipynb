{
 "cells": [
  {
   "cell_type": "markdown",
   "id": "ebb3e258-4aa0-44b5-bdfd-381a0e343d88",
   "metadata": {},
   "source": [
    "## Series II\n",
    "\n",
    "- Series structure, item count, NaNs\n",
    "- Descriptive statistic\n",
    "- Series arithmetics\n",
    "- Sorting Series\n",
    "- Filtering and custom transformations"
   ]
  },
  {
   "cell_type": "code",
   "execution_count": 2,
   "id": "c0627428-ee1b-4ff7-8076-9a5d77bd9729",
   "metadata": {},
   "outputs": [],
   "source": [
    "import pandas as pd"
   ]
  },
  {
   "cell_type": "markdown",
   "id": "9fa66a0d-6c5f-448f-a121-272c713a4648",
   "metadata": {
    "jp-MarkdownHeadingCollapsed": true
   },
   "source": [
    "## Reading In Data With `read_csv()`"
   ]
  },
  {
   "cell_type": "code",
   "execution_count": 3,
   "id": "18be3f58-500f-49d4-82a5-02e4f375d99b",
   "metadata": {},
   "outputs": [],
   "source": [
    "csv_url = 'https://andybek.com/pandas-drinks'"
   ]
  },
  {
   "cell_type": "code",
   "execution_count": 4,
   "id": "222f906e-21d3-4c3a-b90a-9db309d5c403",
   "metadata": {},
   "outputs": [
    {
     "data": {
      "text/html": [
       "<div>\n",
       "<style scoped>\n",
       "    .dataframe tbody tr th:only-of-type {\n",
       "        vertical-align: middle;\n",
       "    }\n",
       "\n",
       "    .dataframe tbody tr th {\n",
       "        vertical-align: top;\n",
       "    }\n",
       "\n",
       "    .dataframe thead th {\n",
       "        text-align: right;\n",
       "    }\n",
       "</style>\n",
       "<table border=\"1\" class=\"dataframe\">\n",
       "  <thead>\n",
       "    <tr style=\"text-align: right;\">\n",
       "      <th></th>\n",
       "      <th>country</th>\n",
       "      <th>beer_servings</th>\n",
       "      <th>spirit_servings</th>\n",
       "      <th>wine_servings</th>\n",
       "      <th>total_litres_of_pure_alcohol</th>\n",
       "    </tr>\n",
       "  </thead>\n",
       "  <tbody>\n",
       "    <tr>\n",
       "      <th>0</th>\n",
       "      <td>Afghanistan</td>\n",
       "      <td>NaN</td>\n",
       "      <td>NaN</td>\n",
       "      <td>NaN</td>\n",
       "      <td>NaN</td>\n",
       "    </tr>\n",
       "    <tr>\n",
       "      <th>1</th>\n",
       "      <td>Albania</td>\n",
       "      <td>89.0</td>\n",
       "      <td>132.0</td>\n",
       "      <td>54.0</td>\n",
       "      <td>4.9</td>\n",
       "    </tr>\n",
       "    <tr>\n",
       "      <th>2</th>\n",
       "      <td>Algeria</td>\n",
       "      <td>25.0</td>\n",
       "      <td>NaN</td>\n",
       "      <td>14.0</td>\n",
       "      <td>0.7</td>\n",
       "    </tr>\n",
       "    <tr>\n",
       "      <th>3</th>\n",
       "      <td>Andorra</td>\n",
       "      <td>245.0</td>\n",
       "      <td>138.0</td>\n",
       "      <td>312.0</td>\n",
       "      <td>12.4</td>\n",
       "    </tr>\n",
       "    <tr>\n",
       "      <th>4</th>\n",
       "      <td>Angola</td>\n",
       "      <td>217.0</td>\n",
       "      <td>57.0</td>\n",
       "      <td>45.0</td>\n",
       "      <td>5.9</td>\n",
       "    </tr>\n",
       "    <tr>\n",
       "      <th>...</th>\n",
       "      <td>...</td>\n",
       "      <td>...</td>\n",
       "      <td>...</td>\n",
       "      <td>...</td>\n",
       "      <td>...</td>\n",
       "    </tr>\n",
       "    <tr>\n",
       "      <th>188</th>\n",
       "      <td>Venezuela</td>\n",
       "      <td>333.0</td>\n",
       "      <td>1.0</td>\n",
       "      <td>3.0</td>\n",
       "      <td>7.7</td>\n",
       "    </tr>\n",
       "    <tr>\n",
       "      <th>189</th>\n",
       "      <td>Vietnam</td>\n",
       "      <td>111.0</td>\n",
       "      <td>2.0</td>\n",
       "      <td>1.0</td>\n",
       "      <td>2.0</td>\n",
       "    </tr>\n",
       "    <tr>\n",
       "      <th>190</th>\n",
       "      <td>Yemen</td>\n",
       "      <td>6.0</td>\n",
       "      <td>NaN</td>\n",
       "      <td>NaN</td>\n",
       "      <td>0.1</td>\n",
       "    </tr>\n",
       "    <tr>\n",
       "      <th>191</th>\n",
       "      <td>Zambia</td>\n",
       "      <td>32.0</td>\n",
       "      <td>19.0</td>\n",
       "      <td>4.0</td>\n",
       "      <td>2.5</td>\n",
       "    </tr>\n",
       "    <tr>\n",
       "      <th>192</th>\n",
       "      <td>Zimbabwe</td>\n",
       "      <td>64.0</td>\n",
       "      <td>18.0</td>\n",
       "      <td>4.0</td>\n",
       "      <td>4.7</td>\n",
       "    </tr>\n",
       "  </tbody>\n",
       "</table>\n",
       "<p>193 rows × 5 columns</p>\n",
       "</div>"
      ],
      "text/plain": [
       "         country  beer_servings  spirit_servings  wine_servings  \\\n",
       "0    Afghanistan            NaN              NaN            NaN   \n",
       "1        Albania           89.0            132.0           54.0   \n",
       "2        Algeria           25.0              NaN           14.0   \n",
       "3        Andorra          245.0            138.0          312.0   \n",
       "4         Angola          217.0             57.0           45.0   \n",
       "..           ...            ...              ...            ...   \n",
       "188    Venezuela          333.0              1.0            3.0   \n",
       "189      Vietnam          111.0              2.0            1.0   \n",
       "190        Yemen            6.0              NaN            NaN   \n",
       "191       Zambia           32.0             19.0            4.0   \n",
       "192     Zimbabwe           64.0             18.0            4.0   \n",
       "\n",
       "     total_litres_of_pure_alcohol  \n",
       "0                             NaN  \n",
       "1                             4.9  \n",
       "2                             0.7  \n",
       "3                            12.4  \n",
       "4                             5.9  \n",
       "..                            ...  \n",
       "188                           7.7  \n",
       "189                           2.0  \n",
       "190                           0.1  \n",
       "191                           2.5  \n",
       "192                           4.7  \n",
       "\n",
       "[193 rows x 5 columns]"
      ]
     },
     "execution_count": 4,
     "metadata": {},
     "output_type": "execute_result"
    }
   ],
   "source": [
    "pd.read_csv(csv_url)"
   ]
  },
  {
   "cell_type": "code",
   "execution_count": 5,
   "id": "70f4d62e-79e7-48b2-b9cc-f8f0bdf5ea3e",
   "metadata": {},
   "outputs": [
    {
     "data": {
      "text/html": [
       "<div>\n",
       "<style scoped>\n",
       "    .dataframe tbody tr th:only-of-type {\n",
       "        vertical-align: middle;\n",
       "    }\n",
       "\n",
       "    .dataframe tbody tr th {\n",
       "        vertical-align: top;\n",
       "    }\n",
       "\n",
       "    .dataframe thead th {\n",
       "        text-align: right;\n",
       "    }\n",
       "</style>\n",
       "<table border=\"1\" class=\"dataframe\">\n",
       "  <thead>\n",
       "    <tr style=\"text-align: right;\">\n",
       "      <th></th>\n",
       "      <th>country</th>\n",
       "      <th>wine_servings</th>\n",
       "    </tr>\n",
       "  </thead>\n",
       "  <tbody>\n",
       "    <tr>\n",
       "      <th>0</th>\n",
       "      <td>Afghanistan</td>\n",
       "      <td>NaN</td>\n",
       "    </tr>\n",
       "    <tr>\n",
       "      <th>1</th>\n",
       "      <td>Albania</td>\n",
       "      <td>54.0</td>\n",
       "    </tr>\n",
       "    <tr>\n",
       "      <th>2</th>\n",
       "      <td>Algeria</td>\n",
       "      <td>14.0</td>\n",
       "    </tr>\n",
       "    <tr>\n",
       "      <th>3</th>\n",
       "      <td>Andorra</td>\n",
       "      <td>312.0</td>\n",
       "    </tr>\n",
       "    <tr>\n",
       "      <th>4</th>\n",
       "      <td>Angola</td>\n",
       "      <td>45.0</td>\n",
       "    </tr>\n",
       "    <tr>\n",
       "      <th>...</th>\n",
       "      <td>...</td>\n",
       "      <td>...</td>\n",
       "    </tr>\n",
       "    <tr>\n",
       "      <th>188</th>\n",
       "      <td>Venezuela</td>\n",
       "      <td>3.0</td>\n",
       "    </tr>\n",
       "    <tr>\n",
       "      <th>189</th>\n",
       "      <td>Vietnam</td>\n",
       "      <td>1.0</td>\n",
       "    </tr>\n",
       "    <tr>\n",
       "      <th>190</th>\n",
       "      <td>Yemen</td>\n",
       "      <td>NaN</td>\n",
       "    </tr>\n",
       "    <tr>\n",
       "      <th>191</th>\n",
       "      <td>Zambia</td>\n",
       "      <td>4.0</td>\n",
       "    </tr>\n",
       "    <tr>\n",
       "      <th>192</th>\n",
       "      <td>Zimbabwe</td>\n",
       "      <td>4.0</td>\n",
       "    </tr>\n",
       "  </tbody>\n",
       "</table>\n",
       "<p>193 rows × 2 columns</p>\n",
       "</div>"
      ],
      "text/plain": [
       "         country  wine_servings\n",
       "0    Afghanistan            NaN\n",
       "1        Albania           54.0\n",
       "2        Algeria           14.0\n",
       "3        Andorra          312.0\n",
       "4         Angola           45.0\n",
       "..           ...            ...\n",
       "188    Venezuela            3.0\n",
       "189      Vietnam            1.0\n",
       "190        Yemen            NaN\n",
       "191       Zambia            4.0\n",
       "192     Zimbabwe            4.0\n",
       "\n",
       "[193 rows x 2 columns]"
      ]
     },
     "execution_count": 5,
     "metadata": {},
     "output_type": "execute_result"
    }
   ],
   "source": [
    "pd.read_csv(csv_url, usecols=['country', 'wine_servings'])"
   ]
  },
  {
   "cell_type": "code",
   "execution_count": 6,
   "id": "5d9accca-f3de-48e9-aa55-f75976381ca8",
   "metadata": {},
   "outputs": [
    {
     "data": {
      "text/html": [
       "<div>\n",
       "<style scoped>\n",
       "    .dataframe tbody tr th:only-of-type {\n",
       "        vertical-align: middle;\n",
       "    }\n",
       "\n",
       "    .dataframe tbody tr th {\n",
       "        vertical-align: top;\n",
       "    }\n",
       "\n",
       "    .dataframe thead th {\n",
       "        text-align: right;\n",
       "    }\n",
       "</style>\n",
       "<table border=\"1\" class=\"dataframe\">\n",
       "  <thead>\n",
       "    <tr style=\"text-align: right;\">\n",
       "      <th></th>\n",
       "      <th>wine_servings</th>\n",
       "    </tr>\n",
       "    <tr>\n",
       "      <th>country</th>\n",
       "      <th></th>\n",
       "    </tr>\n",
       "  </thead>\n",
       "  <tbody>\n",
       "    <tr>\n",
       "      <th>Afghanistan</th>\n",
       "      <td>NaN</td>\n",
       "    </tr>\n",
       "    <tr>\n",
       "      <th>Albania</th>\n",
       "      <td>54.0</td>\n",
       "    </tr>\n",
       "    <tr>\n",
       "      <th>Algeria</th>\n",
       "      <td>14.0</td>\n",
       "    </tr>\n",
       "    <tr>\n",
       "      <th>Andorra</th>\n",
       "      <td>312.0</td>\n",
       "    </tr>\n",
       "    <tr>\n",
       "      <th>Angola</th>\n",
       "      <td>45.0</td>\n",
       "    </tr>\n",
       "    <tr>\n",
       "      <th>...</th>\n",
       "      <td>...</td>\n",
       "    </tr>\n",
       "    <tr>\n",
       "      <th>Venezuela</th>\n",
       "      <td>3.0</td>\n",
       "    </tr>\n",
       "    <tr>\n",
       "      <th>Vietnam</th>\n",
       "      <td>1.0</td>\n",
       "    </tr>\n",
       "    <tr>\n",
       "      <th>Yemen</th>\n",
       "      <td>NaN</td>\n",
       "    </tr>\n",
       "    <tr>\n",
       "      <th>Zambia</th>\n",
       "      <td>4.0</td>\n",
       "    </tr>\n",
       "    <tr>\n",
       "      <th>Zimbabwe</th>\n",
       "      <td>4.0</td>\n",
       "    </tr>\n",
       "  </tbody>\n",
       "</table>\n",
       "<p>193 rows × 1 columns</p>\n",
       "</div>"
      ],
      "text/plain": [
       "             wine_servings\n",
       "country                   \n",
       "Afghanistan            NaN\n",
       "Albania               54.0\n",
       "Algeria               14.0\n",
       "Andorra              312.0\n",
       "Angola                45.0\n",
       "...                    ...\n",
       "Venezuela              3.0\n",
       "Vietnam                1.0\n",
       "Yemen                  NaN\n",
       "Zambia                 4.0\n",
       "Zimbabwe               4.0\n",
       "\n",
       "[193 rows x 1 columns]"
      ]
     },
     "execution_count": 6,
     "metadata": {},
     "output_type": "execute_result"
    }
   ],
   "source": [
    "pd.read_csv(csv_url, usecols=['country', 'wine_servings'], index_col='country')"
   ]
  },
  {
   "cell_type": "code",
   "execution_count": 7,
   "id": "aee49c52-4f6d-4f06-9521-574409cd100b",
   "metadata": {},
   "outputs": [],
   "source": [
    "alcohol = pd.read_csv(csv_url, usecols=['country', 'wine_servings'], index_col='country')"
   ]
  },
  {
   "cell_type": "code",
   "execution_count": 8,
   "id": "b9128c78-b193-4311-beb6-3fc02539e50c",
   "metadata": {},
   "outputs": [
    {
     "data": {
      "text/html": [
       "<div>\n",
       "<style scoped>\n",
       "    .dataframe tbody tr th:only-of-type {\n",
       "        vertical-align: middle;\n",
       "    }\n",
       "\n",
       "    .dataframe tbody tr th {\n",
       "        vertical-align: top;\n",
       "    }\n",
       "\n",
       "    .dataframe thead th {\n",
       "        text-align: right;\n",
       "    }\n",
       "</style>\n",
       "<table border=\"1\" class=\"dataframe\">\n",
       "  <thead>\n",
       "    <tr style=\"text-align: right;\">\n",
       "      <th></th>\n",
       "      <th>wine_servings</th>\n",
       "    </tr>\n",
       "    <tr>\n",
       "      <th>country</th>\n",
       "      <th></th>\n",
       "    </tr>\n",
       "  </thead>\n",
       "  <tbody>\n",
       "    <tr>\n",
       "      <th>Afghanistan</th>\n",
       "      <td>NaN</td>\n",
       "    </tr>\n",
       "    <tr>\n",
       "      <th>Albania</th>\n",
       "      <td>54.0</td>\n",
       "    </tr>\n",
       "    <tr>\n",
       "      <th>Algeria</th>\n",
       "      <td>14.0</td>\n",
       "    </tr>\n",
       "    <tr>\n",
       "      <th>Andorra</th>\n",
       "      <td>312.0</td>\n",
       "    </tr>\n",
       "    <tr>\n",
       "      <th>Angola</th>\n",
       "      <td>45.0</td>\n",
       "    </tr>\n",
       "  </tbody>\n",
       "</table>\n",
       "</div>"
      ],
      "text/plain": [
       "             wine_servings\n",
       "country                   \n",
       "Afghanistan            NaN\n",
       "Albania               54.0\n",
       "Algeria               14.0\n",
       "Andorra              312.0\n",
       "Angola                45.0"
      ]
     },
     "execution_count": 8,
     "metadata": {},
     "output_type": "execute_result"
    }
   ],
   "source": [
    "alcohol.head()"
   ]
  },
  {
   "cell_type": "code",
   "execution_count": 9,
   "id": "c167297b-d48e-4fc5-a35d-8de63ae593d7",
   "metadata": {},
   "outputs": [
    {
     "data": {
      "text/plain": [
       "pandas.core.frame.DataFrame"
      ]
     },
     "execution_count": 9,
     "metadata": {},
     "output_type": "execute_result"
    }
   ],
   "source": [
    "type(alcohol)"
   ]
  },
  {
   "cell_type": "code",
   "execution_count": 10,
   "id": "4fe7a381-f682-4d5c-a1c2-f43a2d04f5d9",
   "metadata": {},
   "outputs": [
    {
     "data": {
      "text/plain": [
       "28.259999999999998"
      ]
     },
     "execution_count": 10,
     "metadata": {},
     "output_type": "execute_result"
    }
   ],
   "source": [
    "3.14 * 3 * 3"
   ]
  },
  {
   "cell_type": "code",
   "execution_count": 11,
   "id": "80191a73-4b6a-4a2b-926b-ec50b35dc3ed",
   "metadata": {},
   "outputs": [
    {
     "data": {
      "text/plain": [
       "84.78"
      ]
     },
     "execution_count": 11,
     "metadata": {},
     "output_type": "execute_result"
    }
   ],
   "source": [
    "3.14 * 3 ** 3"
   ]
  },
  {
   "cell_type": "code",
   "execution_count": 12,
   "id": "ff132d7a-023e-4e88-b7b1-283416d9710d",
   "metadata": {},
   "outputs": [],
   "source": [
    "alcohol = pd.read_csv(csv_url, usecols=['country', 'wine_servings'], index_col='country').squeeze(\"columns\")"
   ]
  },
  {
   "cell_type": "code",
   "execution_count": 13,
   "id": "f9351ec6-c960-4d74-b1dc-695732e621d9",
   "metadata": {},
   "outputs": [
    {
     "data": {
      "text/plain": [
       "country\n",
       "Afghanistan      NaN\n",
       "Albania         54.0\n",
       "Algeria         14.0\n",
       "Andorra        312.0\n",
       "Angola          45.0\n",
       "Name: wine_servings, dtype: float64"
      ]
     },
     "execution_count": 13,
     "metadata": {},
     "output_type": "execute_result"
    }
   ],
   "source": [
    "alcohol.head()"
   ]
  },
  {
   "cell_type": "code",
   "execution_count": 14,
   "id": "d336a8e4-7c41-442d-b227-f894380bac7c",
   "metadata": {},
   "outputs": [
    {
     "data": {
      "text/plain": [
       "pandas.core.series.Series"
      ]
     },
     "execution_count": 14,
     "metadata": {},
     "output_type": "execute_result"
    }
   ],
   "source": [
    "type(alcohol)"
   ]
  },
  {
   "cell_type": "markdown",
   "id": "92d65c55-1235-453f-9179-b224ee145ef3",
   "metadata": {},
   "source": [
    "## Series Sizing With `.size`, `.shape` and `.len`"
   ]
  },
  {
   "cell_type": "code",
   "execution_count": 15,
   "id": "6610c67e-afa6-4faa-9bfd-1f988f5e80dc",
   "metadata": {},
   "outputs": [
    {
     "data": {
      "text/plain": [
       "193"
      ]
     },
     "execution_count": 15,
     "metadata": {},
     "output_type": "execute_result"
    }
   ],
   "source": [
    "alcohol.size"
   ]
  },
  {
   "cell_type": "code",
   "execution_count": 16,
   "id": "a8c84ddb-bb09-4db9-aa11-19c68a9a8c61",
   "metadata": {},
   "outputs": [
    {
     "data": {
      "text/plain": [
       "country\n",
       "Afghanistan      NaN\n",
       "Albania         54.0\n",
       "Algeria         14.0\n",
       "Andorra        312.0\n",
       "Angola          45.0\n",
       "               ...  \n",
       "Venezuela        3.0\n",
       "Vietnam          1.0\n",
       "Yemen            NaN\n",
       "Zambia           4.0\n",
       "Zimbabwe         4.0\n",
       "Name: wine_servings, Length: 193, dtype: float64"
      ]
     },
     "execution_count": 16,
     "metadata": {},
     "output_type": "execute_result"
    }
   ],
   "source": [
    "alcohol"
   ]
  },
  {
   "cell_type": "code",
   "execution_count": 17,
   "id": "820766f5-a7c7-48c8-9272-bd93ac88f8bc",
   "metadata": {},
   "outputs": [
    {
     "data": {
      "text/plain": [
       "array([ nan,  54.,  14., 312.,  45.,  45., 221.,  11., 212., 191.,   5.,\n",
       "        51.,   7.,  nan,  36.,  42., 212.,   8.,  13.,  nan,   8.,   8.,\n",
       "        35.,  16.,   1.,  94.,   7.,  nan,   7.,  16.,   1.,   4.,   1.,\n",
       "         1.,   1., 172.,   8.,   3.,   1.,   9.,  74.,  11., 254.,   5.,\n",
       "       113., 134.,  nan,   1., 278.,   3.,  26.,   9.,   3.,   1.,   2.,\n",
       "       233.,  nan,  59.,  nan,   1.,  97.,  37.,  59.,   1., 149., 175.,\n",
       "         1., 218.,  28.,   2.,   2.,  21.,   1.,   1.,   2., 185.,  78.,\n",
       "        nan,  nan,  nan,  nan, 165.,   9., 237.,   9.,  16.,   1.,  12.,\n",
       "         2.,   1.,  nan,   6., 123.,  62.,  31.,  nan,   2.,  nan,  56.,\n",
       "       271.,   4.,   1.,  nan,  nan,   1.,  12.,  nan,  nan,  18.,   5.,\n",
       "        18.,  nan,   8., 128.,   1.,   5.,  nan,   1.,   8.,  nan,  19.,\n",
       "       175.,   1.,   1.,   2.,   7., 129.,   1.,  nan,  23.,  18.,   1.,\n",
       "        74.,  21.,   1.,  56., 339.,   7.,   9.,  18., 167.,  73.,  nan,\n",
       "        32.,  71.,  11.,  24.,  nan,  14.,  nan,   7., 127.,  51.,   2.,\n",
       "        11., 116., 276.,   1.,  nan,  81., 112.,  nan,  nan,   7.,   2.,\n",
       "       186.,  28.,  16.,  nan,   1.,  86.,   4.,  19.,   5.,   7.,   2.,\n",
       "         7.,  32.,   9.,  nan,  45.,   5., 195.,   1.,  84.,  22.,   8.,\n",
       "        11.,   3.,   1.,  nan,   4.,   4.])"
      ]
     },
     "execution_count": 17,
     "metadata": {},
     "output_type": "execute_result"
    }
   ],
   "source": [
    "alcohol.values"
   ]
  },
  {
   "cell_type": "code",
   "execution_count": 18,
   "id": "fdb0e9ac-b97d-4f79-93c7-b7d568f80a01",
   "metadata": {},
   "outputs": [
    {
     "data": {
      "text/plain": [
       "Index(['Afghanistan', 'Albania', 'Algeria', 'Andorra', 'Angola',\n",
       "       'Antigua & Barbuda', 'Argentina', 'Armenia', 'Australia', 'Austria',\n",
       "       ...\n",
       "       'Tanzania', 'USA', 'Uruguay', 'Uzbekistan', 'Vanuatu', 'Venezuela',\n",
       "       'Vietnam', 'Yemen', 'Zambia', 'Zimbabwe'],\n",
       "      dtype='object', name='country', length=193)"
      ]
     },
     "execution_count": 18,
     "metadata": {},
     "output_type": "execute_result"
    }
   ],
   "source": [
    "alcohol.index"
   ]
  },
  {
   "cell_type": "code",
   "execution_count": 19,
   "id": "a19b9288-0e93-4f4f-8b07-bc2fe7012400",
   "metadata": {},
   "outputs": [
    {
     "data": {
      "text/plain": [
       "193"
      ]
     },
     "execution_count": 19,
     "metadata": {},
     "output_type": "execute_result"
    }
   ],
   "source": [
    "alcohol.values.size"
   ]
  },
  {
   "cell_type": "code",
   "execution_count": 20,
   "id": "aac3e7ee-eba4-49e4-852f-7f19ec790006",
   "metadata": {},
   "outputs": [
    {
     "data": {
      "text/plain": [
       "193"
      ]
     },
     "execution_count": 20,
     "metadata": {},
     "output_type": "execute_result"
    }
   ],
   "source": [
    "alcohol.index.size"
   ]
  },
  {
   "cell_type": "code",
   "execution_count": 21,
   "id": "733af9a0-bf44-491c-b128-b06322ba2a09",
   "metadata": {},
   "outputs": [
    {
     "data": {
      "text/plain": [
       "True"
      ]
     },
     "execution_count": 21,
     "metadata": {},
     "output_type": "execute_result"
    }
   ],
   "source": [
    "alcohol.values.size == alcohol.index.size"
   ]
  },
  {
   "cell_type": "code",
   "execution_count": 22,
   "id": "66711713-709c-4e38-ae5a-f267e0009f84",
   "metadata": {},
   "outputs": [
    {
     "data": {
      "text/plain": [
       "(193,)"
      ]
     },
     "execution_count": 22,
     "metadata": {},
     "output_type": "execute_result"
    }
   ],
   "source": [
    "alcohol.shape"
   ]
  },
  {
   "cell_type": "code",
   "execution_count": 23,
   "id": "868ebf04-5a07-44e3-89b9-b7fef1f473bc",
   "metadata": {},
   "outputs": [
    {
     "data": {
      "text/plain": [
       "tuple"
      ]
     },
     "execution_count": 23,
     "metadata": {},
     "output_type": "execute_result"
    }
   ],
   "source": [
    "type(alcohol.shape)"
   ]
  },
  {
   "cell_type": "code",
   "execution_count": 24,
   "id": "ce962200-1630-46c0-8308-bde7ec381974",
   "metadata": {},
   "outputs": [
    {
     "data": {
      "text/plain": [
       "True"
      ]
     },
     "execution_count": 24,
     "metadata": {},
     "output_type": "execute_result"
    }
   ],
   "source": [
    "alcohol.size == alcohol.shape[0]"
   ]
  },
  {
   "cell_type": "code",
   "execution_count": 25,
   "id": "dd0b1651-e7e2-4e4d-b82c-55298eeb81ad",
   "metadata": {},
   "outputs": [
    {
     "data": {
      "text/plain": [
       "193"
      ]
     },
     "execution_count": 25,
     "metadata": {},
     "output_type": "execute_result"
    }
   ],
   "source": [
    "len(alcohol)"
   ]
  },
  {
   "cell_type": "markdown",
   "id": "a3997a7c-85bb-4533-bd1c-5aa897d9fe80",
   "metadata": {},
   "source": [
    "##### Size and Shape\n",
    "- .size: number of elements in the series\n",
    "    - series.size # 193\n",
    "- .shape: tuple of the dimensions\n",
    "    - for a series: (1D) shape, i.e. length for series\n",
    "    - series.shape # (193,)\n",
    "- .len(): python built-in function\n",
    "    - len(series) # 193"
   ]
  },
  {
   "cell_type": "markdown",
   "id": "185974d2-a62c-4dfd-a7d0-fbe3471b1e75",
   "metadata": {},
   "source": [
    "## Unique Values And Series Monotonicity"
   ]
  },
  {
   "cell_type": "code",
   "execution_count": 26,
   "id": "4962e6ee-e06c-45de-a1fb-847f330bf48b",
   "metadata": {},
   "outputs": [
    {
     "data": {
      "text/plain": [
       "False"
      ]
     },
     "execution_count": 26,
     "metadata": {},
     "output_type": "execute_result"
    }
   ],
   "source": [
    "alcohol.is_unique"
   ]
  },
  {
   "cell_type": "code",
   "execution_count": 27,
   "id": "37604d3e-0af4-4b1b-be6f-65712894f79f",
   "metadata": {},
   "outputs": [
    {
     "data": {
      "text/plain": [
       "country\n",
       "Afghanistan      NaN\n",
       "Albania         54.0\n",
       "Algeria         14.0\n",
       "Andorra        312.0\n",
       "Angola          45.0\n",
       "Name: wine_servings, dtype: float64"
      ]
     },
     "execution_count": 27,
     "metadata": {},
     "output_type": "execute_result"
    }
   ],
   "source": [
    "alcohol.head()"
   ]
  },
  {
   "cell_type": "code",
   "execution_count": 28,
   "id": "62bb089f-b98b-49e0-9283-7ed75274bb30",
   "metadata": {},
   "outputs": [
    {
     "data": {
      "text/plain": [
       "True"
      ]
     },
     "execution_count": 28,
     "metadata": {},
     "output_type": "execute_result"
    }
   ],
   "source": [
    "alcohol.head().is_unique"
   ]
  },
  {
   "cell_type": "code",
   "execution_count": 29,
   "id": "d2786bbd-1afc-46ae-83f2-a4d209e1e4f2",
   "metadata": {},
   "outputs": [
    {
     "data": {
      "text/plain": [
       "71"
      ]
     },
     "execution_count": 29,
     "metadata": {},
     "output_type": "execute_result"
    }
   ],
   "source": [
    "alcohol.nunique() # gives the unique values in that sequence of values"
   ]
  },
  {
   "cell_type": "code",
   "execution_count": 30,
   "id": "c97df619-72a8-428c-a03e-cec1b6f3dcbe",
   "metadata": {},
   "outputs": [
    {
     "data": {
      "text/plain": [
       "72"
      ]
     },
     "execution_count": 30,
     "metadata": {},
     "output_type": "execute_result"
    }
   ],
   "source": [
    "alcohol.nunique(dropna=False)"
   ]
  },
  {
   "cell_type": "code",
   "execution_count": 31,
   "id": "de9883d0-7c50-4977-af70-906ef8adfd36",
   "metadata": {},
   "outputs": [],
   "source": [
    "# monotonicity attribute - order theory - a function preserve a given order"
   ]
  },
  {
   "cell_type": "code",
   "execution_count": 32,
   "id": "33e90936-118d-4a7a-ad5c-d735d24c1779",
   "metadata": {},
   "outputs": [
    {
     "data": {
      "text/plain": [
       "True"
      ]
     },
     "execution_count": 32,
     "metadata": {},
     "output_type": "execute_result"
    }
   ],
   "source": [
    "pd.Series([1, 2, 3]).is_monotonic_increasing # increasing"
   ]
  },
  {
   "cell_type": "code",
   "execution_count": 33,
   "id": "8d860b6d-9d08-4757-a841-2c2fa0db10a8",
   "metadata": {},
   "outputs": [
    {
     "data": {
      "text/plain": [
       "True"
      ]
     },
     "execution_count": 33,
     "metadata": {},
     "output_type": "execute_result"
    }
   ],
   "source": [
    "pd.Series([1, 2, 3, 3, 3]).is_monotonic_increasing # stagenent"
   ]
  },
  {
   "cell_type": "code",
   "execution_count": 34,
   "id": "41d18c2b-b99b-4969-a0e9-62ac76546f96",
   "metadata": {},
   "outputs": [
    {
     "data": {
      "text/plain": [
       "True"
      ]
     },
     "execution_count": 34,
     "metadata": {},
     "output_type": "execute_result"
    }
   ],
   "source": [
    "pd.Series([1, 2, 3, 3, 3, 4, 6, 19]).is_monotonic_increasing # increasing"
   ]
  },
  {
   "cell_type": "code",
   "execution_count": 35,
   "id": "74688dfa-ac00-42f0-80d8-e630c8b65d0e",
   "metadata": {},
   "outputs": [
    {
     "data": {
      "text/plain": [
       "False"
      ]
     },
     "execution_count": 35,
     "metadata": {},
     "output_type": "execute_result"
    }
   ],
   "source": [
    "pd.Series([1, 2, 3, 3, 4, 6, 2, 1]).is_monotonic_increasing # decreasing"
   ]
  },
  {
   "cell_type": "code",
   "execution_count": 36,
   "id": "d415fd87-7410-4803-8cb6-6bf8d5fffd48",
   "metadata": {},
   "outputs": [
    {
     "data": {
      "text/plain": [
       "False"
      ]
     },
     "execution_count": 36,
     "metadata": {},
     "output_type": "execute_result"
    }
   ],
   "source": [
    "pd.Series([1, 2, 3, 2.2]).is_monotonic_increasing # increasing"
   ]
  },
  {
   "cell_type": "code",
   "execution_count": 37,
   "id": "332e345c-02e4-40d8-894e-0781d6b0d21a",
   "metadata": {},
   "outputs": [
    {
     "data": {
      "text/plain": [
       "True"
      ]
     },
     "execution_count": 37,
     "metadata": {},
     "output_type": "execute_result"
    }
   ],
   "source": [
    "pd.Series(reversed([1, 2, 3])).is_monotonic_decreasing"
   ]
  },
  {
   "cell_type": "markdown",
   "id": "7d2b427f-9e68-47da-bb69-4d345b146426",
   "metadata": {},
   "source": [
    "## The `count()` Method"
   ]
  },
  {
   "cell_type": "code",
   "execution_count": 38,
   "id": "b53d640f-34c8-4deb-83c2-baa523e1eb6e",
   "metadata": {},
   "outputs": [
    {
     "data": {
      "text/plain": [
       "np.int64(162)"
      ]
     },
     "execution_count": 38,
     "metadata": {},
     "output_type": "execute_result"
    }
   ],
   "source": [
    "alcohol.count() # only counts which are not-NA null"
   ]
  },
  {
   "cell_type": "code",
   "execution_count": 39,
   "id": "062c370f-a54b-46fa-b6bb-16a94bf7a416",
   "metadata": {},
   "outputs": [
    {
     "data": {
      "text/plain": [
       "True"
      ]
     },
     "execution_count": 39,
     "metadata": {},
     "output_type": "execute_result"
    }
   ],
   "source": [
    "alcohol.hasnans"
   ]
  },
  {
   "cell_type": "markdown",
   "id": "0f479ebf-0cd7-4ffd-b0e6-97157d598d8c",
   "metadata": {},
   "source": [
    "## Accessing And Counting NA's"
   ]
  },
  {
   "cell_type": "code",
   "execution_count": 40,
   "id": "03076bab-c24d-4963-83c4-4eeb86e07e03",
   "metadata": {},
   "outputs": [
    {
     "data": {
      "text/plain": [
       "193"
      ]
     },
     "execution_count": 40,
     "metadata": {},
     "output_type": "execute_result"
    }
   ],
   "source": [
    "alcohol.size"
   ]
  },
  {
   "cell_type": "code",
   "execution_count": 41,
   "id": "d2c6c7b6-1fef-43b3-964b-48f4b457eeea",
   "metadata": {},
   "outputs": [
    {
     "data": {
      "text/plain": [
       "np.int64(162)"
      ]
     },
     "execution_count": 41,
     "metadata": {},
     "output_type": "execute_result"
    }
   ],
   "source": [
    "alcohol.count()"
   ]
  },
  {
   "cell_type": "code",
   "execution_count": 42,
   "id": "6311949f-71a9-4b7f-9afc-224383d036b7",
   "metadata": {},
   "outputs": [
    {
     "data": {
      "text/plain": [
       "country\n",
       "Afghanistan     True\n",
       "Albania        False\n",
       "Algeria        False\n",
       "Andorra        False\n",
       "Angola         False\n",
       "               ...  \n",
       "Venezuela      False\n",
       "Vietnam        False\n",
       "Yemen           True\n",
       "Zambia         False\n",
       "Zimbabwe       False\n",
       "Name: wine_servings, Length: 193, dtype: bool"
      ]
     },
     "execution_count": 42,
     "metadata": {},
     "output_type": "execute_result"
    }
   ],
   "source": [
    "alcohol.isnull()"
   ]
  },
  {
   "cell_type": "code",
   "execution_count": 43,
   "id": "65c5cb13-16f3-47c0-a84b-4f3afec38866",
   "metadata": {},
   "outputs": [
    {
     "data": {
      "text/plain": [
       "Index(['Afghanistan', 'Bangladesh', 'Bhutan', 'Burundi', 'North Korea',\n",
       "       'Eritrea', 'Ethiopia', 'India', 'Indonesia', 'Iran', 'Iraq', 'Kuwait',\n",
       "       'Lesotho', 'Libya', 'Malaysia', 'Maldives', 'Marshall Islands',\n",
       "       'Mauritania', 'Monaco', 'Myanmar', 'Nepal', 'Pakistan', 'Rwanda',\n",
       "       'San Marino', 'Saudi Arabia', 'Somalia', 'Sri Lanka', 'Sudan',\n",
       "       'Tajikistan', 'Uganda', 'Yemen'],\n",
       "      dtype='object', name='country')"
      ]
     },
     "execution_count": 43,
     "metadata": {},
     "output_type": "execute_result"
    }
   ],
   "source": [
    "alcohol[alcohol.isnull()].index"
   ]
  },
  {
   "cell_type": "code",
   "execution_count": 44,
   "id": "4ac99abd-2178-4d96-8f8b-49767cef6917",
   "metadata": {},
   "outputs": [
    {
     "data": {
      "text/plain": [
       "pandas.core.indexes.base.Index"
      ]
     },
     "execution_count": 44,
     "metadata": {},
     "output_type": "execute_result"
    }
   ],
   "source": [
    "type(alcohol[alcohol.isnull()].index)"
   ]
  },
  {
   "cell_type": "code",
   "execution_count": 45,
   "id": "a54b99ff-a1bf-40ea-96a6-dd371ef235f9",
   "metadata": {},
   "outputs": [
    {
     "data": {
      "text/plain": [
       "['Afghanistan',\n",
       " 'Bangladesh',\n",
       " 'Bhutan',\n",
       " 'Burundi',\n",
       " 'North Korea',\n",
       " 'Eritrea',\n",
       " 'Ethiopia',\n",
       " 'India',\n",
       " 'Indonesia',\n",
       " 'Iran',\n",
       " 'Iraq',\n",
       " 'Kuwait',\n",
       " 'Lesotho',\n",
       " 'Libya',\n",
       " 'Malaysia',\n",
       " 'Maldives',\n",
       " 'Marshall Islands',\n",
       " 'Mauritania',\n",
       " 'Monaco',\n",
       " 'Myanmar',\n",
       " 'Nepal',\n",
       " 'Pakistan',\n",
       " 'Rwanda',\n",
       " 'San Marino',\n",
       " 'Saudi Arabia',\n",
       " 'Somalia',\n",
       " 'Sri Lanka',\n",
       " 'Sudan',\n",
       " 'Tajikistan',\n",
       " 'Uganda',\n",
       " 'Yemen']"
      ]
     },
     "execution_count": 45,
     "metadata": {},
     "output_type": "execute_result"
    }
   ],
   "source": [
    "list(alcohol[alcohol.isnull()].index)"
   ]
  },
  {
   "cell_type": "code",
   "execution_count": 46,
   "id": "adfed2d8-4f6a-41e6-a733-79835631d8dc",
   "metadata": {},
   "outputs": [
    {
     "data": {
      "text/plain": [
       "31"
      ]
     },
     "execution_count": 46,
     "metadata": {},
     "output_type": "execute_result"
    }
   ],
   "source": [
    "len(list(alcohol[alcohol.isnull()].index))"
   ]
  },
  {
   "cell_type": "code",
   "execution_count": 47,
   "id": "a35cf9a4-5cbf-4482-9ed4-d1065e3ba247",
   "metadata": {},
   "outputs": [],
   "source": [
    "# cumbersome: very difficult to work with\n",
    "# antonym: pandorable -> adorable and involving pandas"
   ]
  },
  {
   "cell_type": "code",
   "execution_count": 48,
   "id": "d62a511c-8f69-4031-b702-854b7bb98062",
   "metadata": {},
   "outputs": [
    {
     "data": {
      "text/plain": [
       "country\n",
       "Afghanistan     True\n",
       "Albania        False\n",
       "Name: wine_servings, dtype: bool"
      ]
     },
     "execution_count": 48,
     "metadata": {},
     "output_type": "execute_result"
    }
   ],
   "source": [
    "alcohol.isnull().head(2)"
   ]
  },
  {
   "cell_type": "code",
   "execution_count": 49,
   "id": "fd77ebe1-94bf-4d1e-9c55-1b01aff48557",
   "metadata": {},
   "outputs": [
    {
     "data": {
      "text/plain": [
       "np.int64(31)"
      ]
     },
     "execution_count": 49,
     "metadata": {},
     "output_type": "execute_result"
    }
   ],
   "source": [
    "alcohol.isnull().sum()"
   ]
  },
  {
   "cell_type": "code",
   "execution_count": 50,
   "id": "78b553f3-1302-43c8-a3d2-60baf0e35f7d",
   "metadata": {},
   "outputs": [
    {
     "data": {
      "text/plain": [
       "2"
      ]
     },
     "execution_count": 50,
     "metadata": {},
     "output_type": "execute_result"
    }
   ],
   "source": [
    "# booleans are integer in python\n",
    "sum([True, False, True])"
   ]
  },
  {
   "cell_type": "code",
   "execution_count": 51,
   "id": "2966680d-f956-4577-aef9-a25499a8a4c7",
   "metadata": {},
   "outputs": [],
   "source": [
    "all = alcohol.size"
   ]
  },
  {
   "cell_type": "code",
   "execution_count": 52,
   "id": "4108da6a-478f-4a58-8204-e59c7e627374",
   "metadata": {},
   "outputs": [],
   "source": [
    "nonnulls = alcohol.count() # non-NA"
   ]
  },
  {
   "cell_type": "code",
   "execution_count": 53,
   "id": "06f5795f-0efd-43b2-ac68-4a7c213bbc0c",
   "metadata": {},
   "outputs": [],
   "source": [
    "nulls = alcohol.isnull().sum() # alcohol.isna().sum(), same"
   ]
  },
  {
   "cell_type": "code",
   "execution_count": 54,
   "id": "f403e90e-f046-4990-ae71-929304614b99",
   "metadata": {},
   "outputs": [
    {
     "data": {
      "text/plain": [
       "np.True_"
      ]
     },
     "execution_count": 54,
     "metadata": {},
     "output_type": "execute_result"
    }
   ],
   "source": [
    "all == nonnulls + nulls"
   ]
  },
  {
   "cell_type": "markdown",
   "id": "d5b68e51-53ed-42d8-911f-09510926082a",
   "metadata": {},
   "source": [
    "###### Series Accounting\n",
    "- .size: number of elements in the series\n",
    "    - series.size # 193\n",
    "- .count(): number of non-null elements\n",
    "    - series.count() # 162\n",
    "- .isna().sum(): number of null elements\n",
    "    - series.isna().sum() # 31"
   ]
  },
  {
   "cell_type": "markdown",
   "id": "aa6543bf-84b0-4ada-882b-ecaded09ce68",
   "metadata": {},
   "source": [
    "## Another Approach"
   ]
  },
  {
   "cell_type": "code",
   "execution_count": 55,
   "id": "aa7b26d1-7b26-46ad-b930-8f96c84d6e66",
   "metadata": {},
   "outputs": [],
   "source": [
    "import numpy as np"
   ]
  },
  {
   "cell_type": "markdown",
   "id": "57ebdf4c-0749-4fae-9eab-249e8dc93bc4",
   "metadata": {},
   "source": [
    "Squential vs Vectorization Ops\n",
    "\n",
    "**vectorization**: running operations on entire arrays"
   ]
  },
  {
   "cell_type": "code",
   "execution_count": 56,
   "id": "7feab039-3997-485f-9930-523438614250",
   "metadata": {},
   "outputs": [],
   "source": [
    "# ufunc -> universal function"
   ]
  },
  {
   "cell_type": "code",
   "execution_count": 57,
   "id": "38168057-b396-4be3-8ade-c1e63b49cefa",
   "metadata": {},
   "outputs": [
    {
     "data": {
      "text/plain": [
       "<ufunc 'isnan'>"
      ]
     },
     "execution_count": 57,
     "metadata": {},
     "output_type": "execute_result"
    }
   ],
   "source": [
    "np.isnan\n",
    "\n",
    "# Don't recommand to use efunc directly because,\n",
    "# those functions expect native dtypes and is array like objects by default"
   ]
  },
  {
   "cell_type": "code",
   "execution_count": 58,
   "id": "09be12ad-ffce-4c0f-a90d-41d5f1c7670c",
   "metadata": {},
   "outputs": [],
   "source": [
    "ser = pd.Series(data=[True, False, None, 2], dtype=float)"
   ]
  },
  {
   "cell_type": "code",
   "execution_count": 59,
   "id": "d26f10d5-fa09-4aff-98f6-085c4b146f90",
   "metadata": {},
   "outputs": [
    {
     "data": {
      "text/plain": [
       "0    1.0\n",
       "1    0.0\n",
       "2    NaN\n",
       "3    2.0\n",
       "dtype: float64"
      ]
     },
     "execution_count": 59,
     "metadata": {},
     "output_type": "execute_result"
    }
   ],
   "source": [
    "ser"
   ]
  },
  {
   "cell_type": "code",
   "execution_count": 60,
   "id": "fc9c8c6e-54fb-47c4-b4f6-742cc65f7295",
   "metadata": {},
   "outputs": [
    {
     "data": {
      "text/plain": [
       "nan"
      ]
     },
     "execution_count": 60,
     "metadata": {},
     "output_type": "execute_result"
    }
   ],
   "source": [
    "np.nan"
   ]
  },
  {
   "cell_type": "code",
   "execution_count": 61,
   "id": "08c38b8a-d70e-46c3-81e7-bc755c70e686",
   "metadata": {},
   "outputs": [
    {
     "data": {
      "text/plain": [
       "0    False\n",
       "1    False\n",
       "2     True\n",
       "3    False\n",
       "dtype: bool"
      ]
     },
     "execution_count": 61,
     "metadata": {},
     "output_type": "execute_result"
    }
   ],
   "source": [
    "np.isnan(ser)"
   ]
  },
  {
   "cell_type": "code",
   "execution_count": 62,
   "id": "f5661e70-d2c8-4fe9-bd94-c523550b5af4",
   "metadata": {},
   "outputs": [
    {
     "data": {
      "text/plain": [
       "country\n",
       "Afghanistan   NaN\n",
       "Bangladesh    NaN\n",
       "Bhutan        NaN\n",
       "Burundi       NaN\n",
       "North Korea   NaN\n",
       "Name: wine_servings, dtype: float64"
      ]
     },
     "execution_count": 62,
     "metadata": {},
     "output_type": "execute_result"
    }
   ],
   "source": [
    "alcohol[np.isnan].head()"
   ]
  },
  {
   "cell_type": "code",
   "execution_count": 63,
   "id": "f87ce0d2-4d51-420d-9396-8bd6cd3c7e0f",
   "metadata": {},
   "outputs": [
    {
     "data": {
      "text/plain": [
       "31"
      ]
     },
     "execution_count": 63,
     "metadata": {},
     "output_type": "execute_result"
    }
   ],
   "source": [
    "alcohol[np.isnan].size # this is numpy aproach, very eligent and profenent"
   ]
  },
  {
   "cell_type": "code",
   "execution_count": 64,
   "id": "fa610827-63b7-4821-92e9-f78d8137a5f4",
   "metadata": {},
   "outputs": [
    {
     "data": {
      "text/plain": [
       "country\n",
       "Afghanistan   NaN\n",
       "Bangladesh    NaN\n",
       "Bhutan        NaN\n",
       "Burundi       NaN\n",
       "North Korea   NaN\n",
       "Name: wine_servings, dtype: float64"
      ]
     },
     "execution_count": 64,
     "metadata": {},
     "output_type": "execute_result"
    }
   ],
   "source": [
    "alcohol[alcohol.isna()].head()"
   ]
  },
  {
   "cell_type": "markdown",
   "id": "58cd815d-b7b2-4fc2-8f94-b5cec54dd4f5",
   "metadata": {},
   "source": [
    "## The Other Side: `notnull()` & `notna()`"
   ]
  },
  {
   "cell_type": "code",
   "execution_count": 65,
   "id": "e3b5ca28-c880-4406-bc26-c1f0bb05e379",
   "metadata": {},
   "outputs": [
    {
     "data": {
      "text/plain": [
       "country\n",
       "Afghanistan    False\n",
       "Albania         True\n",
       "Algeria         True\n",
       "Andorra         True\n",
       "Angola          True\n",
       "               ...  \n",
       "Venezuela       True\n",
       "Vietnam         True\n",
       "Yemen          False\n",
       "Zambia          True\n",
       "Zimbabwe        True\n",
       "Name: wine_servings, Length: 193, dtype: bool"
      ]
     },
     "execution_count": 65,
     "metadata": {},
     "output_type": "execute_result"
    }
   ],
   "source": [
    "alcohol.notnull()"
   ]
  },
  {
   "cell_type": "code",
   "execution_count": 66,
   "id": "4cc648f1-71a5-4365-a9f1-2c5acb6e92e5",
   "metadata": {},
   "outputs": [
    {
     "data": {
      "text/plain": [
       "np.int64(162)"
      ]
     },
     "execution_count": 66,
     "metadata": {},
     "output_type": "execute_result"
    }
   ],
   "source": [
    "alcohol.notnull().sum()"
   ]
  },
  {
   "cell_type": "code",
   "execution_count": 67,
   "id": "630aa40c-a802-4882-92a3-158f3e7d9823",
   "metadata": {},
   "outputs": [
    {
     "data": {
      "text/plain": [
       "country\n",
       "Albania               54.0\n",
       "Algeria               14.0\n",
       "Andorra              312.0\n",
       "Angola                45.0\n",
       "Antigua & Barbuda     45.0\n",
       "                     ...  \n",
       "Vanuatu               11.0\n",
       "Venezuela              3.0\n",
       "Vietnam                1.0\n",
       "Zambia                 4.0\n",
       "Zimbabwe               4.0\n",
       "Name: wine_servings, Length: 162, dtype: float64"
      ]
     },
     "execution_count": 67,
     "metadata": {},
     "output_type": "execute_result"
    }
   ],
   "source": [
    "alcohol.loc[alcohol.notnull()]"
   ]
  },
  {
   "cell_type": "code",
   "execution_count": 68,
   "id": "e06eab98-5a32-479c-a431-e928b307a04a",
   "metadata": {},
   "outputs": [
    {
     "data": {
      "text/plain": [
       "np.int64(162)"
      ]
     },
     "execution_count": 68,
     "metadata": {},
     "output_type": "execute_result"
    }
   ],
   "source": [
    "alcohol.count()"
   ]
  },
  {
   "cell_type": "code",
   "execution_count": 69,
   "id": "83366378-22f6-48a0-8c67-a7097e0c30f3",
   "metadata": {},
   "outputs": [
    {
     "data": {
      "text/plain": [
       "np.True_"
      ]
     },
     "execution_count": 69,
     "metadata": {},
     "output_type": "execute_result"
    }
   ],
   "source": [
    "alcohol.notnull().sum() + alcohol.isnull().sum() == alcohol.size"
   ]
  },
  {
   "cell_type": "markdown",
   "id": "7e324c59-5edc-4e72-b84f-7f3f323ac963",
   "metadata": {},
   "source": [
    "## Booleans Are Literally Numbers In Python\n",
    "\n",
    "True  : 1\n",
    "False : 0\n",
    "\n",
    "The bool type inherits from (is a subclass of) int\n",
    "\n",
    "`bool` ==> `int` ==> `object`"
   ]
  },
  {
   "cell_type": "code",
   "execution_count": 70,
   "id": "bbef9305-8cdf-405e-ad69-8c5a63d70e1f",
   "metadata": {},
   "outputs": [
    {
     "data": {
      "text/plain": [
       "20"
      ]
     },
     "execution_count": 70,
     "metadata": {},
     "output_type": "execute_result"
    }
   ],
   "source": [
    "True + 19"
   ]
  },
  {
   "cell_type": "code",
   "execution_count": 71,
   "id": "64f05181-5f14-4790-b1a8-13e1d16f2f8b",
   "metadata": {},
   "outputs": [
    {
     "data": {
      "text/plain": [
       "5"
      ]
     },
     "execution_count": 71,
     "metadata": {},
     "output_type": "execute_result"
    }
   ],
   "source": [
    "True + True - False + True * 3"
   ]
  },
  {
   "cell_type": "code",
   "execution_count": 72,
   "id": "bc28bdd9-0f9c-47fd-a447-27de271b546d",
   "metadata": {},
   "outputs": [
    {
     "name": "stdout",
     "output_type": "stream",
     "text": [
      "not possible\n"
     ]
    }
   ],
   "source": [
    "try:\n",
    "    5 / False\n",
    "except:\n",
    "    print('not possible')"
   ]
  },
  {
   "cell_type": "code",
   "execution_count": 73,
   "id": "60ec0aa2-2a8d-4d63-b584-3e8a5bb9c340",
   "metadata": {},
   "outputs": [
    {
     "data": {
      "text/plain": [
       "bool"
      ]
     },
     "execution_count": 73,
     "metadata": {},
     "output_type": "execute_result"
    }
   ],
   "source": [
    "type(True)"
   ]
  },
  {
   "cell_type": "code",
   "execution_count": 74,
   "id": "b4d47be6-d57e-4800-95f9-5183e46bc0c9",
   "metadata": {},
   "outputs": [
    {
     "data": {
      "text/plain": [
       "bool"
      ]
     },
     "execution_count": 74,
     "metadata": {},
     "output_type": "execute_result"
    }
   ],
   "source": [
    "type(False)"
   ]
  },
  {
   "cell_type": "code",
   "execution_count": 75,
   "id": "3a48dbf4-d44d-48d0-9817-bb5fe9051bcf",
   "metadata": {},
   "outputs": [
    {
     "data": {
      "text/plain": [
       "(bool, int, object)"
      ]
     },
     "execution_count": 75,
     "metadata": {},
     "output_type": "execute_result"
    }
   ],
   "source": [
    "bool.__mro__ # method resolution order"
   ]
  },
  {
   "cell_type": "code",
   "execution_count": 76,
   "id": "21810bab-1774-4915-a7a6-bf0a3ee65595",
   "metadata": {},
   "outputs": [
    {
     "data": {
      "text/plain": [
       "(int, object)"
      ]
     },
     "execution_count": 76,
     "metadata": {},
     "output_type": "execute_result"
    }
   ],
   "source": [
    "int.__mro__"
   ]
  },
  {
   "cell_type": "code",
   "execution_count": 77,
   "id": "ff796f11-18ca-4c3a-997f-2f7bbb0e2e33",
   "metadata": {},
   "outputs": [
    {
     "data": {
      "text/plain": [
       "(list, object)"
      ]
     },
     "execution_count": 77,
     "metadata": {},
     "output_type": "execute_result"
    }
   ],
   "source": [
    "list.__mro__"
   ]
  },
  {
   "cell_type": "code",
   "execution_count": 78,
   "id": "4e403169-7527-4534-b72c-f34373774cde",
   "metadata": {},
   "outputs": [
    {
     "data": {
      "text/plain": [
       "np.int64(31)"
      ]
     },
     "execution_count": 78,
     "metadata": {},
     "output_type": "execute_result"
    }
   ],
   "source": [
    "alcohol.isnull().sum()"
   ]
  },
  {
   "cell_type": "markdown",
   "id": "46406052-9d9c-4b8e-89a3-a1e611e8cbee",
   "metadata": {},
   "source": [
    "## Skill Challenge 😈"
   ]
  },
  {
   "cell_type": "markdown",
   "id": "86e42c3a-5914-4cb8-a648-fbb77e16d4a6",
   "metadata": {},
   "source": [
    "Isolate the non-nulls in the alcohol series and assign them to the variable wine_servings."
   ]
  },
  {
   "cell_type": "code",
   "execution_count": 79,
   "id": "c9c745d1-4be5-48a9-8799-e46919dce2ae",
   "metadata": {},
   "outputs": [],
   "source": [
    "wine_servings = alcohol.loc[alcohol.notnull()]"
   ]
  },
  {
   "cell_type": "markdown",
   "id": "a985ce23-855b-49a8-9974-2fb16c9e889a",
   "metadata": {},
   "source": [
    "What is the total wine consumed by countries in wine_servings"
   ]
  },
  {
   "cell_type": "code",
   "execution_count": 80,
   "id": "6868e94a-166c-4128-923b-e4c72eeb6c49",
   "metadata": {},
   "outputs": [
    {
     "data": {
      "text/plain": [
       "country\n",
       "Albania               54.0\n",
       "Algeria               14.0\n",
       "Andorra              312.0\n",
       "Angola                45.0\n",
       "Antigua & Barbuda     45.0\n",
       "Name: wine_servings, dtype: float64"
      ]
     },
     "execution_count": 80,
     "metadata": {},
     "output_type": "execute_result"
    }
   ],
   "source": [
    "wine_servings.head()"
   ]
  },
  {
   "cell_type": "code",
   "execution_count": 81,
   "id": "e37e9e03-22e3-4cba-9a9f-e3e936c925b2",
   "metadata": {},
   "outputs": [
    {
     "data": {
      "text/plain": [
       "np.float64(8221.0)"
      ]
     },
     "execution_count": 81,
     "metadata": {},
     "output_type": "execute_result"
    }
   ],
   "source": [
    "wine_servings.sum() # wine_serving.values.sum()"
   ]
  },
  {
   "cell_type": "code",
   "execution_count": 82,
   "id": "bf1751ae-8287-429a-b2ce-6429c57ea32f",
   "metadata": {},
   "outputs": [
    {
     "data": {
      "text/plain": [
       "country\n",
       "Albania               True\n",
       "Algeria               True\n",
       "Andorra              False\n",
       "Angola                True\n",
       "Antigua & Barbuda     True\n",
       "Name: wine_servings, dtype: bool"
      ]
     },
     "execution_count": 82,
     "metadata": {},
     "output_type": "execute_result"
    }
   ],
   "source": [
    "(wine_servings < 100).head()"
   ]
  },
  {
   "cell_type": "code",
   "execution_count": 83,
   "id": "8825a79b-bb6b-4473-bda0-c3970ed88343",
   "metadata": {},
   "outputs": [
    {
     "data": {
      "text/plain": [
       "np.float64(2416.0)"
      ]
     },
     "execution_count": 83,
     "metadata": {},
     "output_type": "execute_result"
    }
   ],
   "source": [
    "wine_servings[lambda x : [(True if i < 100 else False) for i in x]].sum()"
   ]
  },
  {
   "cell_type": "code",
   "execution_count": 84,
   "id": "415156be-065f-4e0d-9897-0d1de4eebeb2",
   "metadata": {},
   "outputs": [
    {
     "data": {
      "text/plain": [
       "np.float64(2416.0)"
      ]
     },
     "execution_count": 84,
     "metadata": {},
     "output_type": "execute_result"
    }
   ],
   "source": [
    "wine_servings[wine_servings < 100].sum()"
   ]
  },
  {
   "cell_type": "markdown",
   "id": "deeb33da-0710-4cc3-b152-e939617b649e",
   "metadata": {},
   "source": [
    "## Dropping And Filling NA's"
   ]
  },
  {
   "cell_type": "code",
   "execution_count": 85,
   "id": "5b3b695f-4486-4f2e-8f9a-c63422cea49e",
   "metadata": {},
   "outputs": [
    {
     "data": {
      "text/plain": [
       "country\n",
       "Albania               54.0\n",
       "Algeria               14.0\n",
       "Andorra              312.0\n",
       "Angola                45.0\n",
       "Antigua & Barbuda     45.0\n",
       "                     ...  \n",
       "Vanuatu               11.0\n",
       "Venezuela              3.0\n",
       "Vietnam                1.0\n",
       "Zambia                 4.0\n",
       "Zimbabwe               4.0\n",
       "Name: wine_servings, Length: 162, dtype: float64"
      ]
     },
     "execution_count": 85,
     "metadata": {},
     "output_type": "execute_result"
    }
   ],
   "source": [
    "alcohol.dropna()"
   ]
  },
  {
   "cell_type": "code",
   "execution_count": 86,
   "id": "79b638bc-54e3-4587-94b4-a68b54445f3b",
   "metadata": {},
   "outputs": [
    {
     "data": {
      "text/plain": [
       "193"
      ]
     },
     "execution_count": 86,
     "metadata": {},
     "output_type": "execute_result"
    }
   ],
   "source": [
    "alcohol.size"
   ]
  },
  {
   "cell_type": "code",
   "execution_count": 87,
   "id": "6327583d-5670-4be2-a423-39ee5fd336a8",
   "metadata": {},
   "outputs": [],
   "source": [
    "# one way: reassignment\n",
    "# alcohol = alcohol.dropna()"
   ]
  },
  {
   "cell_type": "code",
   "execution_count": 88,
   "id": "77c89437-87b1-4c76-9dcf-d8fdfab9a078",
   "metadata": {},
   "outputs": [],
   "source": [
    "# inplace param to make changes on the same data set\n",
    "# alcohol.dropna(inplace=True)"
   ]
  },
  {
   "cell_type": "code",
   "execution_count": 89,
   "id": "309f9bee-aea2-41e5-9e1e-9951c34ee293",
   "metadata": {},
   "outputs": [
    {
     "data": {
      "text/plain": [
       "country\n",
       "Albania               54.0\n",
       "Algeria               14.0\n",
       "Andorra              312.0\n",
       "Angola                45.0\n",
       "Antigua & Barbuda     45.0\n",
       "                     ...  \n",
       "Vanuatu               11.0\n",
       "Venezuela              3.0\n",
       "Vietnam                1.0\n",
       "Zambia                 4.0\n",
       "Zimbabwe               4.0\n",
       "Name: wine_servings, Length: 162, dtype: float64"
      ]
     },
     "execution_count": 89,
     "metadata": {},
     "output_type": "execute_result"
    }
   ],
   "source": [
    "alcohol.dropna(inplace=False)"
   ]
  },
  {
   "cell_type": "code",
   "execution_count": 90,
   "id": "ac5dde76-4b5c-4188-b036-bc3daea5eff1",
   "metadata": {},
   "outputs": [
    {
     "data": {
      "text/plain": [
       "country\n",
       "Afghanistan    100.0\n",
       "Albania         54.0\n",
       "Algeria         14.0\n",
       "Andorra        312.0\n",
       "Angola          45.0\n",
       "               ...  \n",
       "Venezuela        3.0\n",
       "Vietnam          1.0\n",
       "Yemen          100.0\n",
       "Zambia           4.0\n",
       "Zimbabwe         4.0\n",
       "Name: wine_servings, Length: 193, dtype: float64"
      ]
     },
     "execution_count": 90,
     "metadata": {},
     "output_type": "execute_result"
    }
   ],
   "source": [
    "alcohol.fillna(100, inplace=False) # Don't want to override, default is False anyways"
   ]
  },
  {
   "cell_type": "markdown",
   "id": "8f51d049-732c-4658-9a40-eee03332da2d",
   "metadata": {},
   "source": [
    "##### Dropping or Filling NA's\n",
    "- .dropna(): excludes NAs from the series\n",
    "- .fillna(): replaces NAs with something else\n",
    "\n",
    "**NOTE** both methods return `a copy` of the series\n",
    "\n",
    "- ser.fillna('new value', inplace=True)"
   ]
  },
  {
   "cell_type": "markdown",
   "id": "f1a84fc9-4ee8-44dd-997c-a8427cb1723e",
   "metadata": {},
   "source": [
    "## Descriptive Statistics"
   ]
  },
  {
   "cell_type": "code",
   "execution_count": 91,
   "id": "788d71e3-8f45-44ed-b989-5f8197416a85",
   "metadata": {},
   "outputs": [
    {
     "data": {
      "text/plain": [
       "np.float64(8221.0)"
      ]
     },
     "execution_count": 91,
     "metadata": {},
     "output_type": "execute_result"
    }
   ],
   "source": [
    "alcohol.sum() # NAs will be excluded itself"
   ]
  },
  {
   "cell_type": "code",
   "execution_count": 92,
   "id": "e8399418-e221-4d73-ba03-0b767bdae740",
   "metadata": {},
   "outputs": [],
   "source": [
    "# calculating the average"
   ]
  },
  {
   "cell_type": "code",
   "execution_count": 93,
   "id": "18f76b8d-c594-4ef6-b08d-042ac3889792",
   "metadata": {},
   "outputs": [
    {
     "data": {
      "text/plain": [
       "np.int64(162)"
      ]
     },
     "execution_count": 93,
     "metadata": {},
     "output_type": "execute_result"
    }
   ],
   "source": [
    "alcohol.count() # don't have null values"
   ]
  },
  {
   "cell_type": "code",
   "execution_count": 94,
   "id": "fb41c6b5-7ace-4ad7-b147-7f434f39de47",
   "metadata": {},
   "outputs": [
    {
     "data": {
      "text/plain": [
       "np.float64(50.74691358024691)"
      ]
     },
     "execution_count": 94,
     "metadata": {},
     "output_type": "execute_result"
    }
   ],
   "source": [
    "alcohol.sum() / alcohol.count()"
   ]
  },
  {
   "cell_type": "code",
   "execution_count": 95,
   "id": "abc8cec2-590d-4c02-bd37-c660ef0a7bf9",
   "metadata": {},
   "outputs": [
    {
     "data": {
      "text/plain": [
       "np.float64(50.74691358024691)"
      ]
     },
     "execution_count": 95,
     "metadata": {},
     "output_type": "execute_result"
    }
   ],
   "source": [
    "alcohol.mean()"
   ]
  },
  {
   "cell_type": "markdown",
   "id": "98e7f77f-e50c-479a-bae9-62be50e7948c",
   "metadata": {},
   "source": [
    "##### Median\n",
    "\n",
    "The middlemost element in a sorted list of numbers.\n",
    "\n",
    "- 10, 11, 12, 13, 14, 15, 16\n",
    "- 10, 11, 12, 13, 14, 15, 16, 17\n",
    "\n",
    "(13 + 14) / 2 = 13.5"
   ]
  },
  {
   "cell_type": "code",
   "execution_count": 96,
   "id": "6065eda6-83f5-4684-a378-2bb21b24d3f4",
   "metadata": {},
   "outputs": [
    {
     "data": {
      "text/plain": [
       "np.float64(11.5)"
      ]
     },
     "execution_count": 96,
     "metadata": {},
     "output_type": "execute_result"
    }
   ],
   "source": [
    "alcohol.median()"
   ]
  },
  {
   "cell_type": "code",
   "execution_count": 97,
   "id": "68df2814-8da8-454a-b663-2cbcafeeeab7",
   "metadata": {},
   "outputs": [
    {
     "data": {
      "text/plain": [
       "(np.float64(11.5), np.float64(11.5))"
      ]
     },
     "execution_count": 97,
     "metadata": {},
     "output_type": "execute_result"
    }
   ],
   "source": [
    "alcohol.quantile(q=.5), alcohol.quantile(.5)"
   ]
  },
  {
   "cell_type": "code",
   "execution_count": 98,
   "id": "644080f7-cbad-447a-a475-8bab9b068215",
   "metadata": {},
   "outputs": [
    {
     "data": {
      "image/png": "[encoded data removed]",
      "text/plain": [
       "<Figure size 640x480 with 1 Axes>"
      ]
     },
     "metadata": {},
     "output_type": "display_data"
    }
   ],
   "source": [
    "alcohol.hist();"
   ]
  },
  {
   "cell_type": "code",
   "execution_count": 99,
   "id": "9aec2ef3-c988-4979-aac8-34e57902294f",
   "metadata": {},
   "outputs": [],
   "source": [
    "# mean will excceed the median, positive skew distribution. "
   ]
  },
  {
   "cell_type": "code",
   "execution_count": 100,
   "id": "f95e1020-281d-4037-b160-d1f6b8981055",
   "metadata": {},
   "outputs": [],
   "source": [
    "iqr = alcohol.quantile(.75) - alcohol.quantile(.25)"
   ]
  },
  {
   "cell_type": "code",
   "execution_count": 101,
   "id": "3d5d470f-8bb2-4544-b3b4-a993d5ccc7d0",
   "metadata": {},
   "outputs": [
    {
     "data": {
      "text/plain": [
       "np.float64(58.25)"
      ]
     },
     "execution_count": 101,
     "metadata": {},
     "output_type": "execute_result"
    }
   ],
   "source": [
    "iqr"
   ]
  },
  {
   "cell_type": "code",
   "execution_count": 102,
   "id": "085e223d-6bf9-4739-acf9-a609da6a85ae",
   "metadata": {},
   "outputs": [],
   "source": [
    "# iqr is x5 times then our median"
   ]
  },
  {
   "cell_type": "code",
   "execution_count": 103,
   "id": "24a1da24-b36d-4370-8bdc-09959c74ddd4",
   "metadata": {},
   "outputs": [],
   "source": [
    "# min and max"
   ]
  },
  {
   "cell_type": "code",
   "execution_count": 104,
   "id": "bec119c5-5c1d-444a-8630-65b9c06eccef",
   "metadata": {},
   "outputs": [
    {
     "data": {
      "text/plain": [
       "np.float64(1.0)"
      ]
     },
     "execution_count": 104,
     "metadata": {},
     "output_type": "execute_result"
    }
   ],
   "source": [
    "alcohol.min()"
   ]
  },
  {
   "cell_type": "code",
   "execution_count": 105,
   "id": "bfa5f416-ad04-419d-9a59-84a3810cdd19",
   "metadata": {},
   "outputs": [
    {
     "data": {
      "text/plain": [
       "np.float64(339.0)"
      ]
     },
     "execution_count": 105,
     "metadata": {},
     "output_type": "execute_result"
    }
   ],
   "source": [
    "alcohol.max()"
   ]
  },
  {
   "cell_type": "code",
   "execution_count": 106,
   "id": "5d961225-6e6b-4aab-982f-56097c2f30cc",
   "metadata": {},
   "outputs": [
    {
     "data": {
      "text/plain": [
       "np.float64(76.13491716376171)"
      ]
     },
     "execution_count": 106,
     "metadata": {},
     "output_type": "execute_result"
    }
   ],
   "source": [
    "alcohol.std() # standard deviation, sqrt of variant"
   ]
  },
  {
   "cell_type": "code",
   "execution_count": 107,
   "id": "bf15000c-f514-4c2c-a05d-dadb7d477ec4",
   "metadata": {},
   "outputs": [
    {
     "data": {
      "text/plain": [
       "np.float64(5796.5256115328575)"
      ]
     },
     "execution_count": 107,
     "metadata": {},
     "output_type": "execute_result"
    }
   ],
   "source": [
    "alcohol.var() # "
   ]
  },
  {
   "cell_type": "code",
   "execution_count": 108,
   "id": "7bbbb1c8-a3a3-4635-b27d-6c93b99d7754",
   "metadata": {},
   "outputs": [
    {
     "data": {
      "text/plain": [
       "np.True_"
      ]
     },
     "execution_count": 108,
     "metadata": {},
     "output_type": "execute_result"
    }
   ],
   "source": [
    "alcohol.std()**2 == alcohol.var()"
   ]
  },
  {
   "cell_type": "markdown",
   "id": "de214464-d558-46e6-8616-abf4081656e3",
   "metadata": {},
   "source": [
    "## The `describe()` Method"
   ]
  },
  {
   "cell_type": "code",
   "execution_count": 109,
   "id": "419f18bc-22d4-4b35-a109-5cf41a836488",
   "metadata": {},
   "outputs": [
    {
     "data": {
      "text/plain": [
       "count    162.000000\n",
       "mean      50.746914\n",
       "std       76.134917\n",
       "min        1.000000\n",
       "25%        3.000000\n",
       "50%       11.500000\n",
       "75%       61.250000\n",
       "max      339.000000\n",
       "Name: wine_servings, dtype: float64"
      ]
     },
     "execution_count": 109,
     "metadata": {},
     "output_type": "execute_result"
    }
   ],
   "source": [
    "alcohol.describe()"
   ]
  },
  {
   "cell_type": "code",
   "execution_count": 110,
   "id": "98e2c229-6bd1-4b80-9160-af118b52178d",
   "metadata": {},
   "outputs": [
    {
     "data": {
      "text/plain": [
       "count    162.000000\n",
       "mean      50.746914\n",
       "std       76.134917\n",
       "min        1.000000\n",
       "19%        2.000000\n",
       "50%       11.500000\n",
       "79%       81.570000\n",
       "max      339.000000\n",
       "Name: wine_servings, dtype: float64"
      ]
     },
     "execution_count": 110,
     "metadata": {},
     "output_type": "execute_result"
    }
   ],
   "source": [
    "alcohol.describe(percentiles=[.79, .19])"
   ]
  },
  {
   "cell_type": "code",
   "execution_count": 111,
   "id": "5933adb9-a513-48a5-a16a-98b1a487b193",
   "metadata": {},
   "outputs": [
    {
     "data": {
      "text/plain": [
       "count    162.000000\n",
       "mean      50.746914\n",
       "std       76.134917\n",
       "min        1.000000\n",
       "19%        2.000000\n",
       "50%       11.500000\n",
       "79%       81.570000\n",
       "max      339.000000\n",
       "Name: wine_servings, dtype: float64"
      ]
     },
     "execution_count": 111,
     "metadata": {},
     "output_type": "execute_result"
    }
   ],
   "source": [
    "alcohol.describe(percentiles=[.79, .19], include=float, exclude=object)"
   ]
  },
  {
   "cell_type": "code",
   "execution_count": 112,
   "id": "e57d1829-77fc-41ee-9d57-e7ebeff99992",
   "metadata": {},
   "outputs": [
    {
     "data": {
      "text/plain": [
       "dtype('float64')"
      ]
     },
     "execution_count": 112,
     "metadata": {},
     "output_type": "execute_result"
    }
   ],
   "source": [
    "alcohol.dtype"
   ]
  },
  {
   "cell_type": "markdown",
   "id": "ecf97bda-5d3a-4564-877f-d4e1e22a5f46",
   "metadata": {},
   "source": [
    "## The mode & valuecount"
   ]
  },
  {
   "cell_type": "code",
   "execution_count": 113,
   "id": "e0e1dd56-d933-416d-972c-648922a69e31",
   "metadata": {},
   "outputs": [
    {
     "data": {
      "text/plain": [
       "0    1.0\n",
       "Name: wine_servings, dtype: float64"
      ]
     },
     "execution_count": 113,
     "metadata": {},
     "output_type": "execute_result"
    }
   ],
   "source": [
    "alcohol.mode()"
   ]
  },
  {
   "cell_type": "code",
   "execution_count": 114,
   "id": "0456edfd-75b7-4433-9cbe-71e84f96c627",
   "metadata": {},
   "outputs": [
    {
     "data": {
      "text/plain": [
       "country\n",
       "Afghanistan    False\n",
       "Albania        False\n",
       "Algeria        False\n",
       "Andorra        False\n",
       "Angola         False\n",
       "               ...  \n",
       "Venezuela      False\n",
       "Vietnam         True\n",
       "Yemen          False\n",
       "Zambia         False\n",
       "Zimbabwe       False\n",
       "Name: wine_servings, Length: 193, dtype: bool"
      ]
     },
     "execution_count": 114,
     "metadata": {},
     "output_type": "execute_result"
    }
   ],
   "source": [
    "alcohol == 1"
   ]
  },
  {
   "cell_type": "code",
   "execution_count": 115,
   "id": "62e60ccf-dd88-45f3-9f71-251a3b36f7ce",
   "metadata": {},
   "outputs": [
    {
     "data": {
      "text/plain": [
       "28"
      ]
     },
     "execution_count": 115,
     "metadata": {},
     "output_type": "execute_result"
    }
   ],
   "source": [
    "alcohol[alcohol == 1].size"
   ]
  },
  {
   "cell_type": "code",
   "execution_count": 116,
   "id": "6f21d05d-2f9b-439e-8343-3ec5e0973bc4",
   "metadata": {},
   "outputs": [
    {
     "data": {
      "text/plain": [
       "wine_servings\n",
       "1.0      28\n",
       "2.0      10\n",
       "7.0       9\n",
       "8.0       7\n",
       "5.0       6\n",
       "         ..\n",
       "218.0     1\n",
       "185.0     1\n",
       "78.0      1\n",
       "165.0     1\n",
       "22.0      1\n",
       "Name: count, Length: 71, dtype: int64"
      ]
     },
     "execution_count": 116,
     "metadata": {},
     "output_type": "execute_result"
    }
   ],
   "source": [
    "alcohol.value_counts()"
   ]
  },
  {
   "cell_type": "code",
   "execution_count": 117,
   "id": "561f7d15-4cd7-4ef1-8fea-089af6bf03da",
   "metadata": {},
   "outputs": [
    {
     "data": {
      "text/plain": [
       "0    1.0\n",
       "Name: wine_servings, dtype: float64"
      ]
     },
     "execution_count": 117,
     "metadata": {},
     "output_type": "execute_result"
    }
   ],
   "source": [
    "alcohol.mode()"
   ]
  },
  {
   "cell_type": "code",
   "execution_count": 118,
   "id": "342c8fe5-09d4-4c85-a36c-5969b5a8c1e2",
   "metadata": {},
   "outputs": [
    {
     "data": {
      "text/plain": [
       "(np.int64(28), np.int64(10))"
      ]
     },
     "execution_count": 118,
     "metadata": {},
     "output_type": "execute_result"
    }
   ],
   "source": [
    "alcohol.value_counts().iloc[0], alcohol.value_counts().iloc[1],"
   ]
  },
  {
   "cell_type": "code",
   "execution_count": 119,
   "id": "9a66322f-d8f4-460b-ae56-1837ce7c06af",
   "metadata": {},
   "outputs": [],
   "source": [
    "# value_counts() : a sorted series containing unique values and their counts\n",
    "# ser.value_counts(sort=True, ascending=False, dropna=True, normalize=False)"
   ]
  },
  {
   "cell_type": "code",
   "execution_count": 120,
   "id": "146a0b36-8caa-4758-9b5c-d30191d92e56",
   "metadata": {},
   "outputs": [
    {
     "data": {
      "text/plain": [
       "wine_servings\n",
       "1.0      0.172840\n",
       "2.0      0.061728\n",
       "7.0      0.055556\n",
       "8.0      0.043210\n",
       "5.0      0.037037\n",
       "           ...   \n",
       "218.0    0.006173\n",
       "185.0    0.006173\n",
       "78.0     0.006173\n",
       "165.0    0.006173\n",
       "22.0     0.006173\n",
       "Name: proportion, Length: 71, dtype: float64"
      ]
     },
     "execution_count": 120,
     "metadata": {},
     "output_type": "execute_result"
    }
   ],
   "source": [
    "alcohol.value_counts(normalize=True) # normalize to relative frequency, not absolute count"
   ]
  },
  {
   "cell_type": "code",
   "execution_count": 121,
   "id": "40dd9e75-54b5-45a7-840b-140a7077fe8a",
   "metadata": {},
   "outputs": [
    {
     "data": {
      "text/plain": [
       "0.1728395061728395"
      ]
     },
     "execution_count": 121,
     "metadata": {},
     "output_type": "execute_result"
    }
   ],
   "source": [
    "28/162 # count of non-null values of the series"
   ]
  },
  {
   "cell_type": "code",
   "execution_count": 122,
   "id": "4d7bb73c-cd93-4d06-9219-b1a3a43efa6f",
   "metadata": {},
   "outputs": [
    {
     "data": {
      "text/plain": [
       "np.float64(0.1728395061728395)"
      ]
     },
     "execution_count": 122,
     "metadata": {},
     "output_type": "execute_result"
    }
   ],
   "source": [
    "28/alcohol.count()"
   ]
  },
  {
   "cell_type": "markdown",
   "id": "f0cc0c13-c8ce-41db-a7b9-5379b3d403c0",
   "metadata": {},
   "source": [
    "## `idxmax` & `idxmin`"
   ]
  },
  {
   "cell_type": "code",
   "execution_count": 123,
   "id": "b735300f-6d4a-4b64-9b5c-545758844cc3",
   "metadata": {},
   "outputs": [
    {
     "data": {
      "text/plain": [
       "np.float64(339.0)"
      ]
     },
     "execution_count": 123,
     "metadata": {},
     "output_type": "execute_result"
    }
   ],
   "source": [
    "alcohol.max()"
   ]
  },
  {
   "cell_type": "code",
   "execution_count": 124,
   "id": "58d25b65-10dd-4512-b878-502b61261e1b",
   "metadata": {},
   "outputs": [
    {
     "data": {
      "text/plain": [
       "country\n",
       "Portugal    339.0\n",
       "Name: wine_servings, dtype: float64"
      ]
     },
     "execution_count": 124,
     "metadata": {},
     "output_type": "execute_result"
    }
   ],
   "source": [
    "alcohol[alcohol == alcohol.max()]"
   ]
  },
  {
   "cell_type": "code",
   "execution_count": 125,
   "id": "e6bbf293-fdf5-4c06-b350-f2e76aa5ada6",
   "metadata": {},
   "outputs": [
    {
     "data": {
      "text/plain": [
       "Index(['Portugal'], dtype='object', name='country')"
      ]
     },
     "execution_count": 125,
     "metadata": {},
     "output_type": "execute_result"
    }
   ],
   "source": [
    "alcohol[alcohol == alcohol.max()].index"
   ]
  },
  {
   "cell_type": "code",
   "execution_count": 126,
   "id": "bb4a7982-2b7d-4b04-ad00-b6c5f0666087",
   "metadata": {},
   "outputs": [
    {
     "data": {
      "text/plain": [
       "(['Portugal'], 'Portugal')"
      ]
     },
     "execution_count": 126,
     "metadata": {},
     "output_type": "execute_result"
    }
   ],
   "source": [
    "list(alcohol[alcohol == alcohol.max()].index), alcohol[alcohol == alcohol.max()].index[0]"
   ]
  },
  {
   "cell_type": "code",
   "execution_count": 127,
   "id": "778bb228-1d0c-4036-ae72-a53125a1dc82",
   "metadata": {},
   "outputs": [
    {
     "data": {
      "text/plain": [
       "'Portugal'"
      ]
     },
     "execution_count": 127,
     "metadata": {},
     "output_type": "execute_result"
    }
   ],
   "source": [
    "alcohol.idxmax() # Give me the label which is associated with the maximum value in the series"
   ]
  },
  {
   "cell_type": "code",
   "execution_count": 128,
   "id": "ff85da87-a7d8-46f4-91ef-2877c0e25b45",
   "metadata": {},
   "outputs": [
    {
     "data": {
      "text/plain": [
       "'Brunei'"
      ]
     },
     "execution_count": 128,
     "metadata": {},
     "output_type": "execute_result"
    }
   ],
   "source": [
    "alcohol.idxmin() # Vise versa, smallest value in the series, gives it's label"
   ]
  },
  {
   "cell_type": "code",
   "execution_count": 129,
   "id": "fa8da11f-b516-49ba-b7df-b4d48238ff07",
   "metadata": {},
   "outputs": [
    {
     "data": {
      "text/plain": [
       "np.float64(1.0)"
      ]
     },
     "execution_count": 129,
     "metadata": {},
     "output_type": "execute_result"
    }
   ],
   "source": [
    "alcohol.min()"
   ]
  },
  {
   "cell_type": "code",
   "execution_count": 130,
   "id": "64e81e84-5fd7-46a4-a009-71f34992efab",
   "metadata": {},
   "outputs": [
    {
     "data": {
      "text/plain": [
       "wine_servings\n",
       "1.0    28\n",
       "Name: count, dtype: int64"
      ]
     },
     "execution_count": 130,
     "metadata": {},
     "output_type": "execute_result"
    }
   ],
   "source": [
    "alcohol.value_counts().head(1)"
   ]
  },
  {
   "cell_type": "code",
   "execution_count": 131,
   "id": "68f70984-d143-483b-a08a-05847e5604ca",
   "metadata": {},
   "outputs": [
    {
     "data": {
      "text/plain": [
       "country\n",
       "Brunei                      1.0\n",
       "Cambodia                    1.0\n",
       "Canada                      1.0\n",
       "Central African Republic    1.0\n",
       "Chad                        1.0\n",
       "Name: wine_servings, dtype: float64"
      ]
     },
     "execution_count": 131,
     "metadata": {},
     "output_type": "execute_result"
    }
   ],
   "source": [
    "alcohol[alcohol == alcohol.min()].head(5)"
   ]
  },
  {
   "cell_type": "code",
   "execution_count": 132,
   "id": "c48f0029-3ef4-4d8d-b543-f29e26a22fcb",
   "metadata": {},
   "outputs": [
    {
     "data": {
      "text/plain": [
       "country\n",
       "Portugal    339.0\n",
       "Name: wine_servings, dtype: float64"
      ]
     },
     "execution_count": 132,
     "metadata": {},
     "output_type": "execute_result"
    }
   ],
   "source": [
    "alcohol[alcohol == alcohol.max()].head(5)"
   ]
  },
  {
   "cell_type": "code",
   "execution_count": 133,
   "id": "b98dc89b-0d79-4821-8791-f846ce016128",
   "metadata": {},
   "outputs": [
    {
     "data": {
      "text/plain": [
       "np.float64(339.0)"
      ]
     },
     "execution_count": 133,
     "metadata": {},
     "output_type": "execute_result"
    }
   ],
   "source": [
    "alcohol[alcohol.idxmax()] # 'Portugal'"
   ]
  },
  {
   "cell_type": "code",
   "execution_count": 134,
   "id": "12275614-9166-4eb6-b174-99d5462c0387",
   "metadata": {},
   "outputs": [
    {
     "data": {
      "text/plain": [
       "np.float64(339.0)"
      ]
     },
     "execution_count": 134,
     "metadata": {},
     "output_type": "execute_result"
    }
   ],
   "source": [
    "alcohol.max()"
   ]
  },
  {
   "cell_type": "code",
   "execution_count": 135,
   "id": "19c9d83d-39f9-4532-ac19-182020bc546f",
   "metadata": {},
   "outputs": [],
   "source": [
    "# idxmin(): returns the label of the row with minimum value\n",
    "# inxmax(): returns the label of the row with maximum value\n",
    "# NOTE: if we multiply min/max values, only `the first` label is returned"
   ]
  },
  {
   "cell_type": "markdown",
   "id": "94420ae0-9c52-465d-8fdc-f9a8293e717c",
   "metadata": {},
   "source": [
    "## Sorting With `sortvalues`"
   ]
  },
  {
   "cell_type": "code",
   "execution_count": 136,
   "id": "4aea0fa8-f171-4934-a889-186f14cd9fe5",
   "metadata": {},
   "outputs": [
    {
     "data": {
      "text/plain": [
       "country\n",
       "Thailand           1.0\n",
       "Solomon Islands    1.0\n",
       "Brunei             1.0\n",
       "Haiti              1.0\n",
       "Cambodia           1.0\n",
       "                  ... \n",
       "Sri Lanka          NaN\n",
       "Sudan              NaN\n",
       "Tajikistan         NaN\n",
       "Uganda             NaN\n",
       "Yemen              NaN\n",
       "Name: wine_servings, Length: 193, dtype: float64"
      ]
     },
     "execution_count": 136,
     "metadata": {},
     "output_type": "execute_result"
    }
   ],
   "source": [
    "alcohol.sort_values() # ASC order"
   ]
  },
  {
   "cell_type": "code",
   "execution_count": 137,
   "id": "8749ba6b-c29f-4001-a376-c51d7aecaf37",
   "metadata": {},
   "outputs": [
    {
     "data": {
      "text/plain": [
       "country\n",
       "Portugal      339.0\n",
       "Andorra       312.0\n",
       "Denmark       278.0\n",
       "Slovenia      276.0\n",
       "Luxembourg    271.0\n",
       "              ...  \n",
       "Sri Lanka       NaN\n",
       "Sudan           NaN\n",
       "Tajikistan      NaN\n",
       "Uganda          NaN\n",
       "Yemen           NaN\n",
       "Name: wine_servings, Length: 193, dtype: float64"
      ]
     },
     "execution_count": 137,
     "metadata": {},
     "output_type": "execute_result"
    }
   ],
   "source": [
    "alcohol.sort_values(ascending=False) # DESC order"
   ]
  },
  {
   "cell_type": "code",
   "execution_count": 138,
   "id": "1fce3972-955e-470a-badb-be744a71ea1e",
   "metadata": {},
   "outputs": [
    {
     "data": {
      "text/plain": [
       "country\n",
       "Portugal      339.0\n",
       "Andorra       312.0\n",
       "Denmark       278.0\n",
       "Slovenia      276.0\n",
       "Luxembourg    271.0\n",
       "              ...  \n",
       "Sri Lanka       NaN\n",
       "Sudan           NaN\n",
       "Tajikistan      NaN\n",
       "Uganda          NaN\n",
       "Yemen           NaN\n",
       "Name: wine_servings, Length: 193, dtype: float64"
      ]
     },
     "execution_count": 138,
     "metadata": {},
     "output_type": "execute_result"
    }
   ],
   "source": [
    "alcohol.sort_values(ascending=False, na_position='last') # 'last | first'"
   ]
  },
  {
   "cell_type": "code",
   "execution_count": 139,
   "id": "b5405226-a72e-4c09-808d-4fb365973b84",
   "metadata": {},
   "outputs": [
    {
     "data": {
      "text/plain": [
       "country\n",
       "Portugal      339.0\n",
       "Andorra       312.0\n",
       "Denmark       278.0\n",
       "Slovenia      276.0\n",
       "Luxembourg    271.0\n",
       "              ...  \n",
       "Sri Lanka       NaN\n",
       "Sudan           NaN\n",
       "Tajikistan      NaN\n",
       "Uganda          NaN\n",
       "Yemen           NaN\n",
       "Name: wine_servings, Length: 193, dtype: float64"
      ]
     },
     "execution_count": 139,
     "metadata": {},
     "output_type": "execute_result"
    }
   ],
   "source": [
    "alcohol.sort_values(ascending=False, na_position='last', kind='quicksort') # 'quicksort | mergesort | heapsort' - not change this default value unless needed,"
   ]
  },
  {
   "cell_type": "code",
   "execution_count": 140,
   "id": "d1799612-2c2c-4f21-90f3-96b4663aa099",
   "metadata": {},
   "outputs": [
    {
     "data": {
      "text/plain": [
       "country\n",
       "Afghanistan      NaN\n",
       "Albania         54.0\n",
       "Algeria         14.0\n",
       "Andorra        312.0\n",
       "Angola          45.0\n",
       "Name: wine_servings, dtype: float64"
      ]
     },
     "execution_count": 140,
     "metadata": {},
     "output_type": "execute_result"
    }
   ],
   "source": [
    "alcohol.head() # until now we are only working with copied data, not the original data"
   ]
  },
  {
   "cell_type": "code",
   "execution_count": 141,
   "id": "b46bbbc6-c6aa-44b5-a145-ff415dc2b895",
   "metadata": {},
   "outputs": [],
   "source": [
    "# reassignment:\n",
    "# inplace=True param:"
   ]
  },
  {
   "cell_type": "code",
   "execution_count": 142,
   "id": "aa0ccf6b-900a-4b5b-9aa4-922814f47c0d",
   "metadata": {},
   "outputs": [
    {
     "data": {
      "text/plain": [
       "country\n",
       "Portugal      339.0\n",
       "Andorra       312.0\n",
       "Denmark       278.0\n",
       "Slovenia      276.0\n",
       "Luxembourg    271.0\n",
       "              ...  \n",
       "Sri Lanka       NaN\n",
       "Sudan           NaN\n",
       "Tajikistan      NaN\n",
       "Uganda          NaN\n",
       "Yemen           NaN\n",
       "Name: wine_servings, Length: 193, dtype: float64"
      ]
     },
     "execution_count": 142,
     "metadata": {},
     "output_type": "execute_result"
    }
   ],
   "source": [
    "alcohol.sort_values(ascending=False, na_position='last', kind='quicksort', inplace=False) # change this to True, if you want to mutate the original data"
   ]
  },
  {
   "cell_type": "markdown",
   "id": "f79c803a-9db8-462d-a742-76c73326474b",
   "metadata": {},
   "source": [
    "## `nlargest` & `nsmallest`"
   ]
  },
  {
   "cell_type": "code",
   "execution_count": 143,
   "id": "2d108811-2e32-44c5-bc82-9c432f4af89b",
   "metadata": {},
   "outputs": [
    {
     "data": {
      "text/plain": [
       "np.float64(1.0)"
      ]
     },
     "execution_count": 143,
     "metadata": {},
     "output_type": "execute_result"
    }
   ],
   "source": [
    "alcohol.min()"
   ]
  },
  {
   "cell_type": "code",
   "execution_count": 144,
   "id": "907ebe10-900b-4730-b14a-5e2e264b8dde",
   "metadata": {},
   "outputs": [
    {
     "data": {
      "text/plain": [
       "np.float64(339.0)"
      ]
     },
     "execution_count": 144,
     "metadata": {},
     "output_type": "execute_result"
    }
   ],
   "source": [
    "alcohol.max()"
   ]
  },
  {
   "cell_type": "code",
   "execution_count": 145,
   "id": "42058812-a144-49fb-bbfd-07765c5d6752",
   "metadata": {},
   "outputs": [],
   "source": [
    "# these are very limited to single value i.e. min, max"
   ]
  },
  {
   "cell_type": "code",
   "execution_count": 146,
   "id": "117774da-9312-4798-b497-abdd42524d1d",
   "metadata": {},
   "outputs": [
    {
     "data": {
      "text/plain": [
       "country\n",
       "Portugal             339.0\n",
       "Andorra              312.0\n",
       "Denmark              278.0\n",
       "Slovenia             276.0\n",
       "Luxembourg           271.0\n",
       "Croatia              254.0\n",
       "Italy                237.0\n",
       "Equatorial Guinea    233.0\n",
       "Argentina            221.0\n",
       "Greece               218.0\n",
       "Name: wine_servings, dtype: float64"
      ]
     },
     "execution_count": 146,
     "metadata": {},
     "output_type": "execute_result"
    }
   ],
   "source": [
    "alcohol.sort_values(ascending=False).head(10)"
   ]
  },
  {
   "cell_type": "code",
   "execution_count": 147,
   "id": "f94f2cd4-8b53-4115-a467-7a38029f2c76",
   "metadata": {},
   "outputs": [
    {
     "data": {
      "text/plain": [
       "country\n",
       "Portugal             339.0\n",
       "Andorra              312.0\n",
       "Denmark              278.0\n",
       "Slovenia             276.0\n",
       "Luxembourg           271.0\n",
       "Croatia              254.0\n",
       "Italy                237.0\n",
       "Equatorial Guinea    233.0\n",
       "Argentina            221.0\n",
       "Greece               218.0\n",
       "Name: wine_servings, dtype: float64"
      ]
     },
     "execution_count": 147,
     "metadata": {},
     "output_type": "execute_result"
    }
   ],
   "source": [
    "alcohol.sort_values(ascending=False)[:10] # longer approach"
   ]
  },
  {
   "cell_type": "code",
   "execution_count": 148,
   "id": "f055f4a4-47cb-4495-9580-b77fe5d87a25",
   "metadata": {},
   "outputs": [
    {
     "data": {
      "text/plain": [
       "country\n",
       "Portugal             339.0\n",
       "Andorra              312.0\n",
       "Denmark              278.0\n",
       "Slovenia             276.0\n",
       "Luxembourg           271.0\n",
       "Croatia              254.0\n",
       "Italy                237.0\n",
       "Equatorial Guinea    233.0\n",
       "Argentina            221.0\n",
       "Greece               218.0\n",
       "Name: wine_servings, dtype: float64"
      ]
     },
     "execution_count": 148,
     "metadata": {},
     "output_type": "execute_result"
    }
   ],
   "source": [
    "alcohol.nlargest(n=10) # shorter approach"
   ]
  },
  {
   "cell_type": "code",
   "execution_count": 149,
   "id": "182a7ded-2d6b-47c2-8d9c-314c7942c799",
   "metadata": {},
   "outputs": [
    {
     "data": {
      "text/plain": [
       "country\n",
       "Brunei                      1.0\n",
       "Cambodia                    1.0\n",
       "Canada                      1.0\n",
       "Central African Republic    1.0\n",
       "Chad                        1.0\n",
       "Comoros                     1.0\n",
       "DR Congo                    1.0\n",
       "Egypt                       1.0\n",
       "Fiji                        1.0\n",
       "Gambia                      1.0\n",
       "Ghana                       1.0\n",
       "Guyana                      1.0\n",
       "Haiti                       1.0\n",
       "Jordan                      1.0\n",
       "Kiribati                    1.0\n",
       "Malawi                      1.0\n",
       "Mali                        1.0\n",
       "Morocco                     1.0\n",
       "Namibia                     1.0\n",
       "Nicaragua                   1.0\n",
       "Niger                       1.0\n",
       "Oman                        1.0\n",
       "Papua New Guinea            1.0\n",
       "Philippines                 1.0\n",
       "Solomon Islands             1.0\n",
       "Thailand                    1.0\n",
       "Tanzania                    1.0\n",
       "Vietnam                     1.0\n",
       "El Salvador                 2.0\n",
       "Name: wine_servings, dtype: float64"
      ]
     },
     "execution_count": 149,
     "metadata": {},
     "output_type": "execute_result"
    }
   ],
   "source": [
    "alcohol.nsmallest(29)"
   ]
  },
  {
   "cell_type": "markdown",
   "id": "7910e9ec-b929-4f22-b846-6e1571c654a0",
   "metadata": {},
   "source": [
    "## Sorting With `sortindex`"
   ]
  },
  {
   "cell_type": "code",
   "execution_count": 150,
   "id": "4ea0775b-ac32-4733-be3e-b62e2053c413",
   "metadata": {},
   "outputs": [
    {
     "data": {
      "text/plain": [
       "country\n",
       "Afghanistan      NaN\n",
       "Albania         54.0\n",
       "Algeria         14.0\n",
       "Andorra        312.0\n",
       "Angola          45.0\n",
       "Name: wine_servings, dtype: float64"
      ]
     },
     "execution_count": 150,
     "metadata": {},
     "output_type": "execute_result"
    }
   ],
   "source": [
    "alcohol.head()"
   ]
  },
  {
   "cell_type": "code",
   "execution_count": 151,
   "id": "88f265b9-6f85-42b2-bb39-af11093daa4d",
   "metadata": {},
   "outputs": [
    {
     "data": {
      "text/plain": [
       "country\n",
       "Afghanistan      NaN\n",
       "Albania         54.0\n",
       "Algeria         14.0\n",
       "Andorra        312.0\n",
       "Angola          45.0\n",
       "               ...  \n",
       "Venezuela        3.0\n",
       "Vietnam          1.0\n",
       "Yemen            NaN\n",
       "Zambia           4.0\n",
       "Zimbabwe         4.0\n",
       "Name: wine_servings, Length: 193, dtype: float64"
      ]
     },
     "execution_count": 151,
     "metadata": {},
     "output_type": "execute_result"
    }
   ],
   "source": [
    "alcohol.sort_index()"
   ]
  },
  {
   "cell_type": "code",
   "execution_count": 152,
   "id": "46dd6ab1-17e5-4a1d-85db-49108d725c9a",
   "metadata": {},
   "outputs": [
    {
     "data": {
      "text/plain": [
       "country\n",
       "Zimbabwe         4.0\n",
       "Zambia           4.0\n",
       "Yemen            NaN\n",
       "Vietnam          1.0\n",
       "Venezuela        3.0\n",
       "               ...  \n",
       "Angola          45.0\n",
       "Andorra        312.0\n",
       "Algeria         14.0\n",
       "Albania         54.0\n",
       "Afghanistan      NaN\n",
       "Name: wine_servings, Length: 193, dtype: float64"
      ]
     },
     "execution_count": 152,
     "metadata": {},
     "output_type": "execute_result"
    }
   ],
   "source": [
    "alcohol.sort_index(ascending=False)"
   ]
  },
  {
   "cell_type": "code",
   "execution_count": 153,
   "id": "9fe1b072-eb9f-491b-85e4-cad584f936b7",
   "metadata": {},
   "outputs": [],
   "source": [
    "alcohol.sort_index(ascending=False, na_position='first', inplace=True) # No Na's in the label side"
   ]
  },
  {
   "cell_type": "code",
   "execution_count": 154,
   "id": "1517f614-fbeb-4da6-bfee-b7ce26b1e930",
   "metadata": {},
   "outputs": [
    {
     "data": {
      "text/plain": [
       "np.int64(0)"
      ]
     },
     "execution_count": 154,
     "metadata": {},
     "output_type": "execute_result"
    }
   ],
   "source": [
    "alcohol.index.isnull().sum()"
   ]
  },
  {
   "cell_type": "code",
   "execution_count": 155,
   "id": "9bebfd70-1242-471d-9a29-7cf694f8c236",
   "metadata": {},
   "outputs": [
    {
     "data": {
      "text/plain": [
       "country\n",
       "Zimbabwe     4.0\n",
       "Zambia       4.0\n",
       "Yemen        NaN\n",
       "Vietnam      1.0\n",
       "Venezuela    3.0\n",
       "Name: wine_servings, dtype: float64"
      ]
     },
     "execution_count": 155,
     "metadata": {},
     "output_type": "execute_result"
    }
   ],
   "source": [
    "alcohol.head()"
   ]
  },
  {
   "cell_type": "code",
   "execution_count": 156,
   "id": "7bd50526-6d49-46bb-b1f7-b931d051d7f5",
   "metadata": {},
   "outputs": [],
   "source": [
    "# sort_values(): returns a new series, sorted by values\n",
    "# sort_index(): returns a new series, sorted by index labels\n",
    "# params: asending=True, inplace=False, na_position='last', kind='quicksort'"
   ]
  },
  {
   "cell_type": "markdown",
   "id": "fe2cc994-3f7e-48b8-b667-1416ca2856f7",
   "metadata": {},
   "source": [
    "# Skill Challege 😈"
   ]
  },
  {
   "cell_type": "code",
   "execution_count": 157,
   "id": "21d3b59e-e0a5-47b2-abeb-4e60ca34584e",
   "metadata": {},
   "outputs": [],
   "source": [
    "fifty_plus = alcohol[alcohol > 50]"
   ]
  },
  {
   "cell_type": "code",
   "execution_count": 158,
   "id": "69ddc12b-e43f-4c10-b834-3ec948363e70",
   "metadata": {},
   "outputs": [],
   "source": [
    "smallest_ = fifty_plus.nsmallest(20)"
   ]
  },
  {
   "cell_type": "code",
   "execution_count": 159,
   "id": "e14ba316-d55f-41c8-9a48-4abb2ba7ae9e",
   "metadata": {},
   "outputs": [
    {
     "data": {
      "text/plain": [
       "count     20.000000\n",
       "mean      74.250000\n",
       "std       19.072921\n",
       "min       51.000000\n",
       "25%       58.250000\n",
       "50%       73.500000\n",
       "75%       84.500000\n",
       "max      113.000000\n",
       "Name: wine_servings, dtype: float64"
      ]
     },
     "execution_count": 159,
     "metadata": {},
     "output_type": "execute_result"
    }
   ],
   "source": [
    "smallest_.describe()"
   ]
  },
  {
   "cell_type": "code",
   "execution_count": 160,
   "id": "3aae5d56-ecaa-4512-99f5-83256813c105",
   "metadata": {},
   "outputs": [
    {
     "data": {
      "text/plain": [
       "(np.float64(74.25),\n",
       " np.float64(73.5),\n",
       " 0    51.0\n",
       " 1    56.0\n",
       " 2    59.0\n",
       " 3    74.0\n",
       " Name: wine_servings, dtype: float64)"
      ]
     },
     "execution_count": 160,
     "metadata": {},
     "output_type": "execute_result"
    }
   ],
   "source": [
    "smallest_.mean(), smallest_.median(), smallest_.mode()"
   ]
  },
  {
   "cell_type": "code",
   "execution_count": 161,
   "id": "e5fa4378-109c-4bf2-9e27-8a6eb10fa8e3",
   "metadata": {},
   "outputs": [
    {
     "data": {
      "text/plain": [
       "np.float64(19.07292100831631)"
      ]
     },
     "execution_count": 161,
     "metadata": {},
     "output_type": "execute_result"
    }
   ],
   "source": [
    "smallest_.std()"
   ]
  },
  {
   "cell_type": "code",
   "execution_count": 162,
   "id": "103f7567-6159-4dec-8816-0802dbbb8f0d",
   "metadata": {},
   "outputs": [
    {
     "data": {
      "text/plain": [
       "np.float64(363.7763157894737)"
      ]
     },
     "execution_count": 162,
     "metadata": {},
     "output_type": "execute_result"
    }
   ],
   "source": [
    "%matplotlib inline\n",
    "# %matplotlib widget - it will show an error, and see at the bottom for more commands which goes with %matplotlib\n",
    "smallest_.var()"
   ]
  },
  {
   "cell_type": "code",
   "execution_count": 163,
   "id": "208272bb-8d45-402c-89c9-a12a6fcbdf56",
   "metadata": {},
   "outputs": [
    {
     "data": {
      "text/plain": [
       "<Axes: >"
      ]
     },
     "execution_count": 163,
     "metadata": {},
     "output_type": "execute_result"
    },
    {
     "data": {
      "image/png": "[encoded data removed]",
      "text/plain": [
       "<Figure size 640x480 with 1 Axes>"
      ]
     },
     "metadata": {},
     "output_type": "display_data"
    }
   ],
   "source": [
    "smallest_.hist()"
   ]
  },
  {
   "cell_type": "markdown",
   "id": "bca5b32a-7978-4b1f-8482-a659924eaf42",
   "metadata": {},
   "source": [
    "## Calculating Variance & Standard Deviation"
   ]
  },
  {
   "cell_type": "code",
   "execution_count": 164,
   "id": "7854c4e5-5fd4-4dc3-b806-5c37846f9025",
   "metadata": {},
   "outputs": [
    {
     "data": {
      "text/plain": [
       "np.float64(5796.5256115328575)"
      ]
     },
     "execution_count": 164,
     "metadata": {},
     "output_type": "execute_result"
    }
   ],
   "source": [
    "alcohol.var()"
   ]
  },
  {
   "cell_type": "code",
   "execution_count": 165,
   "id": "5ec28aea-a1e4-4f4d-b9ca-4a1b62ce2d34",
   "metadata": {},
   "outputs": [
    {
     "data": {
      "text/plain": [
       "np.float64(5796.5256115328575)"
      ]
     },
     "execution_count": 165,
     "metadata": {},
     "output_type": "execute_result"
    }
   ],
   "source": [
    "(alcohol.subtract(alcohol.mean())**2).sum() / (alcohol.count() - 1) ## check sample formula"
   ]
  },
  {
   "cell_type": "code",
   "execution_count": 166,
   "id": "4ad3c9e8-c24a-4e4b-aafa-14d41926e74a",
   "metadata": {},
   "outputs": [
    {
     "data": {
      "text/plain": [
       "np.float64(76.13491716376171)"
      ]
     },
     "execution_count": 166,
     "metadata": {},
     "output_type": "execute_result"
    }
   ],
   "source": [
    "alcohol.std()"
   ]
  },
  {
   "cell_type": "code",
   "execution_count": 167,
   "id": "c9f6bc73-9129-48fc-92cc-d4c4e03f562c",
   "metadata": {},
   "outputs": [
    {
     "data": {
      "text/plain": [
       "np.float64(76.13491716376171)"
      ]
     },
     "execution_count": 167,
     "metadata": {},
     "output_type": "execute_result"
    }
   ],
   "source": [
    "((alcohol.subtract(alcohol.mean())**2).sum() / (alcohol.count() - 1)) ** (1/2) ## check sample formula"
   ]
  },
  {
   "cell_type": "markdown",
   "id": "f0187da8-28a1-4081-8398-2a8601b81cd9",
   "metadata": {},
   "source": [
    "## Cumulative Operations"
   ]
  },
  {
   "cell_type": "code",
   "execution_count": 168,
   "id": "e305d7fc-3209-4940-bb6c-1528bf0e3cb1",
   "metadata": {},
   "outputs": [
    {
     "data": {
      "text/plain": [
       "np.float64(8221.0)"
      ]
     },
     "execution_count": 168,
     "metadata": {},
     "output_type": "execute_result"
    }
   ],
   "source": [
    "alcohol.sum()"
   ]
  },
  {
   "cell_type": "code",
   "execution_count": 169,
   "id": "8ffa7b0e-26a7-4407-819c-12d4310756b4",
   "metadata": {},
   "outputs": [
    {
     "data": {
      "text/plain": [
       "country\n",
       "Zimbabwe          4.0\n",
       "Zambia            8.0\n",
       "Yemen             NaN\n",
       "Vietnam           9.0\n",
       "Venezuela        12.0\n",
       "                ...  \n",
       "Angola         7841.0\n",
       "Andorra        8153.0\n",
       "Algeria        8167.0\n",
       "Albania        8221.0\n",
       "Afghanistan       NaN\n",
       "Name: wine_servings, Length: 193, dtype: float64"
      ]
     },
     "execution_count": 169,
     "metadata": {},
     "output_type": "execute_result"
    }
   ],
   "source": [
    "alcohol.cumsum(skipna=True) # it's adds the previous value to next"
   ]
  },
  {
   "cell_type": "code",
   "execution_count": 170,
   "id": "0cf67e90-a8d6-4b92-87cb-dd0695e99369",
   "metadata": {},
   "outputs": [
    {
     "data": {
      "text/plain": [
       "nan"
      ]
     },
     "execution_count": 170,
     "metadata": {},
     "output_type": "execute_result"
    }
   ],
   "source": [
    "np.nan + 12"
   ]
  },
  {
   "cell_type": "code",
   "execution_count": 171,
   "id": "c1eee5db-1157-49c9-b358-2060b96f6070",
   "metadata": {},
   "outputs": [
    {
     "data": {
      "text/plain": [
       "np.float64(3.4276115052182796e+183)"
      ]
     },
     "execution_count": 171,
     "metadata": {},
     "output_type": "execute_result"
    }
   ],
   "source": [
    "alcohol.prod() # we can calculate the product of all servings"
   ]
  },
  {
   "cell_type": "code",
   "execution_count": 172,
   "id": "0800cef9-c057-442a-8ca0-636eb51f8369",
   "metadata": {},
   "outputs": [
    {
     "data": {
      "text/plain": [
       "country\n",
       "Zimbabwe        4.000000e+00\n",
       "Zambia          1.600000e+01\n",
       "Yemen                    NaN\n",
       "Vietnam         1.600000e+01\n",
       "Venezuela       4.800000e+01\n",
       "                   ...      \n",
       "Angola         1.453166e+178\n",
       "Andorra        4.533878e+180\n",
       "Algeria        6.347429e+181\n",
       "Albania        3.427612e+183\n",
       "Afghanistan              NaN\n",
       "Name: wine_servings, Length: 193, dtype: float64"
      ]
     },
     "execution_count": 172,
     "metadata": {},
     "output_type": "execute_result"
    }
   ],
   "source": [
    "alcohol.cumprod()"
   ]
  },
  {
   "cell_type": "code",
   "execution_count": 173,
   "id": "6766a0a8-9b32-414a-a2d5-1a292c308c9e",
   "metadata": {},
   "outputs": [
    {
     "data": {
      "text/plain": [
       "np.False_"
      ]
     },
     "execution_count": 173,
     "metadata": {},
     "output_type": "execute_result"
    }
   ],
   "source": [
    "alcohol.cumprod().iloc[-1] == alcohol.prod() # because the series is sorted, hence false"
   ]
  },
  {
   "cell_type": "code",
   "execution_count": 174,
   "id": "f31d4338-f451-40f9-827d-e54aa49ad2bd",
   "metadata": {},
   "outputs": [
    {
     "data": {
      "text/plain": [
       "np.float64(1.0)"
      ]
     },
     "execution_count": 174,
     "metadata": {},
     "output_type": "execute_result"
    }
   ],
   "source": [
    "alcohol.min()"
   ]
  },
  {
   "cell_type": "code",
   "execution_count": 175,
   "id": "80cc0f9f-4e65-4041-8ea1-157be01d04d2",
   "metadata": {},
   "outputs": [
    {
     "data": {
      "text/plain": [
       "country\n",
       "Zimbabwe       4.0\n",
       "Zambia         4.0\n",
       "Yemen          NaN\n",
       "Vietnam        1.0\n",
       "Venezuela      1.0\n",
       "              ... \n",
       "Angola         1.0\n",
       "Andorra        1.0\n",
       "Algeria        1.0\n",
       "Albania        1.0\n",
       "Afghanistan    NaN\n",
       "Name: wine_servings, Length: 193, dtype: float64"
      ]
     },
     "execution_count": 175,
     "metadata": {},
     "output_type": "execute_result"
    }
   ],
   "source": [
    "alcohol.cummin()"
   ]
  },
  {
   "cell_type": "code",
   "execution_count": 176,
   "id": "3ade04b4-a1ba-4d4d-9b5b-e5849a1ad404",
   "metadata": {},
   "outputs": [
    {
     "data": {
      "text/plain": [
       "np.float64(339.0)"
      ]
     },
     "execution_count": 176,
     "metadata": {},
     "output_type": "execute_result"
    }
   ],
   "source": [
    "alcohol.max()"
   ]
  },
  {
   "cell_type": "code",
   "execution_count": 177,
   "id": "1007cd08-7317-47e0-a402-ab4a11ae8ce1",
   "metadata": {},
   "outputs": [
    {
     "data": {
      "text/plain": [
       "country\n",
       "Zimbabwe         4.0\n",
       "Zambia           4.0\n",
       "Yemen            NaN\n",
       "Vietnam          4.0\n",
       "Venezuela        4.0\n",
       "               ...  \n",
       "Angola         339.0\n",
       "Andorra        339.0\n",
       "Algeria        339.0\n",
       "Albania        339.0\n",
       "Afghanistan      NaN\n",
       "Name: wine_servings, Length: 193, dtype: float64"
      ]
     },
     "execution_count": 177,
     "metadata": {},
     "output_type": "execute_result"
    }
   ],
   "source": [
    "alcohol.cummax()"
   ]
  },
  {
   "cell_type": "code",
   "execution_count": 178,
   "id": "8907ed68-53d8-4ef1-a5da-4e0002a7939c",
   "metadata": {},
   "outputs": [
    {
     "data": {
      "text/plain": [
       "country\n",
       "Zimbabwe     4.0\n",
       "Zambia       4.0\n",
       "Yemen        NaN\n",
       "Vietnam      1.0\n",
       "Venezuela    3.0\n",
       "Name: wine_servings, dtype: float64"
      ]
     },
     "execution_count": 178,
     "metadata": {},
     "output_type": "execute_result"
    }
   ],
   "source": [
    "alcohol.head()"
   ]
  },
  {
   "cell_type": "markdown",
   "id": "ab12b20e-47b9-4e5d-86a8-d641902053cf",
   "metadata": {},
   "source": [
    "## Pairwise Difference with `diff()`"
   ]
  },
  {
   "cell_type": "code",
   "execution_count": 179,
   "id": "4ad2d849-4979-485c-ba6e-2b356425c95b",
   "metadata": {},
   "outputs": [
    {
     "data": {
      "text/plain": [
       "country\n",
       "Zimbabwe     4.0\n",
       "Zambia       4.0\n",
       "Yemen        NaN\n",
       "Vietnam      1.0\n",
       "Venezuela    3.0\n",
       "Name: wine_servings, dtype: float64"
      ]
     },
     "execution_count": 179,
     "metadata": {},
     "output_type": "execute_result"
    }
   ],
   "source": [
    "alcohol.head()"
   ]
  },
  {
   "cell_type": "code",
   "execution_count": 180,
   "id": "a7e8c25f-6ef5-4677-88e9-e5c081f8360e",
   "metadata": {},
   "outputs": [
    {
     "data": {
      "text/plain": [
       "country\n",
       "Zimbabwe     NaN\n",
       "Zambia       0.0\n",
       "Yemen        NaN\n",
       "Vietnam      NaN\n",
       "Venezuela    2.0\n",
       "Name: wine_servings, dtype: float64"
      ]
     },
     "execution_count": 180,
     "metadata": {},
     "output_type": "execute_result"
    }
   ],
   "source": [
    "alcohol.diff().head() # next element vs the previos element, shifting back with 1, or called lag of 1, period of 1"
   ]
  },
  {
   "cell_type": "code",
   "execution_count": 181,
   "id": "519ca33b-6319-4abb-8d0c-390d8aa1e4cc",
   "metadata": {},
   "outputs": [
    {
     "data": {
      "text/plain": [
       "country\n",
       "Zimbabwe     NaN\n",
       "Zambia       NaN\n",
       "Yemen        NaN\n",
       "Vietnam     -3.0\n",
       "Venezuela    NaN\n",
       "Name: wine_servings, dtype: float64"
      ]
     },
     "execution_count": 181,
     "metadata": {},
     "output_type": "execute_result"
    }
   ],
   "source": [
    "alcohol.diff(periods=2).head() # compare with previou of previous, which is by 2"
   ]
  },
  {
   "cell_type": "code",
   "execution_count": 182,
   "id": "5596af74-2cd3-41a6-99ea-c6d071565008",
   "metadata": {},
   "outputs": [],
   "source": [
    "# This will be usefull in time series understanding\n",
    "# ser.diff(periods=1): the first discrete element-wise difference in a series"
   ]
  },
  {
   "cell_type": "markdown",
   "id": "ae2ccf85-074a-4832-a2a4-74688331a67e",
   "metadata": {},
   "source": [
    "Periods=1 | Periods=-1 | Periods=2 |\n",
    "----------|------------|-----------|\n",
    "  v2 - v1 | v1 - v2    | v3 - v1   |\n",
    "  v3 - v2 | v2 - v3    | v4 - v2   |"
   ]
  },
  {
   "cell_type": "markdown",
   "id": "0298f6bf-2769-428b-9e5d-0e86b9f5bb42",
   "metadata": {},
   "source": [
    "## Series Iteration"
   ]
  },
  {
   "cell_type": "code",
   "execution_count": 183,
   "id": "48236eff-ee6f-4e12-b534-1822ae9c9fa4",
   "metadata": {},
   "outputs": [],
   "source": [
    "mini_alc = alcohol[:10]"
   ]
  },
  {
   "cell_type": "code",
   "execution_count": 184,
   "id": "e5e8f529-9b6f-4c05-a753-97aa6ae8dd6d",
   "metadata": {},
   "outputs": [
    {
     "data": {
      "text/plain": [
       "country\n",
       "Zimbabwe                  4.0\n",
       "Zambia                    4.0\n",
       "Yemen                     NaN\n",
       "Vietnam                   1.0\n",
       "Venezuela                 3.0\n",
       "Vanuatu                  11.0\n",
       "Uzbekistan                8.0\n",
       "Uruguay                  22.0\n",
       "United Kingdom          195.0\n",
       "United Arab Emirates      5.0\n",
       "Name: wine_servings, dtype: float64"
      ]
     },
     "execution_count": 184,
     "metadata": {},
     "output_type": "execute_result"
    }
   ],
   "source": [
    "mini_alc"
   ]
  },
  {
   "cell_type": "code",
   "execution_count": 185,
   "id": "9ee5e209-5961-4d93-b55a-7e579b41a990",
   "metadata": {},
   "outputs": [
    {
     "name": "stdout",
     "output_type": "stream",
     "text": [
      "4.0\n",
      "4.0\n",
      "nan\n",
      "1.0\n",
      "3.0\n",
      "11.0\n",
      "8.0\n",
      "22.0\n",
      "195.0\n",
      "5.0\n"
     ]
    }
   ],
   "source": [
    "for i in mini_alc:\n",
    "    print(i)"
   ]
  },
  {
   "cell_type": "code",
   "execution_count": 186,
   "id": "012477b8-e6a8-4e9e-881a-f73f68dde3cc",
   "metadata": {},
   "outputs": [
    {
     "name": "stdout",
     "output_type": "stream",
     "text": [
      "0 4.0\n",
      "1 4.0\n",
      "2 nan\n",
      "3 1.0\n",
      "4 3.0\n",
      "5 11.0\n",
      "6 8.0\n",
      "7 22.0\n",
      "8 195.0\n",
      "9 5.0\n"
     ]
    }
   ],
   "source": [
    "for i, j in enumerate(mini_alc):\n",
    "    print(i, j)"
   ]
  },
  {
   "cell_type": "code",
   "execution_count": 187,
   "id": "f1160fa0-71b8-472f-b709-02622eea85a2",
   "metadata": {},
   "outputs": [
    {
     "name": "stdout",
     "output_type": "stream",
     "text": [
      "Zimbabwe\n",
      "Zambia\n",
      "Yemen\n",
      "Vietnam\n",
      "Venezuela\n",
      "Vanuatu\n",
      "Uzbekistan\n",
      "Uruguay\n",
      "United Kingdom\n",
      "United Arab Emirates\n"
     ]
    }
   ],
   "source": [
    "for i in mini_alc.index:\n",
    "    print(i)"
   ]
  },
  {
   "cell_type": "code",
   "execution_count": 188,
   "id": "a2c06f0b-51f7-4c9b-a7c3-ded3865b077d",
   "metadata": {},
   "outputs": [
    {
     "name": "stdout",
     "output_type": "stream",
     "text": [
      "Zimbabwe 4.0\n",
      "Zambia 4.0\n",
      "Yemen nan\n",
      "Vietnam 1.0\n",
      "Venezuela 3.0\n",
      "Vanuatu 11.0\n",
      "Uzbekistan 8.0\n",
      "Uruguay 22.0\n",
      "United Kingdom 195.0\n",
      "United Arab Emirates 5.0\n"
     ]
    }
   ],
   "source": [
    "for i in mini_alc.index:\n",
    "    print(i, mini_alc[i])"
   ]
  },
  {
   "cell_type": "code",
   "execution_count": 189,
   "id": "85c98c57-e3c5-477a-8a11-dc61c0359320",
   "metadata": {},
   "outputs": [
    {
     "name": "stdout",
     "output_type": "stream",
     "text": [
      "('Zimbabwe', 4.0)\n",
      "('Zambia', 4.0)\n",
      "('Yemen', nan)\n",
      "('Vietnam', 1.0)\n",
      "('Venezuela', 3.0)\n",
      "('Vanuatu', 11.0)\n",
      "('Uzbekistan', 8.0)\n",
      "('Uruguay', 22.0)\n",
      "('United Kingdom', 195.0)\n",
      "('United Arab Emirates', 5.0)\n"
     ]
    }
   ],
   "source": [
    "for i in mini_alc.items():\n",
    "    print(i)"
   ]
  },
  {
   "cell_type": "code",
   "execution_count": 190,
   "id": "3a5c211f-2917-4f4d-a6e9-9089b0a89716",
   "metadata": {},
   "outputs": [],
   "source": [
    "# items method return a lazy evaliated iterable of tuples\n",
    "# when we access it, it will evaluate, else not"
   ]
  },
  {
   "cell_type": "markdown",
   "id": "e65a7df3-e79f-402a-a221-0f10dc76ddb3",
   "metadata": {},
   "source": [
    "## Filtering: `filter()`, `where()` & `mask()`"
   ]
  },
  {
   "cell_type": "code",
   "execution_count": 191,
   "id": "5835c8ea-bc30-4cce-b7d3-c8f86a1981cc",
   "metadata": {},
   "outputs": [
    {
     "data": {
      "text/plain": [
       "country\n",
       "Vietnam       1.0\n",
       "Venezuela     3.0\n",
       "Vanuatu      11.0\n",
       "Name: wine_servings, dtype: float64"
      ]
     },
     "execution_count": 191,
     "metadata": {},
     "output_type": "execute_result"
    }
   ],
   "source": [
    "alcohol.filter(regex=\"^V\") # regular expression"
   ]
  },
  {
   "cell_type": "code",
   "execution_count": 192,
   "id": "b20f29e4-895e-46b7-8964-86195c8e524d",
   "metadata": {},
   "outputs": [
    {
     "data": {
      "text/plain": [
       "country\n",
       "Uzbekistan       8.0\n",
       "Turkmenistan    32.0\n",
       "Tajikistan       NaN\n",
       "Pakistan         NaN\n",
       "Kyrgyzstan       6.0\n",
       "Kazakhstan      12.0\n",
       "Afghanistan      NaN\n",
       "Name: wine_servings, dtype: float64"
      ]
     },
     "execution_count": 192,
     "metadata": {},
     "output_type": "execute_result"
    }
   ],
   "source": [
    "alcohol.filter(like=\"stan\") # just like sql"
   ]
  },
  {
   "cell_type": "code",
   "execution_count": 193,
   "id": "e9e8c86f-96ee-4ed1-9b45-0fbe49843a61",
   "metadata": {},
   "outputs": [
    {
     "data": {
      "text/plain": [
       "country\n",
       "Slovenia             276.0\n",
       "Portugal             339.0\n",
       "Luxembourg           271.0\n",
       "Italy                237.0\n",
       "Greece               218.0\n",
       "Equatorial Guinea    233.0\n",
       "Denmark              278.0\n",
       "Croatia              254.0\n",
       "Belgium              212.0\n",
       "Australia            212.0\n",
       "Argentina            221.0\n",
       "Andorra              312.0\n",
       "Name: wine_servings, dtype: float64"
      ]
     },
     "execution_count": 193,
     "metadata": {},
     "output_type": "execute_result"
    }
   ],
   "source": [
    "alcohol[alcohol > 200]"
   ]
  },
  {
   "cell_type": "code",
   "execution_count": 194,
   "id": "9dbb902b-b534-4d5f-bb71-7dc69dcff962",
   "metadata": {},
   "outputs": [
    {
     "data": {
      "text/plain": [
       "country\n",
       "Slovenia             276.0\n",
       "Portugal             339.0\n",
       "Luxembourg           271.0\n",
       "Italy                237.0\n",
       "Greece               218.0\n",
       "Equatorial Guinea    233.0\n",
       "Denmark              278.0\n",
       "Croatia              254.0\n",
       "Belgium              212.0\n",
       "Australia            212.0\n",
       "Argentina            221.0\n",
       "Andorra              312.0\n",
       "Name: wine_servings, dtype: float64"
      ]
     },
     "execution_count": 194,
     "metadata": {},
     "output_type": "execute_result"
    }
   ],
   "source": [
    "alcohol.loc[alcohol > 200]"
   ]
  },
  {
   "cell_type": "code",
   "execution_count": 195,
   "id": "92d23744-95d7-484d-9314-22d43312f9cb",
   "metadata": {},
   "outputs": [],
   "source": [
    "def gt200(x):\n",
    "    return x > 200"
   ]
  },
  {
   "cell_type": "code",
   "execution_count": 196,
   "id": "5aeff422-9c1e-4cdd-a604-a3ceac35936a",
   "metadata": {},
   "outputs": [
    {
     "data": {
      "text/plain": [
       "country\n",
       "Slovenia             276.0\n",
       "Portugal             339.0\n",
       "Luxembourg           271.0\n",
       "Italy                237.0\n",
       "Greece               218.0\n",
       "Equatorial Guinea    233.0\n",
       "Denmark              278.0\n",
       "Croatia              254.0\n",
       "Belgium              212.0\n",
       "Australia            212.0\n",
       "Argentina            221.0\n",
       "Andorra              312.0\n",
       "Name: wine_servings, dtype: float64"
      ]
     },
     "execution_count": 196,
     "metadata": {},
     "output_type": "execute_result"
    }
   ],
   "source": [
    "alcohol[gt200]"
   ]
  },
  {
   "cell_type": "code",
   "execution_count": 197,
   "id": "b3a47763-c6e9-4011-9f82-56229604810f",
   "metadata": {},
   "outputs": [
    {
     "data": {
      "text/plain": [
       "country\n",
       "Zimbabwe       to small\n",
       "Zambia         to small\n",
       "Yemen          to small\n",
       "Vietnam        to small\n",
       "Venezuela      to small\n",
       "                 ...   \n",
       "Angola         to small\n",
       "Andorra           312.0\n",
       "Algeria        to small\n",
       "Albania        to small\n",
       "Afghanistan    to small\n",
       "Name: wine_servings, Length: 193, dtype: object"
      ]
     },
     "execution_count": 197,
     "metadata": {},
     "output_type": "execute_result"
    }
   ],
   "source": [
    "alcohol.where(lambda x: x>200, other='to small') # basically replacement method"
   ]
  },
  {
   "cell_type": "code",
   "execution_count": 198,
   "id": "69680af4-1a9a-404d-a534-60ad22859747",
   "metadata": {},
   "outputs": [
    {
     "data": {
      "text/plain": [
       "country\n",
       "Zimbabwe         NaN\n",
       "Zambia           NaN\n",
       "Yemen            NaN\n",
       "Vietnam          NaN\n",
       "Venezuela        NaN\n",
       "               ...  \n",
       "Angola           NaN\n",
       "Andorra        312.0\n",
       "Algeria          NaN\n",
       "Albania          NaN\n",
       "Afghanistan      NaN\n",
       "Name: wine_servings, Length: 193, dtype: float64"
      ]
     },
     "execution_count": 198,
     "metadata": {},
     "output_type": "execute_result"
    }
   ],
   "source": [
    "alcohol.where(lambda x: x>200,)"
   ]
  },
  {
   "cell_type": "code",
   "execution_count": 199,
   "id": "e60a44db-7694-4c6d-aede-cbda9d6a8631",
   "metadata": {},
   "outputs": [
    {
     "data": {
      "text/plain": [
       "country\n",
       "Slovenia             276.0\n",
       "Portugal             339.0\n",
       "Luxembourg           271.0\n",
       "Italy                237.0\n",
       "Greece               218.0\n",
       "Equatorial Guinea    233.0\n",
       "Denmark              278.0\n",
       "Croatia              254.0\n",
       "Belgium              212.0\n",
       "Australia            212.0\n",
       "Argentina            221.0\n",
       "Andorra              312.0\n",
       "Name: wine_servings, dtype: float64"
      ]
     },
     "execution_count": 199,
     "metadata": {},
     "output_type": "execute_result"
    }
   ],
   "source": [
    "alcohol.where(lambda x: x>200,).dropna()"
   ]
  },
  {
   "cell_type": "code",
   "execution_count": 200,
   "id": "bf077dee-20b6-4203-9267-8e5ff411a4d3",
   "metadata": {},
   "outputs": [
    {
     "data": {
      "text/plain": [
       "country\n",
       "Zimbabwe              4.0\n",
       "Zambia                4.0\n",
       "Vietnam               1.0\n",
       "Venezuela             3.0\n",
       "Vanuatu              11.0\n",
       "                     ... \n",
       "Armenia              11.0\n",
       "Antigua & Barbuda    45.0\n",
       "Angola               45.0\n",
       "Algeria              14.0\n",
       "Albania              54.0\n",
       "Name: wine_servings, Length: 150, dtype: float64"
      ]
     },
     "execution_count": 200,
     "metadata": {},
     "output_type": "execute_result"
    }
   ],
   "source": [
    "alcohol.where(lambda x: x<200).dropna()"
   ]
  },
  {
   "cell_type": "code",
   "execution_count": 201,
   "id": "b36c1317-98a4-4acd-bbbd-548c145bff1d",
   "metadata": {},
   "outputs": [
    {
     "data": {
      "text/plain": [
       "country\n",
       "Zimbabwe              4.0\n",
       "Zambia                4.0\n",
       "Vietnam               1.0\n",
       "Venezuela             3.0\n",
       "Vanuatu              11.0\n",
       "                     ... \n",
       "Armenia              11.0\n",
       "Antigua & Barbuda    45.0\n",
       "Angola               45.0\n",
       "Algeria              14.0\n",
       "Albania              54.0\n",
       "Name: wine_servings, Length: 150, dtype: float64"
      ]
     },
     "execution_count": 201,
     "metadata": {},
     "output_type": "execute_result"
    }
   ],
   "source": [
    "alcohol.mask(lambda x: x>200).dropna()"
   ]
  },
  {
   "cell_type": "markdown",
   "id": "4bd0c34a-996a-40cb-81ff-c9c95286dc1d",
   "metadata": {},
   "source": [
    "## Transforming With `update()`, `apply()`, & `map()`"
   ]
  },
  {
   "cell_type": "code",
   "execution_count": 202,
   "id": "4544f987-df3f-452b-9ca7-bba186e0fd84",
   "metadata": {},
   "outputs": [
    {
     "data": {
      "text/plain": [
       "country\n",
       "Zimbabwe                  4.0\n",
       "Zambia                    4.0\n",
       "Yemen                     NaN\n",
       "Vietnam                   1.0\n",
       "Venezuela                 3.0\n",
       "Vanuatu                  11.0\n",
       "Uzbekistan                8.0\n",
       "Uruguay                  22.0\n",
       "United Kingdom          195.0\n",
       "United Arab Emirates      5.0\n",
       "Name: wine_servings, dtype: float64"
      ]
     },
     "execution_count": 202,
     "metadata": {},
     "output_type": "execute_result"
    }
   ],
   "source": [
    "alcohol.head(10)"
   ]
  },
  {
   "cell_type": "code",
   "execution_count": 203,
   "id": "421f7648-3879-4440-a45c-e696e4a021bf",
   "metadata": {},
   "outputs": [],
   "source": [
    "# spot v global transforms"
   ]
  },
  {
   "cell_type": "code",
   "execution_count": 204,
   "id": "9c228720-2723-4b10-8327-84a3e7cd50f9",
   "metadata": {},
   "outputs": [],
   "source": [
    "alcohol.loc['Zimbabwe'] = 19"
   ]
  },
  {
   "cell_type": "code",
   "execution_count": 205,
   "id": "60a8e589-9d84-4279-83ae-4008bdbb98ee",
   "metadata": {},
   "outputs": [
    {
     "data": {
      "text/plain": [
       "country\n",
       "Zimbabwe                 19.0\n",
       "Zambia                    4.0\n",
       "Yemen                     NaN\n",
       "Vietnam                   1.0\n",
       "Venezuela                 3.0\n",
       "Vanuatu                  11.0\n",
       "Uzbekistan                8.0\n",
       "Uruguay                  22.0\n",
       "United Kingdom          195.0\n",
       "United Arab Emirates      5.0\n",
       "Name: wine_servings, dtype: float64"
      ]
     },
     "execution_count": 205,
     "metadata": {},
     "output_type": "execute_result"
    }
   ],
   "source": [
    "alcohol[:10]"
   ]
  },
  {
   "cell_type": "code",
   "execution_count": 206,
   "id": "1285c70a-f284-448e-a698-993a71dc0659",
   "metadata": {},
   "outputs": [],
   "source": [
    "alcohol.loc['Yemen'] = 19\n",
    "alcohol.loc['United Kingdom'] = 89\n",
    "alcohol.loc['Uruguay'] = 27"
   ]
  },
  {
   "cell_type": "code",
   "execution_count": 207,
   "id": "316a16fb-942f-48b9-a2f4-60802efd9acc",
   "metadata": {},
   "outputs": [],
   "source": [
    "# This is not scalable and not very good for larget manipulation of data"
   ]
  },
  {
   "cell_type": "code",
   "execution_count": 208,
   "id": "0695fdad-4ded-4d2c-9114-e5185363c536",
   "metadata": {},
   "outputs": [
    {
     "data": {
      "text/plain": [
       "country\n",
       "Zimbabwe                19.0\n",
       "Zambia                   4.0\n",
       "Yemen                   19.0\n",
       "Vietnam                  1.0\n",
       "Venezuela                3.0\n",
       "Vanuatu                 11.0\n",
       "Uzbekistan               8.0\n",
       "Uruguay                 27.0\n",
       "United Kingdom          89.0\n",
       "United Arab Emirates     5.0\n",
       "Name: wine_servings, dtype: float64"
      ]
     },
     "execution_count": 208,
     "metadata": {},
     "output_type": "execute_result"
    }
   ],
   "source": [
    "alcohol.head(10)"
   ]
  },
  {
   "cell_type": "code",
   "execution_count": 209,
   "id": "2876f055-7df5-4e36-91d8-4eb17721149a",
   "metadata": {},
   "outputs": [],
   "source": [
    "alcohol.update(pd.Series(data=[200, 20], index=['Zimbabwe', 'Yemen']))"
   ]
  },
  {
   "cell_type": "code",
   "execution_count": 210,
   "id": "fa951be1-1a1b-4660-9bb6-43123ae5da62",
   "metadata": {},
   "outputs": [
    {
     "data": {
      "text/plain": [
       "country\n",
       "Zimbabwe                200.0\n",
       "Zambia                    4.0\n",
       "Yemen                    20.0\n",
       "Vietnam                   1.0\n",
       "Venezuela                 3.0\n",
       "Vanuatu                  11.0\n",
       "Uzbekistan                8.0\n",
       "Uruguay                  27.0\n",
       "United Kingdom           89.0\n",
       "United Arab Emirates      5.0\n",
       "Name: wine_servings, dtype: float64"
      ]
     },
     "execution_count": 210,
     "metadata": {},
     "output_type": "execute_result"
    }
   ],
   "source": [
    "alcohol.head(10)"
   ]
  },
  {
   "cell_type": "code",
   "execution_count": 211,
   "id": "d8f67d9e-1b82-4674-a795-d08432d1a737",
   "metadata": {},
   "outputs": [],
   "source": [
    "# we'll build our own software deleveloper workforce, xCodeClazz Workforce List, anyone can see their profile and can hire on cheap rates."
   ]
  },
  {
   "cell_type": "code",
   "execution_count": 212,
   "id": "6b981079-5eb6-4bff-9e59-6e171cce4a6e",
   "metadata": {},
   "outputs": [],
   "source": [
    "# apply method applies the change to each and every element of the series, - best for large datasets"
   ]
  },
  {
   "cell_type": "code",
   "execution_count": 213,
   "id": "57a0fd2c-8e01-404e-b318-3eb414df2080",
   "metadata": {},
   "outputs": [
    {
     "data": {
      "text/plain": [
       "country\n",
       "Zimbabwe       40000.0\n",
       "Zambia            16.0\n",
       "Yemen            400.0\n",
       "Vietnam            1.0\n",
       "Venezuela          9.0\n",
       "                ...   \n",
       "Angola          2025.0\n",
       "Andorra        97344.0\n",
       "Algeria          196.0\n",
       "Albania         2916.0\n",
       "Afghanistan        NaN\n",
       "Name: wine_servings, Length: 193, dtype: float64"
      ]
     },
     "execution_count": 213,
     "metadata": {},
     "output_type": "execute_result"
    }
   ],
   "source": [
    "alcohol.apply(lambda x: x**2)"
   ]
  },
  {
   "cell_type": "code",
   "execution_count": 214,
   "id": "76ea26f7-ef08-48e6-b6b1-a8ec10138f87",
   "metadata": {},
   "outputs": [
    {
     "data": {
      "text/plain": [
       "country\n",
       "Zimbabwe       40000.0\n",
       "Zambia            16.0\n",
       "Yemen            400.0\n",
       "Vietnam            1.0\n",
       "Venezuela          9.0\n",
       "                ...   \n",
       "Angola          2025.0\n",
       "Andorra        97344.0\n",
       "Algeria          196.0\n",
       "Albania         2916.0\n",
       "Afghanistan        NaN\n",
       "Name: wine_servings, Length: 193, dtype: float64"
      ]
     },
     "execution_count": 214,
     "metadata": {},
     "output_type": "execute_result"
    }
   ],
   "source": [
    "alcohol.apply(np.square)"
   ]
  },
  {
   "cell_type": "code",
   "execution_count": 215,
   "id": "3c0bab2d-878a-4e65-9142-d3109d9225d0",
   "metadata": {},
   "outputs": [],
   "source": [
    "def multiply_by_self(x):\n",
    "    return x*x"
   ]
  },
  {
   "cell_type": "code",
   "execution_count": 216,
   "id": "f1542e4f-f732-48a2-b7ea-43481c3320cd",
   "metadata": {},
   "outputs": [
    {
     "data": {
      "text/plain": [
       "country\n",
       "Zimbabwe       40000.0\n",
       "Zambia            16.0\n",
       "Yemen            400.0\n",
       "Vietnam            1.0\n",
       "Venezuela          9.0\n",
       "                ...   \n",
       "Angola          2025.0\n",
       "Andorra        97344.0\n",
       "Algeria          196.0\n",
       "Albania         2916.0\n",
       "Afghanistan        NaN\n",
       "Name: wine_servings, Length: 193, dtype: float64"
      ]
     },
     "execution_count": 216,
     "metadata": {},
     "output_type": "execute_result"
    }
   ],
   "source": [
    "alcohol.apply(multiply_by_self)"
   ]
  },
  {
   "cell_type": "code",
   "execution_count": 217,
   "id": "8b2cfbbc-8f03-478a-8ea0-f66b5df0869d",
   "metadata": {},
   "outputs": [],
   "source": [
    "def multiply_by_self_with_min(x, min_serving):\n",
    "    # x: reserve for series data\n",
    "    # min_serving: getting from args\n",
    "    if x < min_serving:\n",
    "        return x**2\n",
    "    return x"
   ]
  },
  {
   "cell_type": "code",
   "execution_count": 218,
   "id": "01834a33-c06d-4a3e-a781-b887978b4772",
   "metadata": {},
   "outputs": [
    {
     "data": {
      "text/plain": [
       "country\n",
       "Zimbabwe        200.0\n",
       "Zambia           16.0\n",
       "Yemen           400.0\n",
       "Vietnam           1.0\n",
       "Venezuela         9.0\n",
       "                ...  \n",
       "Angola         2025.0\n",
       "Andorra         312.0\n",
       "Algeria         196.0\n",
       "Albania        2916.0\n",
       "Afghanistan       NaN\n",
       "Name: wine_servings, Length: 193, dtype: float64"
      ]
     },
     "execution_count": 218,
     "metadata": {},
     "output_type": "execute_result"
    }
   ],
   "source": [
    "alcohol.apply(multiply_by_self_with_min, args=(200,)) # positional args"
   ]
  },
  {
   "cell_type": "code",
   "execution_count": 219,
   "id": "c9aeba00-dc9c-443a-bc35-f7d0438f861f",
   "metadata": {},
   "outputs": [
    {
     "data": {
      "text/plain": [
       "country\n",
       "Zimbabwe        200.0\n",
       "Zambia           16.0\n",
       "Yemen           400.0\n",
       "Vietnam           1.0\n",
       "Venezuela         9.0\n",
       "                ...  \n",
       "Angola         2025.0\n",
       "Andorra         312.0\n",
       "Algeria         196.0\n",
       "Albania        2916.0\n",
       "Afghanistan       NaN\n",
       "Name: wine_servings, Length: 193, dtype: float64"
      ]
     },
     "execution_count": 219,
     "metadata": {},
     "output_type": "execute_result"
    }
   ],
   "source": [
    "alcohol.apply(multiply_by_self_with_min, min_serving=200) # keyward args"
   ]
  },
  {
   "cell_type": "code",
   "execution_count": 220,
   "id": "235c4d10-d5f8-4816-9b3d-88afb47d922d",
   "metadata": {},
   "outputs": [],
   "source": [
    "# substitution operation, "
   ]
  },
  {
   "cell_type": "code",
   "execution_count": 221,
   "id": "310e8171-a012-48c2-9fde-5af97d788df9",
   "metadata": {},
   "outputs": [
    {
     "data": {
      "text/plain": [
       "country\n",
       "Zimbabwe       40000.0\n",
       "Zambia            16.0\n",
       "Yemen            400.0\n",
       "Vietnam            1.0\n",
       "Venezuela          9.0\n",
       "                ...   \n",
       "Angola          2025.0\n",
       "Andorra        97344.0\n",
       "Algeria          196.0\n",
       "Albania         2916.0\n",
       "Afghanistan        NaN\n",
       "Name: wine_servings, Length: 193, dtype: float64"
      ]
     },
     "execution_count": 221,
     "metadata": {},
     "output_type": "execute_result"
    }
   ],
   "source": [
    "alcohol.map(lambda x: x**2) # equivalent like apply()"
   ]
  },
  {
   "cell_type": "code",
   "execution_count": 222,
   "id": "6a6fdb82-fc06-4b77-85e3-4ffc6e40a9ab",
   "metadata": {},
   "outputs": [],
   "source": [
    "# alcohol.map(multiply_by_self_with_min, min_serving=200) # won't work with map"
   ]
  },
  {
   "cell_type": "markdown",
   "id": "1bf6da7e-482a-4c23-b6ec-30e3686a8c4d",
   "metadata": {},
   "source": [
    "##### Transforms\n",
    "\n",
    "- update(): modifies series values in place using another series `ser.update(other_series)`\n",
    "- apply(): applies function (or ufunc) on each series value `ser.apply(np.sqrt)` **Most Flexible** `Recommanded`\n",
    "- map(): subs series values with others from a function, series (more input types), or dect `ser.map({'old_value': 'new_value'})`"
   ]
  },
  {
   "cell_type": "markdown",
   "id": "66547abe-cec5-43e1-b522-dc0e8c41ddca",
   "metadata": {},
   "source": [
    "# Skill Challege 😈"
   ]
  },
  {
   "cell_type": "code",
   "execution_count": 223,
   "id": "666d2b75-e27d-4659-98e6-ad9a4b0a69f3",
   "metadata": {},
   "outputs": [],
   "source": [
    "beer_serving = pd.read_csv(csv_url)"
   ]
  },
  {
   "cell_type": "code",
   "execution_count": 224,
   "id": "00f1f9b9-e1e1-4c9f-87ec-4d095683e940",
   "metadata": {},
   "outputs": [
    {
     "data": {
      "text/html": [
       "<div>\n",
       "<style scoped>\n",
       "    .dataframe tbody tr th:only-of-type {\n",
       "        vertical-align: middle;\n",
       "    }\n",
       "\n",
       "    .dataframe tbody tr th {\n",
       "        vertical-align: top;\n",
       "    }\n",
       "\n",
       "    .dataframe thead th {\n",
       "        text-align: right;\n",
       "    }\n",
       "</style>\n",
       "<table border=\"1\" class=\"dataframe\">\n",
       "  <thead>\n",
       "    <tr style=\"text-align: right;\">\n",
       "      <th></th>\n",
       "      <th>country</th>\n",
       "      <th>beer_servings</th>\n",
       "      <th>spirit_servings</th>\n",
       "      <th>wine_servings</th>\n",
       "      <th>total_litres_of_pure_alcohol</th>\n",
       "    </tr>\n",
       "  </thead>\n",
       "  <tbody>\n",
       "    <tr>\n",
       "      <th>0</th>\n",
       "      <td>Afghanistan</td>\n",
       "      <td>NaN</td>\n",
       "      <td>NaN</td>\n",
       "      <td>NaN</td>\n",
       "      <td>NaN</td>\n",
       "    </tr>\n",
       "    <tr>\n",
       "      <th>1</th>\n",
       "      <td>Albania</td>\n",
       "      <td>89.0</td>\n",
       "      <td>132.0</td>\n",
       "      <td>54.0</td>\n",
       "      <td>4.9</td>\n",
       "    </tr>\n",
       "    <tr>\n",
       "      <th>2</th>\n",
       "      <td>Algeria</td>\n",
       "      <td>25.0</td>\n",
       "      <td>NaN</td>\n",
       "      <td>14.0</td>\n",
       "      <td>0.7</td>\n",
       "    </tr>\n",
       "    <tr>\n",
       "      <th>3</th>\n",
       "      <td>Andorra</td>\n",
       "      <td>245.0</td>\n",
       "      <td>138.0</td>\n",
       "      <td>312.0</td>\n",
       "      <td>12.4</td>\n",
       "    </tr>\n",
       "    <tr>\n",
       "      <th>4</th>\n",
       "      <td>Angola</td>\n",
       "      <td>217.0</td>\n",
       "      <td>57.0</td>\n",
       "      <td>45.0</td>\n",
       "      <td>5.9</td>\n",
       "    </tr>\n",
       "    <tr>\n",
       "      <th>...</th>\n",
       "      <td>...</td>\n",
       "      <td>...</td>\n",
       "      <td>...</td>\n",
       "      <td>...</td>\n",
       "      <td>...</td>\n",
       "    </tr>\n",
       "    <tr>\n",
       "      <th>188</th>\n",
       "      <td>Venezuela</td>\n",
       "      <td>333.0</td>\n",
       "      <td>1.0</td>\n",
       "      <td>3.0</td>\n",
       "      <td>7.7</td>\n",
       "    </tr>\n",
       "    <tr>\n",
       "      <th>189</th>\n",
       "      <td>Vietnam</td>\n",
       "      <td>111.0</td>\n",
       "      <td>2.0</td>\n",
       "      <td>1.0</td>\n",
       "      <td>2.0</td>\n",
       "    </tr>\n",
       "    <tr>\n",
       "      <th>190</th>\n",
       "      <td>Yemen</td>\n",
       "      <td>6.0</td>\n",
       "      <td>NaN</td>\n",
       "      <td>NaN</td>\n",
       "      <td>0.1</td>\n",
       "    </tr>\n",
       "    <tr>\n",
       "      <th>191</th>\n",
       "      <td>Zambia</td>\n",
       "      <td>32.0</td>\n",
       "      <td>19.0</td>\n",
       "      <td>4.0</td>\n",
       "      <td>2.5</td>\n",
       "    </tr>\n",
       "    <tr>\n",
       "      <th>192</th>\n",
       "      <td>Zimbabwe</td>\n",
       "      <td>64.0</td>\n",
       "      <td>18.0</td>\n",
       "      <td>4.0</td>\n",
       "      <td>4.7</td>\n",
       "    </tr>\n",
       "  </tbody>\n",
       "</table>\n",
       "<p>193 rows × 5 columns</p>\n",
       "</div>"
      ],
      "text/plain": [
       "         country  beer_servings  spirit_servings  wine_servings  \\\n",
       "0    Afghanistan            NaN              NaN            NaN   \n",
       "1        Albania           89.0            132.0           54.0   \n",
       "2        Algeria           25.0              NaN           14.0   \n",
       "3        Andorra          245.0            138.0          312.0   \n",
       "4         Angola          217.0             57.0           45.0   \n",
       "..           ...            ...              ...            ...   \n",
       "188    Venezuela          333.0              1.0            3.0   \n",
       "189      Vietnam          111.0              2.0            1.0   \n",
       "190        Yemen            6.0              NaN            NaN   \n",
       "191       Zambia           32.0             19.0            4.0   \n",
       "192     Zimbabwe           64.0             18.0            4.0   \n",
       "\n",
       "     total_litres_of_pure_alcohol  \n",
       "0                             NaN  \n",
       "1                             4.9  \n",
       "2                             0.7  \n",
       "3                            12.4  \n",
       "4                             5.9  \n",
       "..                            ...  \n",
       "188                           7.7  \n",
       "189                           2.0  \n",
       "190                           0.1  \n",
       "191                           2.5  \n",
       "192                           4.7  \n",
       "\n",
       "[193 rows x 5 columns]"
      ]
     },
     "execution_count": 224,
     "metadata": {},
     "output_type": "execute_result"
    }
   ],
   "source": [
    "beer_serving"
   ]
  },
  {
   "cell_type": "code",
   "execution_count": 225,
   "id": "ff65f596-e564-455e-8000-7955350f2529",
   "metadata": {},
   "outputs": [
    {
     "data": {
      "text/plain": [
       "array([[<Axes: title={'center': 'beer_servings'}>,\n",
       "        <Axes: title={'center': 'spirit_servings'}>],\n",
       "       [<Axes: title={'center': 'wine_servings'}>,\n",
       "        <Axes: title={'center': 'total_litres_of_pure_alcohol'}>]],\n",
       "      dtype=object)"
      ]
     },
     "execution_count": 225,
     "metadata": {},
     "output_type": "execute_result"
    },
    {
     "data": {
      "image/png": "[encoded data removed]",
      "text/plain": [
       "<Figure size 640x480 with 4 Axes>"
      ]
     },
     "metadata": {},
     "output_type": "display_data"
    }
   ],
   "source": [
    "beer_serving.hist()"
   ]
  },
  {
   "cell_type": "code",
   "execution_count": 226,
   "id": "ed7b7a26-11e9-4233-b61a-1117cb9836fb",
   "metadata": {},
   "outputs": [
    {
     "data": {
      "text/plain": [
       "(pandas.core.frame.DataFrame,\n",
       " country                          object\n",
       " beer_servings                   float64\n",
       " spirit_servings                 float64\n",
       " wine_servings                   float64\n",
       " total_litres_of_pure_alcohol    float64\n",
       " dtype: object)"
      ]
     },
     "execution_count": 226,
     "metadata": {},
     "output_type": "execute_result"
    }
   ],
   "source": [
    "type(beer_serving), beer_serving.dtypes"
   ]
  },
  {
   "cell_type": "code",
   "execution_count": 227,
   "id": "db3efab1-ee3f-4289-aaf1-655955d56e10",
   "metadata": {},
   "outputs": [],
   "source": [
    "beers = pd.read_csv(csv_url, usecols=['country', 'beer_servings'], index_col='country').squeeze('columns')"
   ]
  },
  {
   "cell_type": "code",
   "execution_count": 228,
   "id": "4e4b7aac-68b4-413b-a7ae-178cb5da9ab7",
   "metadata": {},
   "outputs": [
    {
     "data": {
      "text/plain": [
       "country\n",
       "Afghanistan      NaN\n",
       "Albania         89.0\n",
       "Algeria         25.0\n",
       "Andorra        245.0\n",
       "Angola         217.0\n",
       "               ...  \n",
       "Venezuela      333.0\n",
       "Vietnam        111.0\n",
       "Yemen            6.0\n",
       "Zambia          32.0\n",
       "Zimbabwe        64.0\n",
       "Name: beer_servings, Length: 193, dtype: float64"
      ]
     },
     "execution_count": 228,
     "metadata": {},
     "output_type": "execute_result"
    }
   ],
   "source": [
    "beers"
   ]
  },
  {
   "cell_type": "code",
   "execution_count": 229,
   "id": "59281259-762c-4c4d-9174-af2d788279a3",
   "metadata": {},
   "outputs": [
    {
     "data": {
      "text/plain": [
       "(pandas.core.series.Series, dtype('float64'))"
      ]
     },
     "execution_count": 229,
     "metadata": {},
     "output_type": "execute_result"
    }
   ],
   "source": [
    "type(beers), beers.dtypes"
   ]
  },
  {
   "cell_type": "code",
   "execution_count": 230,
   "id": "39134826-f398-45c1-9256-cfdb8d412f21",
   "metadata": {},
   "outputs": [],
   "source": [
    "mean = beers.mean()"
   ]
  },
  {
   "cell_type": "code",
   "execution_count": 231,
   "id": "7360016d-69b7-48f2-b1ab-9240422b8042",
   "metadata": {},
   "outputs": [
    {
     "data": {
      "text/plain": [
       "np.float64(102.87078651685393)"
      ]
     },
     "execution_count": 231,
     "metadata": {},
     "output_type": "execute_result"
    }
   ],
   "source": [
    "mean"
   ]
  },
  {
   "cell_type": "code",
   "execution_count": 232,
   "id": "4ca60fef-bead-496c-80f7-e87175e40cfb",
   "metadata": {},
   "outputs": [],
   "source": [
    "median = beers.median()"
   ]
  },
  {
   "cell_type": "code",
   "execution_count": 233,
   "id": "85ca27e4-f524-49c6-8d3d-72ddc0bf183c",
   "metadata": {},
   "outputs": [
    {
     "data": {
      "text/plain": [
       "(np.float64(60.0), np.float64(60.0))"
      ]
     },
     "execution_count": 233,
     "metadata": {},
     "output_type": "execute_result"
    }
   ],
   "source": [
    "median, beers.quantile(.5)"
   ]
  },
  {
   "cell_type": "code",
   "execution_count": 234,
   "id": "00a8b70e-4d96-4833-9e45-256617d12fad",
   "metadata": {},
   "outputs": [],
   "source": [
    "std = beers.std()"
   ]
  },
  {
   "cell_type": "code",
   "execution_count": 235,
   "id": "c74cb38f-7a14-4878-b6cb-f3f95f600890",
   "metadata": {},
   "outputs": [
    {
     "data": {
      "text/plain": [
       "(np.float64(100.6457126793478),\n",
       " np.float64(100.6457126793478),\n",
       " np.float64(100.6457126793478))"
      ]
     },
     "execution_count": 235,
     "metadata": {},
     "output_type": "execute_result"
    }
   ],
   "source": [
    "std, beers.var()**(1/2), np.sqrt(beers.var())"
   ]
  },
  {
   "cell_type": "code",
   "execution_count": 236,
   "id": "b8a3428e-7198-46a3-b8b1-dc91580a93c0",
   "metadata": {},
   "outputs": [],
   "source": [
    "# it's right skweed, means, tails is on the right, not a normal distribution"
   ]
  },
  {
   "cell_type": "code",
   "execution_count": 237,
   "id": "269a594c-75ce-41fe-bede-06377a59c5e0",
   "metadata": {},
   "outputs": [
    {
     "data": {
      "text/plain": [
       "<Axes: >"
      ]
     },
     "execution_count": 237,
     "metadata": {},
     "output_type": "execute_result"
    },
    {
     "data": {
      "image/png": "[encoded data removed]",
      "text/plain": [
       "<Figure size 640x480 with 1 Axes>"
      ]
     },
     "metadata": {},
     "output_type": "display_data"
    }
   ],
   "source": [
    "beers.hist()"
   ]
  },
  {
   "cell_type": "code",
   "execution_count": 238,
   "id": "74ba692a-83f3-47d6-b764-080632115c05",
   "metadata": {},
   "outputs": [],
   "source": [
    "first_10_countries = beers.head(10)"
   ]
  },
  {
   "cell_type": "code",
   "execution_count": 239,
   "id": "3aa101cb-3adf-44ee-ae62-a6affd2d2773",
   "metadata": {},
   "outputs": [
    {
     "data": {
      "text/plain": [
       "country\n",
       "Afghanistan            NaN\n",
       "Albania               89.0\n",
       "Algeria               25.0\n",
       "Andorra              245.0\n",
       "Angola               217.0\n",
       "Antigua & Barbuda     12.0\n",
       "Argentina            193.0\n",
       "Armenia               21.0\n",
       "Australia            261.0\n",
       "Austria              279.0\n",
       "Name: beer_servings, dtype: float64"
      ]
     },
     "execution_count": 239,
     "metadata": {},
     "output_type": "execute_result"
    }
   ],
   "source": [
    "first_10_countries"
   ]
  },
  {
   "cell_type": "code",
   "execution_count": 241,
   "id": "1917c00c-107f-40eb-bc58-5dd5023b9ca7",
   "metadata": {},
   "outputs": [
    {
     "data": {
      "text/plain": [
       "count    178.000000\n",
       "mean     102.870787\n",
       "std      100.645713\n",
       "min        1.000000\n",
       "25%       21.000000\n",
       "50%       60.000000\n",
       "75%      172.500000\n",
       "max      376.000000\n",
       "Name: beer_servings, dtype: float64"
      ]
     },
     "execution_count": 241,
     "metadata": {},
     "output_type": "execute_result"
    }
   ],
   "source": [
    "beers.describe()"
   ]
  },
  {
   "cell_type": "code",
   "execution_count": 242,
   "id": "57aac82a-6e79-492b-aad7-3c92ecde6436",
   "metadata": {},
   "outputs": [
    {
     "data": {
      "text/plain": [
       "country\n",
       "Afghanistan                 NaN\n",
       "Albania              -13.870787\n",
       "Algeria              -77.870787\n",
       "Andorra              142.129213\n",
       "Angola               114.129213\n",
       "Antigua & Barbuda    -90.870787\n",
       "Argentina             90.129213\n",
       "Armenia              -81.870787\n",
       "Australia            158.129213\n",
       "Austria              176.129213\n",
       "Name: beer_servings, dtype: float64"
      ]
     },
     "execution_count": 242,
     "metadata": {},
     "output_type": "execute_result"
    }
   ],
   "source": [
    "first_10_countries - mean"
   ]
  },
  {
   "cell_type": "code",
   "execution_count": 243,
   "id": "cb642ed7-9988-46e5-b557-3aadd3bdef43",
   "metadata": {},
   "outputs": [
    {
     "data": {
      "text/plain": [
       "country\n",
       "Afghanistan          high\n",
       "Albania               low\n",
       "Algeria               low\n",
       "Andorra              high\n",
       "Angola               high\n",
       "Antigua & Barbuda     low\n",
       "Argentina            high\n",
       "Armenia               low\n",
       "Australia            high\n",
       "Austria              high\n",
       "Name: beer_servings, dtype: object"
      ]
     },
     "execution_count": 243,
     "metadata": {},
     "output_type": "execute_result"
    }
   ],
   "source": [
    "(first_10_countries - mean).apply(lambda x: 'low' if x < 0 else 'high')"
   ]
  },
  {
   "cell_type": "code",
   "execution_count": 244,
   "id": "7af75eea-5434-40cc-a2c9-4d4f575241d4",
   "metadata": {},
   "outputs": [
    {
     "data": {
      "text/plain": [
       "beer_servings\n",
       "low     112\n",
       "high     81\n",
       "Name: count, dtype: int64"
      ]
     },
     "execution_count": 244,
     "metadata": {},
     "output_type": "execute_result"
    }
   ],
   "source": [
    "(beers - mean).apply(lambda x: 'low' if x < 0 else 'high').value_counts()"
   ]
  },
  {
   "cell_type": "code",
   "execution_count": 245,
   "id": "d1125a7a-6e84-4bc8-baab-807e2d396c5d",
   "metadata": {},
   "outputs": [],
   "source": [
    "z_scores = (beers - mean) / std"
   ]
  },
  {
   "cell_type": "code",
   "execution_count": 246,
   "id": "cdab817a-a0c6-4cb6-a549-23f1bb501627",
   "metadata": {},
   "outputs": [
    {
     "data": {
      "text/plain": [
       "country\n",
       "Afghanistan         NaN\n",
       "Albania       -0.137818\n",
       "Algeria       -0.773712\n",
       "Andorra        1.412174\n",
       "Angola         1.133970\n",
       "                 ...   \n",
       "Venezuela      2.286528\n",
       "Vietnam        0.080771\n",
       "Yemen         -0.962493\n",
       "Zambia        -0.704161\n",
       "Zimbabwe      -0.386214\n",
       "Name: beer_servings, Length: 193, dtype: float64"
      ]
     },
     "execution_count": 246,
     "metadata": {},
     "output_type": "execute_result"
    }
   ],
   "source": [
    "z_scores # how much away from the mean, adjected by the standard deviation"
   ]
  },
  {
   "cell_type": "code",
   "execution_count": 247,
   "id": "5f6f6e41-c8d1-4e53-b2f9-ad71d0d3c215",
   "metadata": {},
   "outputs": [
    {
     "data": {
      "text/plain": [
       "np.float64(-1.0121721413152407)"
      ]
     },
     "execution_count": 247,
     "metadata": {},
     "output_type": "execute_result"
    }
   ],
   "source": [
    "z_scores.min()"
   ]
  },
  {
   "cell_type": "code",
   "execution_count": 248,
   "id": "24dd3ce0-9b04-4d93-8b25-c8b5d56e12c5",
   "metadata": {},
   "outputs": [
    {
     "data": {
      "text/plain": [
       "np.float64(2.713768984410912)"
      ]
     },
     "execution_count": 248,
     "metadata": {},
     "output_type": "execute_result"
    }
   ],
   "source": [
    "z_scores.max()"
   ]
  },
  {
   "cell_type": "code",
   "execution_count": 249,
   "id": "dc36e9a5-7ab2-47a5-9bcf-612fd3f5433b",
   "metadata": {},
   "outputs": [
    {
     "data": {
      "text/plain": [
       "np.float64(2.713768984410912)"
      ]
     },
     "execution_count": 249,
     "metadata": {},
     "output_type": "execute_result"
    }
   ],
   "source": [
    "z_scores.abs().max()"
   ]
  },
  {
   "cell_type": "code",
   "execution_count": 250,
   "id": "0c0314d4-08b4-4fb0-bab0-062506d663f9",
   "metadata": {},
   "outputs": [
    {
     "data": {
      "text/plain": [
       "'Namibia'"
      ]
     },
     "execution_count": 250,
     "metadata": {},
     "output_type": "execute_result"
    }
   ],
   "source": [
    "beers.idxmax()"
   ]
  },
  {
   "cell_type": "code",
   "execution_count": 251,
   "id": "dd4c4972-6917-4407-99b9-78be8df61f4e",
   "metadata": {},
   "outputs": [
    {
     "data": {
      "text/plain": [
       "np.float64(376.0)"
      ]
     },
     "execution_count": 251,
     "metadata": {},
     "output_type": "execute_result"
    }
   ],
   "source": [
    "beers[beers.idxmax()]"
   ]
  },
  {
   "cell_type": "code",
   "execution_count": 252,
   "id": "d625692d-567e-461a-820e-b023df36c99d",
   "metadata": {},
   "outputs": [],
   "source": [
    "# another way"
   ]
  },
  {
   "cell_type": "code",
   "execution_count": 253,
   "id": "14bd6a62-e199-4ad7-a743-58c7358ea614",
   "metadata": {},
   "outputs": [
    {
     "data": {
      "text/plain": [
       "np.float64(376.0)"
      ]
     },
     "execution_count": 253,
     "metadata": {},
     "output_type": "execute_result"
    }
   ],
   "source": [
    "z_scores.abs().max() * beers.std() + beers.mean() # z-score formula"
   ]
  },
  {
   "cell_type": "code",
   "execution_count": 266,
   "id": "da3c24c3-0f0d-4aa1-97a0-f3c2884d8283",
   "metadata": {},
   "outputs": [],
   "source": [
    "# ask GPT, to take a sample data set, find mean, median, mode, z-score, std and variance, also IQR and much more about this data set, now also ask to \n",
    "# draw a conclution on that data set like what do you think about this\n",
    "# make me master on this, calculations. like when and what to do,\n",
    "# practice on multiple data sets"
   ]
  },
  {
   "cell_type": "code",
   "execution_count": null,
   "id": "b8c1c849-b283-48cc-ae41-dd6abaf33711",
   "metadata": {},
   "outputs": [],
   "source": []
  }
 ],
 "metadata": {
  "kernelspec": {
   "display_name": "Python 3 (ipykernel)",
   "language": "python",
   "name": "python3"
  },
  "language_info": {
   "codemirror_mode": {
    "name": "ipython",
    "version": 3
   },
   "file_extension": ".py",
   "mimetype": "text/x-python",
   "name": "python",
   "nbconvert_exporter": "python",
   "pygments_lexer": "ipython3",
   "version": "3.9.21"
  }
 },
 "nbformat": 4,
 "nbformat_minor": 5
}
